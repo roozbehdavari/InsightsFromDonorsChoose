{
 "cells": [
  {
   "cell_type": "code",
   "execution_count": 1,
   "metadata": {
    "collapsed": false
   },
   "outputs": [
    {
     "name": "stderr",
     "output_type": "stream",
     "text": [
      "Loading required package: lattice\n"
     ]
    }
   ],
   "source": [
    "library('aod')\n",
    "library(ggplot2)\n",
    "library(caret)"
   ]
  },
  {
   "cell_type": "markdown",
   "metadata": {},
   "source": [
    "# Preprocessing"
   ]
  },
  {
   "cell_type": "markdown",
   "metadata": {},
   "source": [
    "The features are already selected. For mode details, see the preProcessing notebooks. \n",
    "\n",
    "Let's open the file:"
   ]
  },
  {
   "cell_type": "code",
   "execution_count": 44,
   "metadata": {
    "collapsed": false
   },
   "outputs": [],
   "source": [
    "features <- read.csv('features.csv')"
   ]
  },
  {
   "cell_type": "code",
   "execution_count": 45,
   "metadata": {
    "collapsed": false
   },
   "outputs": [
    {
     "data": {
      "text/html": [
       "<ol class=list-inline>\n",
       "\t<li>'X_projectid'</li>\n",
       "\t<li>'school_zip'</li>\n",
       "\t<li>'school_metro'</li>\n",
       "\t<li>'school_charter'</li>\n",
       "\t<li>'school_magnet'</li>\n",
       "\t<li>'school_year_round'</li>\n",
       "\t<li>'school_kipp'</li>\n",
       "\t<li>'school_charter_ready_promise'</li>\n",
       "\t<li>'teacher_teach_for_america'</li>\n",
       "\t<li>'grade_level'</li>\n",
       "\t<li>'total_price_excluding_optional_support'</li>\n",
       "\t<li>'total_price_including_optional_support'</li>\n",
       "\t<li>'students_reached'</li>\n",
       "\t<li>'eligible_double_your_impact_match'</li>\n",
       "\t<li>'eligible_almost_home_match'</li>\n",
       "\t<li>'funding_status'</li>\n",
       "\t<li>'funding_status_binary'</li>\n",
       "\t<li>'resource_type_grouped'</li>\n",
       "\t<li>'primary_focus_subject_grouped'</li>\n",
       "\t<li>'secondary_focus_subject_grouped'</li>\n",
       "\t<li>'poverty_level_grouped'</li>\n",
       "\t<li>'teacher_gender'</li>\n",
       "\t<li>'month_posted'</li>\n",
       "\t<li>'semester_posted'</li>\n",
       "\t<li>'previousProposal_Teacher'</li>\n",
       "\t<li>'previousProposal_School'</li>\n",
       "\t<li>'donor_per_zip'</li>\n",
       "\t<li>'donation_per_zip'</li>\n",
       "\t<li>'Giving_Page'</li>\n",
       "\t<li>'Promo_Code'</li>\n",
       "</ol>\n"
      ],
      "text/latex": [
       "\\begin{enumerate*}\n",
       "\\item 'X_projectid'\n",
       "\\item 'school_zip'\n",
       "\\item 'school_metro'\n",
       "\\item 'school_charter'\n",
       "\\item 'school_magnet'\n",
       "\\item 'school_year_round'\n",
       "\\item 'school_kipp'\n",
       "\\item 'school_charter_ready_promise'\n",
       "\\item 'teacher_teach_for_america'\n",
       "\\item 'grade_level'\n",
       "\\item 'total_price_excluding_optional_support'\n",
       "\\item 'total_price_including_optional_support'\n",
       "\\item 'students_reached'\n",
       "\\item 'eligible_double_your_impact_match'\n",
       "\\item 'eligible_almost_home_match'\n",
       "\\item 'funding_status'\n",
       "\\item 'funding_status_binary'\n",
       "\\item 'resource_type_grouped'\n",
       "\\item 'primary_focus_subject_grouped'\n",
       "\\item 'secondary_focus_subject_grouped'\n",
       "\\item 'poverty_level_grouped'\n",
       "\\item 'teacher_gender'\n",
       "\\item 'month_posted'\n",
       "\\item 'semester_posted'\n",
       "\\item 'previousProposal_Teacher'\n",
       "\\item 'previousProposal_School'\n",
       "\\item 'donor_per_zip'\n",
       "\\item 'donation_per_zip'\n",
       "\\item 'Giving_Page'\n",
       "\\item 'Promo_Code'\n",
       "\\end{enumerate*}\n"
      ],
      "text/markdown": [
       "1. 'X_projectid'\n",
       "2. 'school_zip'\n",
       "3. 'school_metro'\n",
       "4. 'school_charter'\n",
       "5. 'school_magnet'\n",
       "6. 'school_year_round'\n",
       "7. 'school_kipp'\n",
       "8. 'school_charter_ready_promise'\n",
       "9. 'teacher_teach_for_america'\n",
       "10. 'grade_level'\n",
       "11. 'total_price_excluding_optional_support'\n",
       "12. 'total_price_including_optional_support'\n",
       "13. 'students_reached'\n",
       "14. 'eligible_double_your_impact_match'\n",
       "15. 'eligible_almost_home_match'\n",
       "16. 'funding_status'\n",
       "17. 'funding_status_binary'\n",
       "18. 'resource_type_grouped'\n",
       "19. 'primary_focus_subject_grouped'\n",
       "20. 'secondary_focus_subject_grouped'\n",
       "21. 'poverty_level_grouped'\n",
       "22. 'teacher_gender'\n",
       "23. 'month_posted'\n",
       "24. 'semester_posted'\n",
       "25. 'previousProposal_Teacher'\n",
       "26. 'previousProposal_School'\n",
       "27. 'donor_per_zip'\n",
       "28. 'donation_per_zip'\n",
       "29. 'Giving_Page'\n",
       "30. 'Promo_Code'\n",
       "\n",
       "\n"
      ],
      "text/plain": [
       " [1] \"X_projectid\"                           \n",
       " [2] \"school_zip\"                            \n",
       " [3] \"school_metro\"                          \n",
       " [4] \"school_charter\"                        \n",
       " [5] \"school_magnet\"                         \n",
       " [6] \"school_year_round\"                     \n",
       " [7] \"school_kipp\"                           \n",
       " [8] \"school_charter_ready_promise\"          \n",
       " [9] \"teacher_teach_for_america\"             \n",
       "[10] \"grade_level\"                           \n",
       "[11] \"total_price_excluding_optional_support\"\n",
       "[12] \"total_price_including_optional_support\"\n",
       "[13] \"students_reached\"                      \n",
       "[14] \"eligible_double_your_impact_match\"     \n",
       "[15] \"eligible_almost_home_match\"            \n",
       "[16] \"funding_status\"                        \n",
       "[17] \"funding_status_binary\"                 \n",
       "[18] \"resource_type_grouped\"                 \n",
       "[19] \"primary_focus_subject_grouped\"         \n",
       "[20] \"secondary_focus_subject_grouped\"       \n",
       "[21] \"poverty_level_grouped\"                 \n",
       "[22] \"teacher_gender\"                        \n",
       "[23] \"month_posted\"                          \n",
       "[24] \"semester_posted\"                       \n",
       "[25] \"previousProposal_Teacher\"              \n",
       "[26] \"previousProposal_School\"               \n",
       "[27] \"donor_per_zip\"                         \n",
       "[28] \"donation_per_zip\"                      \n",
       "[29] \"Giving_Page\"                           \n",
       "[30] \"Promo_Code\"                            "
      ]
     },
     "execution_count": 45,
     "metadata": {},
     "output_type": "execute_result"
    }
   ],
   "source": [
    "names(features)"
   ]
  },
  {
   "cell_type": "markdown",
   "metadata": {},
   "source": [
    "## Actionable Important Features "
   ]
  },
  {
   "cell_type": "markdown",
   "metadata": {},
   "source": [
    "Only important actionable variables will go into logistic regression model. For more details, see Finding-Importanct-Variables notebook."
   ]
  },
  {
   "cell_type": "code",
   "execution_count": 48,
   "metadata": {
    "collapsed": false
   },
   "outputs": [],
   "source": [
    "categorical_col_names <- c('primary_focus_subject_grouped', 'resource_type_grouped'\n",
    "                           ,'eligible_double_your_impact_match', 'funding_status',\n",
    "                           'eligible_almost_home_match', 'semester_posted','Giving_Page','Promo_Code')\n",
    "numerical_col_names <- c('total_price_including_optional_support', 'students_reached',\n",
    "                          'previousProposal_Teacher','previousProposal_School')\n",
    "\n",
    "categorical_features <- features[,categorical_col_names]\n",
    "numerical_features <- features[,numerical_col_names]"
   ]
  },
  {
   "cell_type": "markdown",
   "metadata": {},
   "source": [
    "## Scaling  "
   ]
  },
  {
   "cell_type": "markdown",
   "metadata": {},
   "source": [
    "It doesn't hurt to make sure the categorical variables are seen as factors:"
   ]
  },
  {
   "cell_type": "code",
   "execution_count": 49,
   "metadata": {
    "collapsed": true
   },
   "outputs": [],
   "source": [
    "categorical_features <- sapply(categorical_features,function(col) as.factor(col))"
   ]
  },
  {
   "cell_type": "markdown",
   "metadata": {},
   "source": [
    "The make the coefficients more related:\n",
    "\n",
    "1. Divide the total price by 100 \n",
    "2. Divide the number of students reached by 10\n",
    "3. Divide the number or teacher's and school's previouse proposals by 5"
   ]
  },
  {
   "cell_type": "code",
   "execution_count": 50,
   "metadata": {
    "collapsed": true
   },
   "outputs": [],
   "source": [
    "numerical_features$total_price_including_optional_support <- numerical_features$total_price_including_optional_support/100\n",
    "numerical_features$students_reached <- numerical_features$students_reached/10\n",
    "numerical_features$previousProposal_Teacher <- numerical_features$previousProposal_Teacher / 5\n",
    "numerical_features$previousProposal_School <- numerical_features$previousProposal_School / 5"
   ]
  },
  {
   "cell_type": "markdown",
   "metadata": {},
   "source": [
    "Time to combine the numerical and categorical features:"
   ]
  },
  {
   "cell_type": "code",
   "execution_count": 51,
   "metadata": {
    "collapsed": true
   },
   "outputs": [],
   "source": [
    "features <- cbind.data.frame(categorical_features,numerical_features)"
   ]
  },
  {
   "cell_type": "code",
   "execution_count": 52,
   "metadata": {
    "collapsed": false
   },
   "outputs": [
    {
     "data": {
      "text/html": [
       "<table>\n",
       "<thead><tr><th></th><th scope=col>primary_focus_subject_grouped</th><th scope=col>resource_type_grouped</th><th scope=col>eligible_double_your_impact_match</th><th scope=col>funding_status</th><th scope=col>eligible_almost_home_match</th><th scope=col>semester_posted</th><th scope=col>Giving_Page</th><th scope=col>Promo_Code</th><th scope=col>total_price_including_optional_support</th><th scope=col>students_reached</th><th scope=col>previousProposal_Teacher</th><th scope=col>previousProposal_School</th></tr></thead>\n",
       "<tbody>\n",
       "\t<tr><th scope=row>1</th><td>literacy_math</td><td>Books_Supplies</td><td>0</td><td>completed</td><td>0</td><td>1st</td><td>0</td><td>0</td><td>6.5126</td><td>9</td><td>0.8</td><td>6.6</td></tr>\n",
       "\t<tr><th scope=row>2</th><td>literacy_math</td><td>Books_Supplies</td><td>0</td><td>completed</td><td>0</td><td>1st</td><td>0</td><td>0</td><td>3.775</td><td>6</td><td>0.8</td><td>6.6</td></tr>\n",
       "\t<tr><th scope=row>3</th><td>literacy_math</td><td>Technology_other</td><td>0</td><td>completed</td><td>0</td><td>1st</td><td>0</td><td>0</td><td>23.4626</td><td>12.5</td><td>0.4</td><td>6</td></tr>\n",
       "\t<tr><th scope=row>4</th><td>health</td><td>Books_Supplies</td><td>0</td><td>completed</td><td>0</td><td>1st</td><td>0</td><td>0</td><td>21.9126</td><td>15</td><td>0.2</td><td>5.4</td></tr>\n",
       "\t<tr><th scope=row>5</th><td>health</td><td>Technology_other</td><td>0</td><td>completed</td><td>0</td><td>1st</td><td>0</td><td>0</td><td>7.0874</td><td>20</td><td>0.8</td><td>26.2</td></tr>\n",
       "\t<tr><th scope=row>6</th><td>literacy_math</td><td>Technology_other</td><td>0</td><td>completed</td><td>0</td><td>1st</td><td>1</td><td>0</td><td>5.575</td><td>10</td><td>0.8</td><td>25.6</td></tr>\n",
       "</tbody>\n",
       "</table>\n"
      ],
      "text/latex": [
       "\\begin{tabular}{r|llllllllllll}\n",
       "  & primary_focus_subject_grouped & resource_type_grouped & eligible_double_your_impact_match & funding_status & eligible_almost_home_match & semester_posted & Giving_Page & Promo_Code & total_price_including_optional_support & students_reached & previousProposal_Teacher & previousProposal_School\\\\\n",
       "\\hline\n",
       "\t1 & literacy_math & Books_Supplies & 0 & completed & 0 & 1st & 0 & 0 & 6.5126 & 9 & 0.8 & 6.6\\\\\n",
       "\t2 & literacy_math & Books_Supplies & 0 & completed & 0 & 1st & 0 & 0 & 3.775 & 6 & 0.8 & 6.6\\\\\n",
       "\t3 & literacy_math & Technology_other & 0 & completed & 0 & 1st & 0 & 0 & 23.4626 & 12.5 & 0.4 & 6\\\\\n",
       "\t4 & health & Books_Supplies & 0 & completed & 0 & 1st & 0 & 0 & 21.9126 & 15 & 0.2 & 5.4\\\\\n",
       "\t5 & health & Technology_other & 0 & completed & 0 & 1st & 0 & 0 & 7.0874 & 20 & 0.8 & 26.2\\\\\n",
       "\t6 & literacy_math & Technology_other & 0 & completed & 0 & 1st & 1 & 0 & 5.575 & 10 & 0.8 & 25.6\\\\\n",
       "\\end{tabular}\n"
      ],
      "text/plain": [
       "  primary_focus_subject_grouped resource_type_grouped\n",
       "1                 literacy_math        Books_Supplies\n",
       "2                 literacy_math        Books_Supplies\n",
       "3                 literacy_math      Technology_other\n",
       "4                        health        Books_Supplies\n",
       "5                        health      Technology_other\n",
       "6                 literacy_math      Technology_other\n",
       "  eligible_double_your_impact_match funding_status eligible_almost_home_match\n",
       "1                                 0      completed                          0\n",
       "2                                 0      completed                          0\n",
       "3                                 0      completed                          0\n",
       "4                                 0      completed                          0\n",
       "5                                 0      completed                          0\n",
       "6                                 0      completed                          0\n",
       "  semester_posted Giving_Page Promo_Code total_price_including_optional_support\n",
       "1             1st           0          0                                 6.5126\n",
       "2             1st           0          0                                 3.7750\n",
       "3             1st           0          0                                23.4626\n",
       "4             1st           0          0                                21.9126\n",
       "5             1st           0          0                                 7.0874\n",
       "6             1st           1          0                                 5.5750\n",
       "  students_reached previousProposal_Teacher previousProposal_School\n",
       "1              9.0                      0.8                     6.6\n",
       "2              6.0                      0.8                     6.6\n",
       "3             12.5                      0.4                     6.0\n",
       "4             15.0                      0.2                     5.4\n",
       "5             20.0                      0.8                    26.2\n",
       "6             10.0                      0.8                    25.6"
      ]
     },
     "execution_count": 52,
     "metadata": {},
     "output_type": "execute_result"
    }
   ],
   "source": [
    "head(features)"
   ]
  },
  {
   "cell_type": "markdown",
   "metadata": {},
   "source": [
    "## Setting The Reference Level "
   ]
  },
  {
   "cell_type": "markdown",
   "metadata": {},
   "source": [
    "Something that will my life easier is to set the reference level of categorical variables. The levels of a factor are re-ordered so that the level specified by ref is first and the others are moved down.\n",
    "\n",
    "The reference level is choosen base on the explanatory analysis. For more details see preprocessing notebooks."
   ]
  },
  {
   "cell_type": "code",
   "execution_count": 53,
   "metadata": {
    "collapsed": true
   },
   "outputs": [],
   "source": [
    "# Music & Art are the most funded subjects\n",
    "features$primary_focus_subject_grouped <- relevel(features$primary_focus_subject_grouped, ref='music_art')\n",
    "\n",
    "# Trips & Visitors are the most funded requested resources\n",
    "features$resource_type_grouped <- relevel(features$resource_type_grouped, ref='Trips_Visitor')\n",
    "\n",
    "# Interested in the increase chance of success and not the other way\n",
    "features$funding_status <- relevel(features$funding_status, ref='expired')"
   ]
  },
  {
   "cell_type": "markdown",
   "metadata": {},
   "source": [
    "## Renaming Columns "
   ]
  },
  {
   "cell_type": "markdown",
   "metadata": {},
   "source": [
    "Some column names are funky. Need to make them more readable."
   ]
  },
  {
   "cell_type": "code",
   "execution_count": 54,
   "metadata": {
    "collapsed": false
   },
   "outputs": [
    {
     "data": {
      "text/html": [
       "<ol class=list-inline>\n",
       "\t<li>'primary_focus_subject_grouped'</li>\n",
       "\t<li>'resource_type_grouped'</li>\n",
       "\t<li>'eligible_double_your_impact_match'</li>\n",
       "\t<li>'funding_status'</li>\n",
       "\t<li>'eligible_almost_home_match'</li>\n",
       "\t<li>'semester_posted'</li>\n",
       "\t<li>'Giving_Page'</li>\n",
       "\t<li>'Promo_Code'</li>\n",
       "\t<li>'total_price_including_optional_support'</li>\n",
       "\t<li>'students_reached'</li>\n",
       "\t<li>'previousProposal_Teacher'</li>\n",
       "\t<li>'previousProposal_School'</li>\n",
       "</ol>\n"
      ],
      "text/latex": [
       "\\begin{enumerate*}\n",
       "\\item 'primary_focus_subject_grouped'\n",
       "\\item 'resource_type_grouped'\n",
       "\\item 'eligible_double_your_impact_match'\n",
       "\\item 'funding_status'\n",
       "\\item 'eligible_almost_home_match'\n",
       "\\item 'semester_posted'\n",
       "\\item 'Giving_Page'\n",
       "\\item 'Promo_Code'\n",
       "\\item 'total_price_including_optional_support'\n",
       "\\item 'students_reached'\n",
       "\\item 'previousProposal_Teacher'\n",
       "\\item 'previousProposal_School'\n",
       "\\end{enumerate*}\n"
      ],
      "text/markdown": [
       "1. 'primary_focus_subject_grouped'\n",
       "2. 'resource_type_grouped'\n",
       "3. 'eligible_double_your_impact_match'\n",
       "4. 'funding_status'\n",
       "5. 'eligible_almost_home_match'\n",
       "6. 'semester_posted'\n",
       "7. 'Giving_Page'\n",
       "8. 'Promo_Code'\n",
       "9. 'total_price_including_optional_support'\n",
       "10. 'students_reached'\n",
       "11. 'previousProposal_Teacher'\n",
       "12. 'previousProposal_School'\n",
       "\n",
       "\n"
      ],
      "text/plain": [
       " [1] \"primary_focus_subject_grouped\"         \n",
       " [2] \"resource_type_grouped\"                 \n",
       " [3] \"eligible_double_your_impact_match\"     \n",
       " [4] \"funding_status\"                        \n",
       " [5] \"eligible_almost_home_match\"            \n",
       " [6] \"semester_posted\"                       \n",
       " [7] \"Giving_Page\"                           \n",
       " [8] \"Promo_Code\"                            \n",
       " [9] \"total_price_including_optional_support\"\n",
       "[10] \"students_reached\"                      \n",
       "[11] \"previousProposal_Teacher\"              \n",
       "[12] \"previousProposal_School\"               "
      ]
     },
     "execution_count": 54,
     "metadata": {},
     "output_type": "execute_result"
    }
   ],
   "source": [
    "names(features)"
   ]
  },
  {
   "cell_type": "code",
   "execution_count": 55,
   "metadata": {
    "collapsed": true
   },
   "outputs": [],
   "source": [
    "colnames(features) <- c('Subject_', 'Resource_', 'Double_Match_', 'funding_status', 'Promo_Matched_',\n",
    "                        'Almost_Home_Match_', 'Semester_Posted_', 'Giving_Page_', 'Total_Price', 'Students_Reached',\n",
    "                        'PreviousProposal_Teacher', 'PreviousProposal_School')"
   ]
  },
  {
   "cell_type": "markdown",
   "metadata": {},
   "source": [
    "## Train/Test "
   ]
  },
  {
   "cell_type": "markdown",
   "metadata": {},
   "source": [
    "\n",
    "\n",
    "\n",
    "\n",
    "\n",
    "\n",
    "\n"
   ]
  },
  {
   "cell_type": "markdown",
   "metadata": {},
   "source": [
    "75% goes to the training dataset and the rest to the test dataset."
   ]
  },
  {
   "cell_type": "code",
   "execution_count": 56,
   "metadata": {
    "collapsed": false
   },
   "outputs": [
    {
     "data": {
      "text/html": [
       "<ol class=list-inline>\n",
       "\t<li>15124</li>\n",
       "\t<li>12</li>\n",
       "</ol>\n"
      ],
      "text/latex": [
       "\\begin{enumerate*}\n",
       "\\item 15124\n",
       "\\item 12\n",
       "\\end{enumerate*}\n"
      ],
      "text/markdown": [
       "1. 15124\n",
       "2. 12\n",
       "\n",
       "\n"
      ],
      "text/plain": [
       "[1] 15124    12"
      ]
     },
     "execution_count": 56,
     "metadata": {},
     "output_type": "execute_result"
    },
    {
     "data": {
      "text/html": [
       "<ol class=list-inline>\n",
       "\t<li>5041</li>\n",
       "\t<li>12</li>\n",
       "</ol>\n"
      ],
      "text/latex": [
       "\\begin{enumerate*}\n",
       "\\item 5041\n",
       "\\item 12\n",
       "\\end{enumerate*}\n"
      ],
      "text/markdown": [
       "1. 5041\n",
       "2. 12\n",
       "\n",
       "\n"
      ],
      "text/plain": [
       "[1] 5041   12"
      ]
     },
     "execution_count": 56,
     "metadata": {},
     "output_type": "execute_result"
    }
   ],
   "source": [
    "set.seed(3456)\n",
    "trainIndex <- createDataPartition(features$funding_status, p = .75, list = FALSE)\n",
    "\n",
    "train <- features[ trainIndex,]\n",
    "test  <- features[-trainIndex,]\n",
    "\n",
    "dim(train)\n",
    "dim(test)"
   ]
  },
  {
   "cell_type": "markdown",
   "metadata": {},
   "source": [
    "Good! Ready for feeding it into the dear GLM!"
   ]
  },
  {
   "cell_type": "markdown",
   "metadata": {},
   "source": [
    "# Building Model"
   ]
  },
  {
   "cell_type": "markdown",
   "metadata": {},
   "source": [
    "Logit provides the insight we are looking for."
   ]
  },
  {
   "cell_type": "code",
   "execution_count": 57,
   "metadata": {
    "collapsed": true
   },
   "outputs": [],
   "source": [
    "mylogit <- glm(funding_status ~ Total_Price + Giving_Page_ + Semester_Posted_ + PreviousProposal_Teacher +\n",
    "               PreviousProposal_School + Students_Reached + Double_Match_ + Almost_Home_Match_ + Promo_Matched_ + \n",
    "               Subject_ + Resource_ , data=train,family=binomial(logit))"
   ]
  },
  {
   "cell_type": "code",
   "execution_count": 58,
   "metadata": {
    "collapsed": false
   },
   "outputs": [
    {
     "data": {
      "text/plain": [
       "\n",
       "Call:\n",
       "glm(formula = funding_status ~ Total_Price + Giving_Page_ + Semester_Posted_ + \n",
       "    PreviousProposal_Teacher + PreviousProposal_School + Students_Reached + \n",
       "    Double_Match_ + Almost_Home_Match_ + Promo_Matched_ + Subject_ + \n",
       "    Resource_, family = binomial(logit), data = train)\n",
       "\n",
       "Deviance Residuals: \n",
       "    Min       1Q   Median       3Q      Max  \n",
       "-2.9985   0.2626   0.3550   0.5168   5.8911  \n",
       "\n",
       "Coefficients:\n",
       "                            Estimate Std. Error z value Pr(>|z|)    \n",
       "(Intercept)                3.0308166  0.3003789  10.090  < 2e-16 ***\n",
       "Total_Price               -0.0387752  0.0034260 -11.318  < 2e-16 ***\n",
       "Giving_Page_1             -0.0198695  0.0708133  -0.281 0.779025    \n",
       "Semester_Posted_1          1.9399790  0.0588751  32.951  < 2e-16 ***\n",
       "PreviousProposal_Teacher   0.0157188  0.0054379   2.891 0.003845 ** \n",
       "PreviousProposal_School    0.0055657  0.0014644   3.801 0.000144 ***\n",
       "Students_Reached          -0.0008564  0.0010607  -0.807 0.419409    \n",
       "Double_Match_1            -0.1157080  0.0548307  -2.110 0.034835 *  \n",
       "Almost_Home_Match_2nd     -0.4857996  0.0514570  -9.441  < 2e-16 ***\n",
       "Promo_Matched_1           -0.2419358  0.1019725  -2.373 0.017665 *  \n",
       "Subject_community_related -0.1929701  0.1203326  -1.604 0.108794    \n",
       "Subject_health            -0.4113427  0.1135506  -3.623 0.000292 ***\n",
       "Subject_history_civics    -0.3863510  0.1329140  -2.907 0.003652 ** \n",
       "Subject_literacy_math     -0.6216912  0.0943795  -6.587 4.48e-11 ***\n",
       "Subject_other             -0.3973200  0.1631789  -2.435 0.014897 *  \n",
       "Resource_Books_Supplies   -1.0923978  0.2809635  -3.888 0.000101 ***\n",
       "Resource_Technology_other -1.5836059  0.2784083  -5.688 1.28e-08 ***\n",
       "---\n",
       "Signif. codes:  0 ‘***’ 0.001 ‘**’ 0.01 ‘*’ 0.05 ‘.’ 0.1 ‘ ’ 1\n",
       "\n",
       "(Dispersion parameter for binomial family taken to be 1)\n",
       "\n",
       "    Null deviance: 12317  on 15123  degrees of freedom\n",
       "Residual deviance: 10361  on 15107  degrees of freedom\n",
       "AIC: 10395\n",
       "\n",
       "Number of Fisher Scoring iterations: 5\n"
      ]
     },
     "execution_count": 58,
     "metadata": {},
     "output_type": "execute_result"
    }
   ],
   "source": [
    "summary(mylogit)"
   ]
  },
  {
   "cell_type": "markdown",
   "metadata": {},
   "source": [
    "Ha! The promotions are not that effective. Interesting. Almost home match is marginally important.\n",
    "\n",
    "Confidence intervals for odds ratios should tell us more."
   ]
  },
  {
   "cell_type": "code",
   "execution_count": 80,
   "metadata": {
    "collapsed": false
   },
   "outputs": [
    {
     "name": "stderr",
     "output_type": "stream",
     "text": [
      "Waiting for profiling to be done...\n"
     ]
    },
    {
     "data": {
      "text/html": [
       "<table>\n",
       "<thead><tr><th></th><th scope=col>OR</th><th scope=col>2.5 %</th><th scope=col>97.5 %</th><th scope=col>Prob</th></tr></thead>\n",
       "<tbody>\n",
       "\t<tr><th scope=row>(Intercept)</th><td>20.71414</td><td>11.82449</td><td>38.59028</td><td>2.12105</td></tr>\n",
       "\t<tr><th scope=row>Total_Price</th><td>0.961967</td><td>0.9553884</td><td>0.9683012</td><td>0.9604635</td></tr>\n",
       "\t<tr><th scope=row>Giving_Page_1</th><td>0.9803266</td><td>0.8539877</td><td>1.127312</td><td>0.9799318</td></tr>\n",
       "\t<tr><th scope=row>Semester_Posted_1</th><td>6.958605</td><td>6.203888</td><td>7.814624</td><td>1.934524</td></tr>\n",
       "\t<tr><th scope=row>PreviousProposal_Teacher</th><td>1.015843</td><td>1.005195</td><td>1.026863</td><td>1.015596</td></tr>\n",
       "\t<tr><th scope=row>PreviousProposal_School</th><td>1.005581</td><td>1.002725</td><td>1.008498</td><td>1.00555</td></tr>\n",
       "\t<tr><th scope=row>Students_Reached</th><td>0.9991439</td><td>0.99674</td><td>1.00141</td><td>0.9991432</td></tr>\n",
       "\t<tr><th scope=row>Double_Match_1</th><td>0.8907353</td><td>0.7999915</td><td>0.9918411</td><td>0.877351</td></tr>\n",
       "\t<tr><th scope=row>Almost_Home_Match_2nd</th><td>0.6152051</td><td>0.5560645</td><td>0.6803577</td><td>0.3887702</td></tr>\n",
       "\t<tr><th scope=row>Promo_Matched_1</th><td>0.7851066</td><td>0.6447286</td><td>0.9618272</td><td>0.7267669</td></tr>\n",
       "\t<tr><th scope=row>Subject_community_related</th><td>0.8245067</td><td>0.6508197</td><td>1.043387</td><td>0.7873272</td></tr>\n",
       "\t<tr><th scope=row>Subject_health</th><td>0.6627597</td><td>0.5297694</td><td>0.8269959</td><td>0.4971908</td></tr>\n",
       "\t<tr><th scope=row>Subject_history_civics</th><td>0.679532</td><td>0.5238596</td><td>0.8823643</td><td>0.532807</td></tr>\n",
       "\t<tr><th scope=row>Subject_literacy_math</th><td>0.5370354</td><td>0.4450293</td><td>0.6443981</td><td>0.1933326</td></tr>\n",
       "\t<tr><th scope=row>Subject_other</th><td>0.6721189</td><td>0.489665</td><td>0.9289669</td><td>0.5172363</td></tr>\n",
       "\t<tr><th scope=row>Resource_Books_Supplies</th><td>0.3354113</td><td>0.1865905</td><td>0.5644724</td><td>136320.3</td></tr>\n",
       "\t<tr><th scope=row>Resource_Technology_other</th><td>0.2052337</td><td>0.1147456</td><td>0.3436655</td><td>15.08175</td></tr>\n",
       "</tbody>\n",
       "</table>\n"
      ],
      "text/latex": [
       "\\begin{tabular}{r|llll}\n",
       "  & OR & 2.5 % & 97.5 % & Prob\\\\\n",
       "\\hline\n",
       "\t(Intercept) & 20.71414 & 11.82449 & 38.59028 & 2.12105\\\\\n",
       "\tTotal_Price & 0.961967 & 0.9553884 & 0.9683012 & 0.9604635\\\\\n",
       "\tGiving_Page_1 & 0.9803266 & 0.8539877 & 1.127312 & 0.9799318\\\\\n",
       "\tSemester_Posted_1 & 6.958605 & 6.203888 & 7.814624 & 1.934524\\\\\n",
       "\tPreviousProposal_Teacher & 1.015843 & 1.005195 & 1.026863 & 1.015596\\\\\n",
       "\tPreviousProposal_School & 1.005581 & 1.002725 & 1.008498 & 1.00555\\\\\n",
       "\tStudents_Reached & 0.9991439 & 0.99674 & 1.00141 & 0.9991432\\\\\n",
       "\tDouble_Match_1 & 0.8907353 & 0.7999915 & 0.9918411 & 0.877351\\\\\n",
       "\tAlmost_Home_Match_2nd & 0.6152051 & 0.5560645 & 0.6803577 & 0.3887702\\\\\n",
       "\tPromo_Matched_1 & 0.7851066 & 0.6447286 & 0.9618272 & 0.7267669\\\\\n",
       "\tSubject_community_related & 0.8245067 & 0.6508197 & 1.043387 & 0.7873272\\\\\n",
       "\tSubject_health & 0.6627597 & 0.5297694 & 0.8269959 & 0.4971908\\\\\n",
       "\tSubject_history_civics & 0.679532 & 0.5238596 & 0.8823643 & 0.532807\\\\\n",
       "\tSubject_literacy_math & 0.5370354 & 0.4450293 & 0.6443981 & 0.1933326\\\\\n",
       "\tSubject_other & 0.6721189 & 0.489665 & 0.9289669 & 0.5172363\\\\\n",
       "\tResource_Books_Supplies & 0.3354113 & 0.1865905 & 0.5644724 & 136320.3\\\\\n",
       "\tResource_Technology_other & 0.2052337 & 0.1147456 & 0.3436655 & 15.08175\\\\\n",
       "\\end{tabular}\n"
      ],
      "text/markdown": [
       "1. 20.7141403994934\n",
       "2. 0.961966953059564\n",
       "3. 0.98032660911129\n",
       "4. 6.95860486259894\n",
       "5. 1.01584294565403\n",
       "6. 1.00558117972381\n",
       "7. 0.99914393149992\n",
       "8. 0.890735308424032\n",
       "9. 0.615205095249174\n",
       "10. 0.785106589029001\n",
       "11. 0.824506654621118\n",
       "12. 0.662759735354103\n",
       "13. 0.679531988005702\n",
       "14. 0.537035437367182\n",
       "15. 0.672118898084621\n",
       "16. 0.335411263224522\n",
       "17. 0.205233712363831\n",
       "18. 11.8244916876413\n",
       "19. 0.955388354147399\n",
       "20. 0.853987718116298\n",
       "21. 6.20388791616754\n",
       "22. 1.00519548202073\n",
       "23. 1.0027245456166\n",
       "24. 0.996740042443883\n",
       "25. 0.799991481834284\n",
       "26. 0.55606448437886\n",
       "27. 0.644728593206139\n",
       "28. 0.650819695215582\n",
       "29. 0.529769422888228\n",
       "30. 0.523859634843837\n",
       "31. 0.445029293277676\n",
       "32. 0.489664957151116\n",
       "33. 0.186590451833167\n",
       "34. 0.114745615120482\n",
       "35. 38.5902775741644\n",
       "36. 0.968301241888666\n",
       "37. 1.12731194596145\n",
       "38. 7.81462435747707\n",
       "39. 1.02686274956033\n",
       "40. 1.00849832578789\n",
       "41. 1.00141029528612\n",
       "42. 0.991841056971476\n",
       "43. 0.680357744005171\n",
       "44. 0.961827156448724\n",
       "45. 1.04338725592856\n",
       "46. 0.826995879796232\n",
       "47. 0.88236430645414\n",
       "48. 0.644398065044218\n",
       "49. 0.928966924640239\n",
       "50. 0.564472399708578\n",
       "51. 0.343665460384208\n",
       "52. 2.12105013156078\n",
       "53. 0.960463453726297\n",
       "54. 0.979931813077704\n",
       "55. 1.93452441598448\n",
       "56. 1.01559586620203\n",
       "57. 1.00555020312221\n",
       "58. 0.999143198018777\n",
       "59. 0.877350998268062\n",
       "60. 0.388770152111208\n",
       "61. 0.726766914407509\n",
       "62. 0.787327160913539\n",
       "63. 0.497190808518393\n",
       "64. 0.532807014648071\n",
       "65. 0.193332614365188\n",
       "66. 0.517236331527456\n",
       "67. 136320.33567868\n",
       "68. 15.0817455526966\n",
       "\n",
       "\n"
      ],
      "text/plain": [
       "                                  OR      2.5 %     97.5 %         Prob\n",
       "(Intercept)               20.7141404 11.8244917 38.5902776 2.121050e+00\n",
       "Total_Price                0.9619670  0.9553884  0.9683012 9.604635e-01\n",
       "Giving_Page_1              0.9803266  0.8539877  1.1273119 9.799318e-01\n",
       "Semester_Posted_1          6.9586049  6.2038879  7.8146244 1.934524e+00\n",
       "PreviousProposal_Teacher   1.0158429  1.0051955  1.0268627 1.015596e+00\n",
       "PreviousProposal_School    1.0055812  1.0027245  1.0084983 1.005550e+00\n",
       "Students_Reached           0.9991439  0.9967400  1.0014103 9.991432e-01\n",
       "Double_Match_1             0.8907353  0.7999915  0.9918411 8.773510e-01\n",
       "Almost_Home_Match_2nd      0.6152051  0.5560645  0.6803577 3.887702e-01\n",
       "Promo_Matched_1            0.7851066  0.6447286  0.9618272 7.267669e-01\n",
       "Subject_community_related  0.8245067  0.6508197  1.0433873 7.873272e-01\n",
       "Subject_health             0.6627597  0.5297694  0.8269959 4.971908e-01\n",
       "Subject_history_civics     0.6795320  0.5238596  0.8823643 5.328070e-01\n",
       "Subject_literacy_math      0.5370354  0.4450293  0.6443981 1.933326e-01\n",
       "Subject_other              0.6721189  0.4896650  0.9289669 5.172363e-01\n",
       "Resource_Books_Supplies    0.3354113  0.1865905  0.5644724 1.363203e+05\n",
       "Resource_Technology_other  0.2052337  0.1147456  0.3436655 1.508175e+01"
      ]
     },
     "execution_count": 80,
     "metadata": {},
     "output_type": "execute_result"
    }
   ],
   "source": [
    "## odds ratios and 95% CI\n",
    "exp(cbind(OR = coef(mylogit), confint(mylogit), Prob = coef(mylogit)/(coef(mylogit) + 1)))"
   ]
  },
  {
   "cell_type": "code",
   "execution_count": null,
   "metadata": {
    "collapsed": false
   },
   "outputs": [],
   "source": []
  },
  {
   "cell_type": "markdown",
   "metadata": {},
   "source": [
    "# Model Accuracy "
   ]
  },
  {
   "cell_type": "code",
   "execution_count": 60,
   "metadata": {
    "collapsed": true
   },
   "outputs": [],
   "source": [
    "Y_test <- test$funding_status\n",
    "test$funding_status <- NULL"
   ]
  },
  {
   "cell_type": "code",
   "execution_count": 73,
   "metadata": {
    "collapsed": false
   },
   "outputs": [],
   "source": [
    "prediction <- rep('completed',length(Y_test))\n",
    "\n",
    "prediction_prob <- predict(mylogit,test,type='response')\n",
    "prediction[prediction_prob < 0.73] <- 'expired'"
   ]
  },
  {
   "cell_type": "code",
   "execution_count": 74,
   "metadata": {
    "collapsed": false
   },
   "outputs": [
    {
     "name": "stderr",
     "output_type": "stream",
     "text": [
      "Warning message:\n",
      "In confusionMatrix.default(Y_test, prediction): Levels are not in the same order for reference and data. Refactoring data to match."
     ]
    },
    {
     "data": {
      "text/plain": [
       "Confusion Matrix and Statistics\n",
       "\n",
       "           Reference\n",
       "Prediction  completed expired\n",
       "  completed      3784     545\n",
       "  expired         333     379\n",
       "                                          \n",
       "               Accuracy : 0.8258          \n",
       "                 95% CI : (0.8151, 0.8362)\n",
       "    No Information Rate : 0.8167          \n",
       "    P-Value [Acc > NIR] : 0.04813         \n",
       "                                          \n",
       "                  Kappa : 0.3614          \n",
       " Mcnemar's Test P-Value : 1.072e-12       \n",
       "                                          \n",
       "            Sensitivity : 0.9191          \n",
       "            Specificity : 0.4102          \n",
       "         Pos Pred Value : 0.8741          \n",
       "         Neg Pred Value : 0.5323          \n",
       "             Prevalence : 0.8167          \n",
       "         Detection Rate : 0.7506          \n",
       "   Detection Prevalence : 0.8588          \n",
       "      Balanced Accuracy : 0.6646          \n",
       "                                          \n",
       "       'Positive' Class : completed       \n",
       "                                          "
      ]
     },
     "execution_count": 74,
     "metadata": {},
     "output_type": "execute_result"
    }
   ],
   "source": [
    "confusionMatrix(Y_test,prediction)"
   ]
  }
 ],
 "metadata": {
  "kernelspec": {
   "display_name": "R",
   "language": "",
   "name": "ir"
  },
  "language_info": {
   "codemirror_mode": "r",
   "file_extension": ".r",
   "mimetype": "text/x-r-source",
   "name": "R",
   "pygments_lexer": "r",
   "version": "3.2.0"
  }
 },
 "nbformat": 4,
 "nbformat_minor": 0
}
