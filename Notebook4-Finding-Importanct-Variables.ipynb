{
 "cells": [
  {
   "cell_type": "code",
   "execution_count": 2,
   "metadata": {
    "collapsed": true
   },
   "outputs": [],
   "source": [
    "%matplotlib inline\n",
    "import matplotlib.patches as mpatches\n",
    "import pandas as pd\n",
    "import numpy as np\n",
    "import matplotlib.pyplot as plt\n",
    "import matplotlib\n",
    "from scipy import stats\n",
    "\n",
    "from sklearn import preprocessing\n",
    "from sklearn.preprocessing import OneHotEncoder\n",
    "from sklearn.grid_search import GridSearchCV\n",
    "\n",
    "from sklearn.metrics import confusion_matrix\n",
    "from sklearn.metrics import accuracy_score\n",
    "from sklearn.metrics import classification_report\n",
    "from sklearn.metrics import precision_recall_fscore_support\n",
    "from sklearn.metrics import precision_recall_curve\n",
    "from sklearn.metrics import roc_curve\n",
    "from sklearn.metrics import auc\n",
    "from sklearn.metrics import mean_squared_error\n",
    "\n",
    "from sklearn.linear_model import LogisticRegression\n",
    "from sklearn.ensemble import GradientBoostingClassifier\n",
    "from sklearn.ensemble import RandomForestClassifier \n",
    "\n",
    "from sklearn.utils import shuffle\n",
    "from sklearn.cross_validation import train_test_split"
   ]
  },
  {
   "cell_type": "markdown",
   "metadata": {},
   "source": [
    "# Helper Functions"
   ]
  },
  {
   "cell_type": "code",
   "execution_count": 3,
   "metadata": {
    "collapsed": false
   },
   "outputs": [],
   "source": [
    "## Turn a categorical variable into encoded integers\n",
    "def Label(variable):\n",
    "    le = preprocessing.LabelEncoder()\n",
    "    labeled = le.fit_transform(variable)\n",
    "    return labeled\n",
    "\n",
    "## Goodness of the fit metric\n",
    "def plot_roc_curve(target_test, target_predicted_proba,type_of_model=None):\n",
    "    matplotlib.style.use('ggplot')\n",
    "    fpr, tpr, thresholds = roc_curve(target_test, target_predicted_proba[:, 1])\n",
    "    \n",
    "    roc_auc = auc(fpr, tpr)\n",
    "    # Plot ROC curve\n",
    "    if type_of_model:\n",
    "        plt.plot(fpr, tpr, label= type_of_model + ' (area = %0.3f)' % roc_auc)\n",
    "    else:\n",
    "        plt.plot(fpr, tpr, label='ROC curve (area = %0.3f)' % roc_auc)\n",
    "    plt.plot([0, 1], [0, 1], 'k--')  # random predictions curve\n",
    "    plt.xlim([0.0, 1.0])\n",
    "    plt.ylim([0.0, 1.0])\n",
    "    plt.xlabel('False Positive Rate or (1 - Specifity)')\n",
    "    plt.ylabel('True Positive Rate or (Sensitivity)')\n",
    "    plt.title('Receiver Operating Characteristic')\n",
    "    plt.legend(loc=\"lower right\")\n",
    "    \n",
    "\n",
    "## Plotting unnormalized and normalized confusion matrices \n",
    "## The normalization gives the precision\n",
    "def plot_confusion_matrix(Y_test, Y_predicted):\n",
    "\n",
    "    matplotlib.style.use('ggplot')\n",
    "\n",
    "    # confusion matrix colormap\n",
    "    cmap=plt.cm.Blues\n",
    "    \n",
    "    # Compute confusion matrix\n",
    "    cm = confusion_matrix(Y_test, Y_predicted)\n",
    "    print(cm)\n",
    "    np.set_printoptions(precision=2)\n",
    "\n",
    "\n",
    "    # Normalize the confusion matrix by row (i.e by the number of samples\n",
    "    # in each class)\n",
    "    cm_normalized = cm.astype('float') / cm.sum(axis=0)\n",
    "    print('Normalized confusion matrix')\n",
    "    print(cm_normalized)\n",
    "    \n",
    "    plt.figure()\n",
    "    plt.imshow(cm_normalized, interpolation='nearest', cmap=cmap)\n",
    "    plt.title('Normalized confusion matrix')\n",
    "    plt.colorbar()\n",
    "    tick_marks = np.arange(2)\n",
    "    plt.xticks(tick_marks, ['expired','completed'], rotation=45)\n",
    "    plt.yticks(tick_marks, ['expired','completed'])\n",
    "    plt.tight_layout()\n",
    "    plt.ylabel('True label')\n",
    "    plt.xlabel('Predicted label')\n",
    "    \n",
    "    plt.show()"
   ]
  },
  {
   "cell_type": "markdown",
   "metadata": {},
   "source": [
    "#  All Projects in LA "
   ]
  },
  {
   "cell_type": "markdown",
   "metadata": {},
   "source": [
    "Projects table has most of the key features. But there are two potentially important features in donations table which need to be added to the projects table. "
   ]
  },
  {
   "cell_type": "code",
   "execution_count": 22,
   "metadata": {
    "collapsed": true
   },
   "outputs": [],
   "source": [
    "projects_LA = pd.read_csv('projects_preProcessed.csv')\n",
    "donations_LA = pd.read_csv('donations_preProcessed.csv')"
   ]
  },
  {
   "cell_type": "markdown",
   "metadata": {},
   "source": [
    "Has the project been posted on a giving page or not?"
   ]
  },
  {
   "cell_type": "code",
   "execution_count": 36,
   "metadata": {
    "collapsed": false
   },
   "outputs": [],
   "source": [
    "# Number of donations received through a giving page\n",
    "givingPage = donations_LA.groupby('_projectid')['via_giving_page'].sum()\n",
    "\n",
    "# Turn into a binary variable --> posted or not posted on a giving page\n",
    "def make_binary(x):\n",
    "    if x >= 1:\n",
    "        return 1\n",
    "    else:\n",
    "        return 0\n",
    "    \n",
    "givingPage = givingPage.apply(lambda x: make_binary(x))"
   ]
  },
  {
   "cell_type": "markdown",
   "metadata": {},
   "source": [
    "Has the project been taken advantage of a promo code?"
   ]
  },
  {
   "cell_type": "code",
   "execution_count": 38,
   "metadata": {
    "collapsed": true
   },
   "outputs": [],
   "source": [
    "# Number of donations received through a giving page\n",
    "promoCode = donations_LA.groupby('_projectid')['payment_was_promo_matched'].sum()\n",
    "\n",
    "# Turn into a binary variable --> posted or not posted on a giving page\n",
    "def make_binary(x):\n",
    "    if x >= 1:\n",
    "        return 1\n",
    "    else:\n",
    "        return 0\n",
    "    \n",
    "promoCode = promoCode.apply(lambda x: make_binary(x))"
   ]
  },
  {
   "cell_type": "markdown",
   "metadata": {},
   "source": [
    "Putting donation features together:"
   ]
  },
  {
   "cell_type": "code",
   "execution_count": 46,
   "metadata": {
    "collapsed": false
   },
   "outputs": [],
   "source": [
    "donations_features = pd.DataFrame(dict(Giving_Page = givingPage, Promo_Code = promoCode)).reset_index()"
   ]
  },
  {
   "cell_type": "markdown",
   "metadata": {},
   "source": [
    "Adding them to the projects table:"
   ]
  },
  {
   "cell_type": "code",
   "execution_count": 48,
   "metadata": {
    "collapsed": false
   },
   "outputs": [],
   "source": [
    "projects_LA = pd.merge(projects_LA,donations_features,how='inner',on=['_projectid','_projectid'])"
   ]
  },
  {
   "cell_type": "code",
   "execution_count": 50,
   "metadata": {
    "collapsed": false
   },
   "outputs": [
    {
     "data": {
      "text/plain": [
       "(20165, 3)"
      ]
     },
     "execution_count": 50,
     "metadata": {},
     "output_type": "execute_result"
    }
   ],
   "source": [
    "donations_features.shape"
   ]
  },
  {
   "cell_type": "code",
   "execution_count": 51,
   "metadata": {
    "collapsed": false
   },
   "outputs": [],
   "source": [
    "projects_LA.to_csv('features.csv',index=False)"
   ]
  },
  {
   "cell_type": "markdown",
   "metadata": {},
   "source": [
    "# Preprocessing"
   ]
  },
  {
   "cell_type": "markdown",
   "metadata": {},
   "source": [
    "### Feature Selection"
   ]
  },
  {
   "cell_type": "markdown",
   "metadata": {},
   "source": [
    "The feature engineering is done and it's just a matter of choosing the features. \n",
    "\n",
    "The end goal of this study is providing *actionable* insights. I need to find the balance between variance and bias in building classifiers. There are many features and some have many levels; like zipcode. That may lead to overfitting. It least for the first round of modeling, I will not include zipcode.\n",
    "\n",
    "On the other hand, there are variables that are clearly correlated; like total price with and without optional support. I will use total price including optional support."
   ]
  },
  {
   "cell_type": "code",
   "execution_count": 52,
   "metadata": {
    "collapsed": false
   },
   "outputs": [
    {
     "data": {
      "text/plain": [
       "Index([u'_projectid', u'school_zip', u'school_metro', u'school_charter',\n",
       "       u'school_magnet', u'school_year_round', u'school_kipp',\n",
       "       u'school_charter_ready_promise', u'teacher_teach_for_america',\n",
       "       u'grade_level', u'total_price_excluding_optional_support',\n",
       "       u'total_price_including_optional_support', u'students_reached',\n",
       "       u'eligible_double_your_impact_match', u'eligible_almost_home_match',\n",
       "       u'funding_status', u'funding_status_binary', u'resource_type_grouped',\n",
       "       u'primary_focus_subject_grouped', u'secondary_focus_subject_grouped',\n",
       "       u'poverty_level_grouped', u'teacher_gender', u'month_posted',\n",
       "       u'semester_posted', u'previousProposal_Teacher',\n",
       "       u'previousProposal_School', u'donor_per_zip', u'donation_per_zip',\n",
       "       u'Giving_Page', u'Promo_Code'],\n",
       "      dtype='object')"
      ]
     },
     "execution_count": 52,
     "metadata": {},
     "output_type": "execute_result"
    }
   ],
   "source": [
    "projects_LA.columns"
   ]
  },
  {
   "cell_type": "code",
   "execution_count": 55,
   "metadata": {
    "collapsed": true
   },
   "outputs": [],
   "source": [
    "categorical_col_names =['school_metro', 'school_charter','school_magnet',\\\n",
    "                        'school_year_round', 'school_kipp','school_charter_ready_promise','teacher_gender',\\\n",
    "                        'teacher_teach_for_america', 'primary_focus_subject_grouped', \\\n",
    "                        'resource_type_grouped', 'poverty_level_grouped',\\\n",
    "                        'grade_level','eligible_double_your_impact_match', 'eligible_almost_home_match',\\\n",
    "                        'semester_posted','Promo_Code','Giving_Page']\n",
    "\n",
    "continuous_col_names = ['total_price_including_optional_support', 'students_reached',\\\n",
    "                       'previousProposal_School','previousProposal_Teacher','donor_per_zip']"
   ]
  },
  {
   "cell_type": "markdown",
   "metadata": {},
   "source": [
    "### Labeling and Normalizing"
   ]
  },
  {
   "cell_type": "markdown",
   "metadata": {},
   "source": [
    "Sklearn accepts only numerical values and not string. Labeling will take care of that. \n",
    "\n",
    "For distance base algorithm like logic model, I need to eaither use OneHotEncoder or dummy variables."
   ]
  },
  {
   "cell_type": "code",
   "execution_count": 56,
   "metadata": {
    "collapsed": false
   },
   "outputs": [],
   "source": [
    "# Labeling\n",
    "features_array  = projects_LA[categorical_col_names]\n",
    "features_array = features_array.apply(lambda x: Label(x))"
   ]
  },
  {
   "cell_type": "markdown",
   "metadata": {},
   "source": [
    "And of course, it is better to normalize the numerical variables."
   ]
  },
  {
   "cell_type": "code",
   "execution_count": 57,
   "metadata": {
    "collapsed": false
   },
   "outputs": [],
   "source": [
    "numerical_variables = projects_LA[continuous_col_names]\n",
    "\n",
    "# Building an standart scaler\n",
    "scaler = preprocessing.StandardScaler().fit(numerical_variables)\n",
    "numerical_variables = scaler.transform(numerical_variables)                              "
   ]
  },
  {
   "cell_type": "markdown",
   "metadata": {},
   "source": [
    "Take a quick look at the data:"
   ]
  },
  {
   "cell_type": "code",
   "execution_count": 58,
   "metadata": {
    "collapsed": false
   },
   "outputs": [
    {
     "data": {
      "text/html": [
       "<div style=\"max-height:1000px;max-width:1500px;overflow:auto;\">\n",
       "<table border=\"1\" class=\"dataframe\">\n",
       "  <thead>\n",
       "    <tr style=\"text-align: right;\">\n",
       "      <th></th>\n",
       "      <th>school_metro</th>\n",
       "      <th>school_charter</th>\n",
       "      <th>school_magnet</th>\n",
       "      <th>school_year_round</th>\n",
       "      <th>school_kipp</th>\n",
       "      <th>school_charter_ready_promise</th>\n",
       "      <th>teacher_gender</th>\n",
       "      <th>teacher_teach_for_america</th>\n",
       "      <th>primary_focus_subject_grouped</th>\n",
       "      <th>resource_type_grouped</th>\n",
       "      <th>...</th>\n",
       "      <th>eligible_double_your_impact_match</th>\n",
       "      <th>eligible_almost_home_match</th>\n",
       "      <th>semester_posted</th>\n",
       "      <th>Promo_Code</th>\n",
       "      <th>Giving_Page</th>\n",
       "      <th>total_price_including_optional_support</th>\n",
       "      <th>students_reached</th>\n",
       "      <th>previousProposal_School</th>\n",
       "      <th>previousProposal_Teacher</th>\n",
       "      <th>donor_per_zip</th>\n",
       "    </tr>\n",
       "  </thead>\n",
       "  <tbody>\n",
       "    <tr>\n",
       "      <th>0</th>\n",
       "      <td>2</td>\n",
       "      <td>0</td>\n",
       "      <td>0</td>\n",
       "      <td>1</td>\n",
       "      <td>0</td>\n",
       "      <td>0</td>\n",
       "      <td>0</td>\n",
       "      <td>1</td>\n",
       "      <td>3</td>\n",
       "      <td>0</td>\n",
       "      <td>...</td>\n",
       "      <td>0</td>\n",
       "      <td>0</td>\n",
       "      <td>0</td>\n",
       "      <td>0</td>\n",
       "      <td>0</td>\n",
       "      <td>-0.012749</td>\n",
       "      <td>0.087914</td>\n",
       "      <td>-0.772517</td>\n",
       "      <td>-0.510298</td>\n",
       "      <td>-0.817347</td>\n",
       "    </tr>\n",
       "    <tr>\n",
       "      <th>1</th>\n",
       "      <td>2</td>\n",
       "      <td>0</td>\n",
       "      <td>0</td>\n",
       "      <td>1</td>\n",
       "      <td>0</td>\n",
       "      <td>0</td>\n",
       "      <td>0</td>\n",
       "      <td>1</td>\n",
       "      <td>3</td>\n",
       "      <td>0</td>\n",
       "      <td>...</td>\n",
       "      <td>0</td>\n",
       "      <td>0</td>\n",
       "      <td>0</td>\n",
       "      <td>0</td>\n",
       "      <td>0</td>\n",
       "      <td>-0.280323</td>\n",
       "      <td>-0.091934</td>\n",
       "      <td>-0.772517</td>\n",
       "      <td>-0.510298</td>\n",
       "      <td>-0.817347</td>\n",
       "    </tr>\n",
       "    <tr>\n",
       "      <th>2</th>\n",
       "      <td>2</td>\n",
       "      <td>1</td>\n",
       "      <td>0</td>\n",
       "      <td>0</td>\n",
       "      <td>0</td>\n",
       "      <td>0</td>\n",
       "      <td>1</td>\n",
       "      <td>1</td>\n",
       "      <td>3</td>\n",
       "      <td>1</td>\n",
       "      <td>...</td>\n",
       "      <td>0</td>\n",
       "      <td>0</td>\n",
       "      <td>0</td>\n",
       "      <td>0</td>\n",
       "      <td>0</td>\n",
       "      <td>1.643948</td>\n",
       "      <td>0.297736</td>\n",
       "      <td>-0.798943</td>\n",
       "      <td>-0.572333</td>\n",
       "      <td>-0.266408</td>\n",
       "    </tr>\n",
       "    <tr>\n",
       "      <th>3</th>\n",
       "      <td>2</td>\n",
       "      <td>0</td>\n",
       "      <td>1</td>\n",
       "      <td>0</td>\n",
       "      <td>0</td>\n",
       "      <td>0</td>\n",
       "      <td>0</td>\n",
       "      <td>0</td>\n",
       "      <td>1</td>\n",
       "      <td>0</td>\n",
       "      <td>...</td>\n",
       "      <td>0</td>\n",
       "      <td>0</td>\n",
       "      <td>0</td>\n",
       "      <td>0</td>\n",
       "      <td>0</td>\n",
       "      <td>1.492450</td>\n",
       "      <td>0.447609</td>\n",
       "      <td>-0.825368</td>\n",
       "      <td>-0.603351</td>\n",
       "      <td>-0.992754</td>\n",
       "    </tr>\n",
       "    <tr>\n",
       "      <th>4</th>\n",
       "      <td>2</td>\n",
       "      <td>0</td>\n",
       "      <td>0</td>\n",
       "      <td>0</td>\n",
       "      <td>0</td>\n",
       "      <td>0</td>\n",
       "      <td>0</td>\n",
       "      <td>0</td>\n",
       "      <td>1</td>\n",
       "      <td>1</td>\n",
       "      <td>...</td>\n",
       "      <td>0</td>\n",
       "      <td>0</td>\n",
       "      <td>0</td>\n",
       "      <td>0</td>\n",
       "      <td>0</td>\n",
       "      <td>0.043432</td>\n",
       "      <td>0.747356</td>\n",
       "      <td>0.090717</td>\n",
       "      <td>-0.510298</td>\n",
       "      <td>2.753091</td>\n",
       "    </tr>\n",
       "  </tbody>\n",
       "</table>\n",
       "<p>5 rows × 22 columns</p>\n",
       "</div>"
      ],
      "text/plain": [
       "   school_metro  school_charter  school_magnet  school_year_round  \\\n",
       "0             2               0              0                  1   \n",
       "1             2               0              0                  1   \n",
       "2             2               1              0                  0   \n",
       "3             2               0              1                  0   \n",
       "4             2               0              0                  0   \n",
       "\n",
       "   school_kipp  school_charter_ready_promise  teacher_gender  \\\n",
       "0            0                             0               0   \n",
       "1            0                             0               0   \n",
       "2            0                             0               1   \n",
       "3            0                             0               0   \n",
       "4            0                             0               0   \n",
       "\n",
       "   teacher_teach_for_america  primary_focus_subject_grouped  \\\n",
       "0                          1                              3   \n",
       "1                          1                              3   \n",
       "2                          1                              3   \n",
       "3                          0                              1   \n",
       "4                          0                              1   \n",
       "\n",
       "   resource_type_grouped      ...        eligible_double_your_impact_match  \\\n",
       "0                      0      ...                                        0   \n",
       "1                      0      ...                                        0   \n",
       "2                      1      ...                                        0   \n",
       "3                      0      ...                                        0   \n",
       "4                      1      ...                                        0   \n",
       "\n",
       "   eligible_almost_home_match  semester_posted  Promo_Code  Giving_Page  \\\n",
       "0                           0                0           0            0   \n",
       "1                           0                0           0            0   \n",
       "2                           0                0           0            0   \n",
       "3                           0                0           0            0   \n",
       "4                           0                0           0            0   \n",
       "\n",
       "   total_price_including_optional_support  students_reached  \\\n",
       "0                               -0.012749          0.087914   \n",
       "1                               -0.280323         -0.091934   \n",
       "2                                1.643948          0.297736   \n",
       "3                                1.492450          0.447609   \n",
       "4                                0.043432          0.747356   \n",
       "\n",
       "   previousProposal_School  previousProposal_Teacher  donor_per_zip  \n",
       "0                -0.772517                 -0.510298      -0.817347  \n",
       "1                -0.772517                 -0.510298      -0.817347  \n",
       "2                -0.798943                 -0.572333      -0.266408  \n",
       "3                -0.825368                 -0.603351      -0.992754  \n",
       "4                 0.090717                 -0.510298       2.753091  \n",
       "\n",
       "[5 rows x 22 columns]"
      ]
     },
     "execution_count": 58,
     "metadata": {},
     "output_type": "execute_result"
    }
   ],
   "source": [
    "features_array[continuous_col_names] = pd.DataFrame(numerical_variables)\n",
    "features_array.head()"
   ]
  },
  {
   "cell_type": "markdown",
   "metadata": {},
   "source": [
    "Ok, looks good."
   ]
  },
  {
   "cell_type": "markdown",
   "metadata": {},
   "source": [
    "### Spliting the data into train/test sets"
   ]
  },
  {
   "cell_type": "markdown",
   "metadata": {},
   "source": [
    "70% of the data will be used for training and the remaining 30% for testing the classifier."
   ]
  },
  {
   "cell_type": "code",
   "execution_count": 59,
   "metadata": {
    "collapsed": false
   },
   "outputs": [],
   "source": [
    "target_binary = projects_LA.funding_status_binary\n",
    "\n",
    "features_train, features_test, target_train, target_test = train_test_split(\n",
    "    features_array, target_binary, test_size=0.30, random_state=123)"
   ]
  },
  {
   "cell_type": "markdown",
   "metadata": {},
   "source": [
    "# Model Fitting Using Ensemble Methods"
   ]
  },
  {
   "cell_type": "markdown",
   "metadata": {},
   "source": [
    "I will use Random Forest Classifier and Gradient Boosting Classifier. They are both powerful and tree based. I am hoping to minimize the overfitting using ensemble methods. \n",
    "\n",
    "I will use these methods to find *important actionable* variable to be used for logistic regression."
   ]
  },
  {
   "cell_type": "markdown",
   "metadata": {},
   "source": [
    "## Random Forest "
   ]
  },
  {
   "cell_type": "markdown",
   "metadata": {},
   "source": [
    "### Grid Search "
   ]
  },
  {
   "cell_type": "markdown",
   "metadata": {},
   "source": [
    "GridSearchCV is a great way for finding good parameters. My laptop is pretty old so I will do the grid search for only 30 trees. Cross Validation (5 folds) is used to for finding the parameters which yields the highest mean AUC. Pretty awesome!\n",
    "\n",
    "- criterion: The function to measure the quality of a split. Supported criteria are “gini” for the Gini impurity and “entropy” for the information gain.\n",
    "- max_features: The precentage of features to consider when looking for the best split\n",
    "- max_depth: The maximum depth of the tree. If None, then nodes are expanded until all leaves are pure or until all leaves contain less than min_samples_split samples.\n",
    "- min_samples_leaf: The minimum number of samples in newly created leaves. A split is discarded if after the split, one of the leaves would contain less then min_samples_leaf samples. "
   ]
  },
  {
   "cell_type": "code",
   "execution_count": 280,
   "metadata": {
    "collapsed": false
   },
   "outputs": [
    {
     "name": "stdout",
     "output_type": "stream",
     "text": [
      "CPU times: user 46min 23s, sys: 41.4 s, total: 47min 5s\n",
      "Wall time: 1h 17min 11s\n"
     ]
    }
   ],
   "source": [
    "%%time\n",
    "\n",
    "rf = RandomForestClassifier(n_estimators=100)\n",
    "\n",
    "params = {\n",
    "    'criterion': ['entropy','gini'],\n",
    "    'max_features': [0.2, 0.6, 0.9],\n",
    "    'max_depth': [2, 6, 12],\n",
    "    'min_samples_leaf' : [5, 20, 50]\n",
    "}\n",
    "rf = GridSearchCV(rf, params, cv=10, scoring='roc_auc')\n",
    "rf.fit(features_train, target_train)"
   ]
  },
  {
   "cell_type": "code",
   "execution_count": 281,
   "metadata": {
    "collapsed": false
   },
   "outputs": [
    {
     "data": {
      "text/plain": [
       "[mean: 0.83385, std: 0.01211, params: {'max_features': 0.2, 'criterion': 'entropy', 'max_depth': 12, 'min_samples_leaf': 5},\n",
       " mean: 0.83234, std: 0.01279, params: {'max_features': 0.2, 'criterion': 'gini', 'max_depth': 12, 'min_samples_leaf': 5},\n",
       " mean: 0.83234, std: 0.01184, params: {'max_features': 0.6, 'criterion': 'gini', 'max_depth': 12, 'min_samples_leaf': 5},\n",
       " mean: 0.83214, std: 0.01161, params: {'max_features': 0.9, 'criterion': 'entropy', 'max_depth': 12, 'min_samples_leaf': 5},\n",
       " mean: 0.83105, std: 0.01182, params: {'max_features': 0.6, 'criterion': 'entropy', 'max_depth': 12, 'min_samples_leaf': 20},\n",
       " mean: 0.83072, std: 0.01145, params: {'max_features': 0.9, 'criterion': 'gini', 'max_depth': 12, 'min_samples_leaf': 5},\n",
       " mean: 0.83026, std: 0.01194, params: {'max_features': 0.9, 'criterion': 'entropy', 'max_depth': 12, 'min_samples_leaf': 20},\n",
       " mean: 0.82968, std: 0.01253, params: {'max_features': 0.2, 'criterion': 'entropy', 'max_depth': 12, 'min_samples_leaf': 20},\n",
       " mean: 0.82952, std: 0.01095, params: {'max_features': 0.6, 'criterion': 'gini', 'max_depth': 12, 'min_samples_leaf': 20}]"
      ]
     },
     "execution_count": 281,
     "metadata": {},
     "output_type": "execute_result"
    }
   ],
   "source": [
    "sorted(rf.grid_scores_, key=lambda x: x.mean_validation_score, reverse=True)[1:10]"
   ]
  },
  {
   "cell_type": "code",
   "execution_count": 282,
   "metadata": {
    "collapsed": false
   },
   "outputs": [
    {
     "name": "stdout",
     "output_type": "stream",
     "text": [
      "best score is  0.834226424404\n",
      "best parameters are  {'max_features': 0.6, 'criterion': 'entropy', 'max_depth': 12, 'min_samples_leaf': 5}\n"
     ]
    }
   ],
   "source": [
    "print 'best score is ', rf.best_score_\n",
    "print 'best parameters are ', rf.best_params_"
   ]
  },
  {
   "cell_type": "markdown",
   "metadata": {},
   "source": [
    "### Using the Best Parameters"
   ]
  },
  {
   "cell_type": "markdown",
   "metadata": {},
   "source": [
    "Can use this parameters for higher number of estimators to gain a more robust model. For sure, it would be ideal to use higher n_estimators during the grid search but it would take forever!"
   ]
  },
  {
   "cell_type": "code",
   "execution_count": 60,
   "metadata": {
    "collapsed": false
   },
   "outputs": [
    {
     "name": "stdout",
     "output_type": "stream",
     "text": [
      "CPU times: user 22 s, sys: 241 ms, total: 22.3 s\n",
      "Wall time: 23.9 s\n"
     ]
    }
   ],
   "source": [
    "%%time\n",
    "\n",
    "rf_final = RandomForestClassifier(n_estimators=500, criterion='entropy', \n",
    "                                  max_features=0.6, max_depth=12, min_samples_leaf=5)\n",
    "\n",
    "rf_final.fit(features_train, target_train)"
   ]
  },
  {
   "cell_type": "markdown",
   "metadata": {},
   "source": [
    "### Evaluating the Model "
   ]
  },
  {
   "cell_type": "markdown",
   "metadata": {},
   "source": [
    "#### Precision & Recall "
   ]
  },
  {
   "cell_type": "markdown",
   "metadata": {},
   "source": [
    "About 70% of all projects are funded. Therefore, the baseline will be considered all projects are funded. Below is the comparision between the baseline and random forest model."
   ]
  },
  {
   "cell_type": "code",
   "execution_count": 61,
   "metadata": {
    "collapsed": false
   },
   "outputs": [
    {
     "name": "stdout",
     "output_type": "stream",
     "text": [
      "baseline case:\n",
      "             precision    recall  f1-score   support\n",
      "\n",
      "    expired       0.00      0.00      0.00       836\n",
      "  completed       0.86      1.00      0.93      5214\n",
      "\n",
      "avg / total       0.74      0.86      0.80      6050\n",
      "\n",
      "\n",
      "Random Forest\n",
      "             precision    recall  f1-score   support\n",
      "\n",
      "    expired       0.63      0.28      0.39       836\n",
      "  completed       0.89      0.97      0.93      5214\n",
      "\n",
      "avg / total       0.86      0.88      0.86      6050\n",
      "\n"
     ]
    }
   ],
   "source": [
    "print 'baseline case:'\n",
    "print(classification_report(target_test, len(rf_final.predict(features_test))*[1],\n",
    "                            target_names=['expired', 'completed']))\n",
    "print\n",
    "print 'Random Forest'\n",
    "print(classification_report(target_test, rf_final.predict(features_test),\n",
    "                            target_names=['expired', 'completed']))"
   ]
  },
  {
   "cell_type": "code",
   "execution_count": 284,
   "metadata": {
    "collapsed": false
   },
   "outputs": [
    {
     "name": "stdout",
     "output_type": "stream",
     "text": [
      "baseline case:\n",
      "             precision    recall  f1-score   support\n",
      "\n",
      "    expired       0.00      0.00      0.00      2164\n",
      "  completed       0.84      1.00      0.92     11746\n",
      "\n",
      "avg / total       0.71      0.84      0.77     13910\n",
      "\n",
      "\n",
      "Random Forest\n",
      "             precision    recall  f1-score   support\n",
      "\n",
      "    expired       0.69      0.32      0.44      2164\n",
      "  completed       0.89      0.97      0.93     11746\n",
      "\n",
      "avg / total       0.86      0.87      0.85     13910\n",
      "\n"
     ]
    }
   ],
   "source": [
    "print 'baseline case:'\n",
    "print(classification_report(target_test, len(rf_final.predict(features_test))*[1],\n",
    "                            target_names=['expired', 'completed']))\n",
    "print\n",
    "print 'Random Forest'\n",
    "print(classification_report(target_test, rf_final.predict(features_test),\n",
    "                            target_names=['expired', 'completed']))"
   ]
  },
  {
   "cell_type": "markdown",
   "metadata": {},
   "source": [
    "Definitely, better than the baseline. Although, the recall for expired projects is not that great. There are many expired projects that are considered funded. Anyway, again, much better than the baseline :)"
   ]
  },
  {
   "cell_type": "markdown",
   "metadata": {},
   "source": [
    "#### Confusion Matrix "
   ]
  },
  {
   "cell_type": "markdown",
   "metadata": {},
   "source": [
    "Confusion matrix provides a nice visualization of the goodness of the model. The normalized matrix shows the precision for expired and completed (funded and not funded) projects."
   ]
  },
  {
   "cell_type": "code",
   "execution_count": 285,
   "metadata": {
    "collapsed": false
   },
   "outputs": [
    {
     "name": "stdout",
     "output_type": "stream",
     "text": [
      "[[  697  1467]\n",
      " [  306 11440]]\n",
      "Normalized confusion matrix\n",
      "[[ 0.69  0.11]\n",
      " [ 0.31  0.89]]\n"
     ]
    },
    {
     "data": {
      "image/png": "[encoded data removed]",
      "text/plain": [
       "<matplotlib.figure.Figure at 0x10bf5b150>"
      ]
     },
     "metadata": {},
     "output_type": "display_data"
    }
   ],
   "source": [
    "plot_confusion_matrix(target_test,rf_final.predict(features_test))"
   ]
  },
  {
   "cell_type": "markdown",
   "metadata": {},
   "source": [
    "#### ROC_AUC "
   ]
  },
  {
   "cell_type": "code",
   "execution_count": 286,
   "metadata": {
    "collapsed": false
   },
   "outputs": [
    {
     "data": {
      "image/png": "[encoded data removed]",
      "text/plain": [
       "<matplotlib.figure.Figure at 0x109862690>"
      ]
     },
     "metadata": {},
     "output_type": "display_data"
    }
   ],
   "source": [
    "plt.figure(figsize=(8,6))\n",
    "plot_roc_curve(target_test, rf_final.predict_proba(features_test))"
   ]
  },
  {
   "cell_type": "markdown",
   "metadata": {
    "collapsed": false
   },
   "source": [
    "### Variable Importance"
   ]
  },
  {
   "cell_type": "markdown",
   "metadata": {},
   "source": [
    "And finally the variable importance. It's key to actionable insights. Let's see how many of top 10 features are actionable."
   ]
  },
  {
   "cell_type": "code",
   "execution_count": 278,
   "metadata": {
    "collapsed": false
   },
   "outputs": [
    {
     "data": {
      "image/png": "[encoded data removed]",
      "text/plain": [
       "<matplotlib.figure.Figure at 0x10e7686d0>"
      ]
     },
     "metadata": {},
     "output_type": "display_data"
    }
   ],
   "source": [
    "plt.figure(figsize=(10,18))\n",
    "\n",
    "# Plot feature importance\n",
    "feature_importance = rf_final.feature_importances_\n",
    "# make importances relative to max importance\n",
    "feature_importance = 100.0 * (feature_importance / feature_importance.max())\n",
    "sorted_idx = np.argsort(feature_importance)[-10:]\n",
    "pos = np.arange(sorted_idx.shape[0]) + .5\n",
    "plt.subplot(2,1,2)\n",
    "\n",
    "# Use nicer labels -- Second iteration\n",
    "feature_labels = [u'Grade Level', u'Project Focus Subject', u'Semester Project Posted',\n",
    "       u'Used Half-off Promotion',u'# of Teacher Previous Projects',u'# of Students Reached',\n",
    "       u'# of Donors per ZIP',u'# of School Previous Projects', u'Posted on Giving Page', u'Total Price']\n",
    "barlist = plt.barh(pos, feature_importance[sorted_idx], align='center')\n",
    "barlist[0].set_color('r')\n",
    "barlist[6].set_color('r')\n",
    "plt.yticks(pos, feature_labels)\n",
    "plt.xlabel('Relative Importance')\n",
    "plt.title('Variable Importance')\n",
    "plt.show()"
   ]
  },
  {
   "cell_type": "markdown",
   "metadata": {},
   "source": [
    "## Gradient Boosting "
   ]
  },
  {
   "cell_type": "code",
   "execution_count": null,
   "metadata": {
    "collapsed": false
   },
   "outputs": [],
   "source": [
    "%%time\n",
    "\n",
    "gb = GradientBoostingClassifier(n_estimators=100,subsample=0.8,learning_rate=0.1)\n",
    "\n",
    "params = {\n",
    "    'loss': ['exponential','deviance'],    \n",
    "    'max_features': [0.2, 0.6, 0.9],\n",
    "    'max_depth': [2, 6, 12],\n",
    "    'min_samples_leaf' : [5, 20, 50]\n",
    "}\n",
    "gb = GridSearchCV(gb, params, cv=10, scoring='roc_auc')\n",
    "gb.fit(features_train, target_train)"
   ]
  },
  {
   "cell_type": "code",
   "execution_count": null,
   "metadata": {
    "collapsed": false
   },
   "outputs": [],
   "source": [
    "sorted(gb.grid_scores_, key=lambda x: x.mean_validation_score, reverse=True)[1:10]"
   ]
  },
  {
   "cell_type": "code",
   "execution_count": 226,
   "metadata": {
    "collapsed": false
   },
   "outputs": [
    {
     "name": "stdout",
     "output_type": "stream",
     "text": [
      "0.833783119769\n",
      "{'max_features': 0.2, 'loss': 'exponential', 'max_depth': 12, 'min_samples_leaf': 20}\n"
     ]
    }
   ],
   "source": [
    "print gb.best_score_\n",
    "print gb.best_params_"
   ]
  },
  {
   "cell_type": "markdown",
   "metadata": {},
   "source": [
    "### Using the Best Parameters"
   ]
  },
  {
   "cell_type": "code",
   "execution_count": 233,
   "metadata": {
    "collapsed": false
   },
   "outputs": [
    {
     "name": "stdout",
     "output_type": "stream",
     "text": [
      "CPU times: user 1min 55s, sys: 893 ms, total: 1min 56s\n",
      "Wall time: 2min 16s\n"
     ]
    }
   ],
   "source": [
    "%%time \n",
    "\n",
    "gb_final = GradientBoostingClassifier(loss='exponential', n_estimators=500, subsample=0.8, \n",
    "                                learning_rate=0.1,max_features=0.2, max_depth=12,\n",
    "                                min_samples_leaf=20)\n",
    "\n",
    "gb_final.fit(features_train, target_train)"
   ]
  },
  {
   "cell_type": "markdown",
   "metadata": {},
   "source": [
    "### Evaluating the Model "
   ]
  },
  {
   "cell_type": "markdown",
   "metadata": {},
   "source": [
    "#### Precision & Recall "
   ]
  },
  {
   "cell_type": "markdown",
   "metadata": {},
   "source": [
    "Now, we can compare random forest and gradiest boosting:"
   ]
  },
  {
   "cell_type": "code",
   "execution_count": 238,
   "metadata": {
    "collapsed": false
   },
   "outputs": [
    {
     "name": "stdout",
     "output_type": "stream",
     "text": [
      "Random Forest:\n",
      "             precision    recall  f1-score   support\n",
      "\n",
      "    expired       0.70      0.33      0.45      2164\n",
      "  completed       0.89      0.97      0.93     11746\n",
      "\n",
      "avg / total       0.86      0.87      0.85     13910\n",
      "\n",
      "\n",
      "Gradient Boosting\n",
      "             precision    recall  f1-score   support\n",
      "\n",
      "    expired       0.62      0.38      0.47      2164\n",
      "  completed       0.89      0.96      0.92     11746\n",
      "\n",
      "avg / total       0.85      0.87      0.85     13910\n",
      "\n"
     ]
    }
   ],
   "source": [
    "print 'Random Forest:'\n",
    "print(classification_report(target_test, rf_final.predict(features_test),\n",
    "                            target_names=['expired', 'completed']))\n",
    "print\n",
    "print 'Gradient Boosting'\n",
    "print(classification_report(target_test, gb_final.predict(features_test),\n",
    "                            target_names=['expired', 'completed']))"
   ]
  },
  {
   "cell_type": "markdown",
   "metadata": {},
   "source": [
    "Interesting! For completed class, both do well. But if the goal was finding the expired class, gradient boosting has a higher recall. Although random forest has higher precision but gradient boosting has higher f1-score. Go GB!"
   ]
  },
  {
   "cell_type": "markdown",
   "metadata": {},
   "source": [
    "#### Confusion Matrix "
   ]
  },
  {
   "cell_type": "code",
   "execution_count": 240,
   "metadata": {
    "collapsed": false
   },
   "outputs": [
    {
     "name": "stdout",
     "output_type": "stream",
     "text": [
      "[[  832  1332]\n",
      " [  511 11235]]\n",
      "Normalized confusion matrix\n",
      "[[ 0.62  0.11]\n",
      " [ 0.38  0.89]]\n"
     ]
    },
    {
     "data": {
      "image/png": "[encoded data removed]",
      "text/plain": [
       "<matplotlib.figure.Figure at 0x10d021c10>"
      ]
     },
     "metadata": {},
     "output_type": "display_data"
    }
   ],
   "source": [
    "plot_confusion_matrix(target_test,gb_final.predict(features_test))"
   ]
  },
  {
   "cell_type": "markdown",
   "metadata": {},
   "source": [
    "#### ROC_AUC "
   ]
  },
  {
   "cell_type": "markdown",
   "metadata": {},
   "source": [
    "Let's compare random forest and gradient boosting:"
   ]
  },
  {
   "cell_type": "code",
   "execution_count": 242,
   "metadata": {
    "collapsed": false
   },
   "outputs": [
    {
     "data": {
      "image/png": "[encoded data removed]",
      "text/plain": [
       "<matplotlib.figure.Figure at 0x1319d05d0>"
      ]
     },
     "metadata": {},
     "output_type": "display_data"
    }
   ],
   "source": [
    "plt.figure(figsize=(8,6))\n",
    "plot_roc_curve(target_test, rf_final.predict_proba(features_test),type_of_model='Random Forrest')\n",
    "plot_roc_curve(target_test, gb_final.predict_proba(features_test),type_of_model='Gradient Boosting')"
   ]
  },
  {
   "cell_type": "markdown",
   "metadata": {},
   "source": [
    "I guess here random forest wins! But for low precision, maybe gradient boosting is doing better. Anyway, the difference is so small. They both do pretty well."
   ]
  },
  {
   "cell_type": "code",
   "execution_count": 249,
   "metadata": {
    "collapsed": false
   },
   "outputs": [
    {
     "data": {
      "image/png": "[encoded data removed]",
      "text/plain": [
       "<matplotlib.figure.Figure at 0x10d162bd0>"
      ]
     },
     "metadata": {},
     "output_type": "display_data"
    }
   ],
   "source": [
    "plt.figure(figsize=(10,18))\n",
    "\n",
    "# Plot feature importance\n",
    "feature_importance = gb_final.feature_importances_\n",
    "# make importances relative to max importance\n",
    "feature_importance = 100.0 * (feature_importance / feature_importance.max())\n",
    "sorted_idx = np.argsort(feature_importance)[-10:]\n",
    "pos = np.arange(sorted_idx.shape[0]) + .5\n",
    "plt.subplot(2,1,2)\n",
    "feature_labels = ['Project Resource Type','Semester Project Posted', 'Grade Level', 'Project Focus Subject',\n",
    "       u'Posted on Giving Page' ,'# of Teacher Previous Projects', u'# of Students Reached','# of Donors per ZIP',\n",
    "       '# of School Previous Projects', 'Total Price']\n",
    "barlist = plt.barh(pos, feature_importance[sorted_idx], align='center')\n",
    "barlist[2].set_color('r')\n",
    "barlist[7].set_color('r')\n",
    "plt.yticks(pos, features_train.columns[sorted_idx])\n",
    "plt.xlabel('Relative Importance')\n",
    "plt.title('Variable Importance')\n",
    "plt.show()"
   ]
  },
  {
   "cell_type": "markdown",
   "metadata": {
    "collapsed": true
   },
   "source": [
    "The top 10 important variables are similar for random forest and gradient boosting. No dount that the total price is the most important variable. Here is a list of **actionale important variables**:\n",
    "\n",
    "- Total Price\n",
    "- School & Teacher number of Previous Proposals\n",
    "- Posting the Project on the Giving Page\n",
    "- The Semester the Project is Poster (1st vs. 2nd)\n",
    "- Number of Students Impacted\n",
    "- Focus Subject of the Project (Art, Math, and etc.)\n",
    "- Using Half-off Promotions\n",
    "- Requested Resource Type (Book&Supplies, Technology, and etc.)\n",
    "\n",
    "Now, we are ready for a parsimonious model. I will use these features for a Logistic Regression model in order to quantify the effect of each feature.\n",
    "\n",
    "R Logistic Regression package is very handy. Let's switch to R."
   ]
  }
 ],
 "metadata": {
  "kernelspec": {
   "display_name": "Python 2",
   "language": "python",
   "name": "python2"
  },
  "language_info": {
   "codemirror_mode": {
    "name": "ipython",
    "version": 2
   },
   "file_extension": ".py",
   "mimetype": "text/x-python",
   "name": "python",
   "nbconvert_exporter": "python",
   "pygments_lexer": "ipython2",
   "version": "2.7.9"
  }
 },
 "nbformat": 4,
 "nbformat_minor": 0
}
