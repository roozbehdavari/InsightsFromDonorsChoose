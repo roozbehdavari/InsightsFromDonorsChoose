{
 "cells": [
  {
   "cell_type": "code",
   "execution_count": 1,
   "metadata": {
    "collapsed": true
   },
   "outputs": [],
   "source": [
    "%matplotlib inline\n",
    "import MySQLdb as mdb\n",
    "import pandas as pd\n",
    "import numpy as np\n",
    "import matplotlib.pyplot as plt\n",
    "import matplotlib"
   ]
  },
  {
   "cell_type": "markdown",
   "metadata": {},
   "source": [
    "# Helper Function "
   ]
  },
  {
   "cell_type": "code",
   "execution_count": 2,
   "metadata": {
    "collapsed": false
   },
   "outputs": [],
   "source": [
    "def fetch(cols,table,where=None,group_by=None,order_by=None,Desc=False,limit=None):\n",
    "    \"\"\"\n",
    "    Purpose: Makes the MySQL quesries more efficitent and faster.\n",
    "    \n",
    "    Note: All inputs have to be in STRING format except the 'limit' which is an int\n",
    "    \"\"\"\n",
    "    \n",
    "    # Opening a Connection to donorsChoose Database\n",
    "    con = mdb.connect('localhost', 'idx', 'donorsChoose', 'donors');\n",
    "    cur = con.cursor()\n",
    "    \n",
    "    # Creating a query\n",
    "    query = 'SELECT ' + cols + ' FROM ' + table + ' '\n",
    "    if where: query += ' WHERE ' + where + ' '\n",
    "    if group_by: query += 'GROUP BY ' + group_by + ' '\n",
    "    if order_by: query += 'ORDER BY ' + order_by + ' '\n",
    "    if Desc: query += 'DESC '\n",
    "    if limit: query += 'LIMIT ' + str(limit)\n",
    "    \n",
    "    # fetching the data and turn it into a pandas dataframe\n",
    "    cur.execute(query)\n",
    "    output = np.array(cur.fetchall())\n",
    "    colm = [f[0] for f in cur.description]\n",
    "    output = pd.DataFrame(output)\n",
    "    output.columns = colm\n",
    "\n",
    "    # Closing the connection to the database\n",
    "    con.close()\n",
    "    \n",
    "    return output"
   ]
  },
  {
   "cell_type": "markdown",
   "metadata": {
    "collapsed": true
   },
   "source": [
    "## Finding The Donation Made to LA Projects "
   ]
  },
  {
   "cell_type": "markdown",
   "metadata": {},
   "source": [
    "Project ID is a common key between donation and project tables. So, let's find the projects in LA. Then, we can find all the donations made to the LA projects.\n",
    "\n",
    "This can be accomplished with a simple inner join between funding status and la_donation.\n",
    "\n",
    "This part is done in MySQL. Here is the code:"
   ]
  },
  {
   "cell_type": "raw",
   "metadata": {},
   "source": [
    "First find all LA projects:\n",
    "\n",
    "CREATE TABLE projects_LA AS SELECT * FROM projects WHERE school_county =‘Los Angeles’;\n",
    "\n",
    "\n",
    "\n",
    "I don't know why yet but it was faster doing it this way (spelling out everything):\n",
    "\n",
    "CREATE TABLE donation_LA AS\n",
    "SELECT donations._projectid, \n",
    "donations._donationid, \n",
    "donations.is_teacher_acct, \n",
    "donations.payment_method, \n",
    "donations.payment_included_acct_credit,\n",
    "donations.payment_included_campaign_gift_card, \n",
    "donations.payment_included_web_purchased_gift_card, \n",
    "donations.donation_total, \n",
    "donations.dollar_amount,\n",
    "donations.donation_timestamp,\n",
    "donations.payment_was_promo_matched, \n",
    "donations.via_giving_page, \n",
    "donations.for_honoree, \n",
    "donations.donor_city, \n",
    "donations.donation_message, \n",
    "projects_LA.funding_status\n",
    "FROM projects_LA JOIN donations ON projects_LA._projectid= donations._projectid;"
   ]
  },
  {
   "cell_type": "code",
   "execution_count": 16,
   "metadata": {
    "collapsed": false
   },
   "outputs": [],
   "source": [
    "la_donations = fetch('*','donation_LA')"
   ]
  },
  {
   "cell_type": "code",
   "execution_count": 17,
   "metadata": {
    "collapsed": false
   },
   "outputs": [
    {
     "data": {
      "text/html": [
       "<div style=\"max-height:1000px;max-width:1500px;overflow:auto;\">\n",
       "<table border=\"1\" class=\"dataframe\">\n",
       "  <thead>\n",
       "    <tr style=\"text-align: right;\">\n",
       "      <th></th>\n",
       "      <th>_projectid</th>\n",
       "      <th>_donationid</th>\n",
       "      <th>is_teacher_acct</th>\n",
       "      <th>payment_method</th>\n",
       "      <th>payment_included_acct_credit</th>\n",
       "      <th>payment_included_campaign_gift_card</th>\n",
       "      <th>payment_included_web_purchased_gift_card</th>\n",
       "      <th>donation_total</th>\n",
       "      <th>dollar_amount</th>\n",
       "      <th>payment_was_promo_matched</th>\n",
       "      <th>via_giving_page</th>\n",
       "      <th>for_honoree</th>\n",
       "      <th>donor_city</th>\n",
       "      <th>donation_message</th>\n",
       "      <th>funding_status</th>\n",
       "    </tr>\n",
       "  </thead>\n",
       "  <tbody>\n",
       "    <tr>\n",
       "      <th>0</th>\n",
       "      <td>\"\"\"0434af307dc45294c2eb748ffd935767\"\"\"</td>\n",
       "      <td>\"\"\"83f29a83b88d0c7a1c96cf9bd9f3b2ab\"\"\"</td>\n",
       "      <td>0</td>\n",
       "      <td>no_cash_received</td>\n",
       "      <td>1</td>\n",
       "      <td>0</td>\n",
       "      <td>0</td>\n",
       "      <td>75.00</td>\n",
       "      <td>10_to_100</td>\n",
       "      <td>f</td>\n",
       "      <td>0</td>\n",
       "      <td>0</td>\n",
       "      <td></td>\n",
       "      <td></td>\n",
       "      <td>completed</td>\n",
       "    </tr>\n",
       "    <tr>\n",
       "      <th>1</th>\n",
       "      <td>\"\"\"59f17c3f118cef16b2fee23ed74753fe\"\"\"</td>\n",
       "      <td>\"\"\"db4df4b7ed7f3e2145fc4550243304d9\"\"\"</td>\n",
       "      <td>0</td>\n",
       "      <td>creditcard</td>\n",
       "      <td>0</td>\n",
       "      <td>0</td>\n",
       "      <td>0</td>\n",
       "      <td>100.00</td>\n",
       "      <td>100_and_up</td>\n",
       "      <td>f</td>\n",
       "      <td>0</td>\n",
       "      <td>0</td>\n",
       "      <td>LOS ANGELES</td>\n",
       "      <td>\"\"\"I gave to this project because I studied ab...</td>\n",
       "      <td>completed</td>\n",
       "    </tr>\n",
       "    <tr>\n",
       "      <th>2</th>\n",
       "      <td>\"\"\"464e9eb3a3918a2d3f2006513bd42949\"\"\"</td>\n",
       "      <td>\"\"\"36a2ca9827e7d6ea6eb6235205b55309\"\"\"</td>\n",
       "      <td>0</td>\n",
       "      <td>creditcard</td>\n",
       "      <td>0</td>\n",
       "      <td>0</td>\n",
       "      <td>0</td>\n",
       "      <td>40.00</td>\n",
       "      <td>10_to_100</td>\n",
       "      <td>f</td>\n",
       "      <td>0</td>\n",
       "      <td>0</td>\n",
       "      <td>\"\"</td>\n",
       "      <td>\"\"\"readers are like super heroes</td>\n",
       "      <td>completed</td>\n",
       "    </tr>\n",
       "    <tr>\n",
       "      <th>3</th>\n",
       "      <td>\"\"\"183af384da17ccbdd72140d8daabeb8a\"\"\"</td>\n",
       "      <td>\"\"\"c71d10db81e2c2e455d5a62dcf87550b\"\"\"</td>\n",
       "      <td>0</td>\n",
       "      <td>no_cash_received</td>\n",
       "      <td>0</td>\n",
       "      <td>1</td>\n",
       "      <td>0</td>\n",
       "      <td>10.00</td>\n",
       "      <td>10_to_100</td>\n",
       "      <td>f</td>\n",
       "      <td>0</td>\n",
       "      <td>0</td>\n",
       "      <td>\"\"</td>\n",
       "      <td>\"\"\"GOD BLESS YOU! KEEP UP THE GOOD WORK!\"\"\"</td>\n",
       "      <td>completed</td>\n",
       "    </tr>\n",
       "    <tr>\n",
       "      <th>4</th>\n",
       "      <td>\"\"\"350299a9765c77228f2bcb2c450a095d\"\"\"</td>\n",
       "      <td>\"\"\"8a8b40c32e06554570241cec6295e80c\"\"\"</td>\n",
       "      <td>0</td>\n",
       "      <td>no_cash_received</td>\n",
       "      <td>0</td>\n",
       "      <td>1</td>\n",
       "      <td>0</td>\n",
       "      <td>25.00</td>\n",
       "      <td>10_to_100</td>\n",
       "      <td>f</td>\n",
       "      <td>0</td>\n",
       "      <td>0</td>\n",
       "      <td></td>\n",
       "      <td></td>\n",
       "      <td>completed</td>\n",
       "    </tr>\n",
       "  </tbody>\n",
       "</table>\n",
       "</div>"
      ],
      "text/plain": [
       "                               _projectid  \\\n",
       "0  \"\"\"0434af307dc45294c2eb748ffd935767\"\"\"   \n",
       "1  \"\"\"59f17c3f118cef16b2fee23ed74753fe\"\"\"   \n",
       "2  \"\"\"464e9eb3a3918a2d3f2006513bd42949\"\"\"   \n",
       "3  \"\"\"183af384da17ccbdd72140d8daabeb8a\"\"\"   \n",
       "4  \"\"\"350299a9765c77228f2bcb2c450a095d\"\"\"   \n",
       "\n",
       "                              _donationid is_teacher_acct    payment_method  \\\n",
       "0  \"\"\"83f29a83b88d0c7a1c96cf9bd9f3b2ab\"\"\"               0  no_cash_received   \n",
       "1  \"\"\"db4df4b7ed7f3e2145fc4550243304d9\"\"\"               0        creditcard   \n",
       "2  \"\"\"36a2ca9827e7d6ea6eb6235205b55309\"\"\"               0        creditcard   \n",
       "3  \"\"\"c71d10db81e2c2e455d5a62dcf87550b\"\"\"               0  no_cash_received   \n",
       "4  \"\"\"8a8b40c32e06554570241cec6295e80c\"\"\"               0  no_cash_received   \n",
       "\n",
       "  payment_included_acct_credit payment_included_campaign_gift_card  \\\n",
       "0                            1                                   0   \n",
       "1                            0                                   0   \n",
       "2                            0                                   0   \n",
       "3                            0                                   1   \n",
       "4                            0                                   1   \n",
       "\n",
       "  payment_included_web_purchased_gift_card donation_total dollar_amount  \\\n",
       "0                                        0          75.00     10_to_100   \n",
       "1                                        0         100.00    100_and_up   \n",
       "2                                        0          40.00     10_to_100   \n",
       "3                                        0          10.00     10_to_100   \n",
       "4                                        0          25.00     10_to_100   \n",
       "\n",
       "  payment_was_promo_matched via_giving_page for_honoree   donor_city  \\\n",
       "0                         f               0           0                \n",
       "1                         f               0           0  LOS ANGELES   \n",
       "2                         f               0           0           \"\"   \n",
       "3                         f               0           0           \"\"   \n",
       "4                         f               0           0                \n",
       "\n",
       "                                    donation_message funding_status  \n",
       "0                                                         completed  \n",
       "1  \"\"\"I gave to this project because I studied ab...      completed  \n",
       "2                   \"\"\"readers are like super heroes      completed  \n",
       "3        \"\"\"GOD BLESS YOU! KEEP UP THE GOOD WORK!\"\"\"      completed  \n",
       "4                                                         completed  "
      ]
     },
     "execution_count": 17,
     "metadata": {},
     "output_type": "execute_result"
    }
   ],
   "source": [
    "la_donations.head()"
   ]
  },
  {
   "cell_type": "markdown",
   "metadata": {},
   "source": [
    "## Feature Engineering "
   ]
  },
  {
   "cell_type": "markdown",
   "metadata": {},
   "source": [
    "Okay, so what are the potential features?"
   ]
  },
  {
   "cell_type": "code",
   "execution_count": 19,
   "metadata": {
    "collapsed": false
   },
   "outputs": [],
   "source": [
    "la_donations['funding_status_binary'] = la_donations.funding_status.map( {'completed': 1, 'expired': 0}).astype(int)"
   ]
  },
  {
   "cell_type": "code",
   "execution_count": 22,
   "metadata": {
    "collapsed": false
   },
   "outputs": [
    {
     "data": {
      "text/plain": [
       "0"
      ]
     },
     "execution_count": 22,
     "metadata": {},
     "output_type": "execute_result"
    }
   ],
   "source": [
    "sum(la_donations.is_teacher_acct.isnull())"
   ]
  },
  {
   "cell_type": "code",
   "execution_count": 23,
   "metadata": {
    "collapsed": false
   },
   "outputs": [
    {
     "data": {
      "text/plain": [
       "payment_method\n",
       "almost_home_match                                 (1.0, 1.0)\n",
       "amazon                      (0.913889034612, 0.930401622828)\n",
       "check                       (0.961322741381, 0.984273113541)\n",
       "creditcard                   (0.93678982861, 0.941695352509)\n",
       "double_your_impact_match                          (1.0, 1.0)\n",
       "no_cash_received            (0.934958208129, 0.937886296294)\n",
       "paypal                      (0.925519663773, 0.935521520397)\n",
       "promo_code_match            (0.945791924635, 0.952876915354)\n",
       "Name: funding_status_binary, dtype: object"
      ]
     },
     "execution_count": 23,
     "metadata": {},
     "output_type": "execute_result"
    }
   ],
   "source": [
    "la_donations.groupby(['payment_method'])['funding_status_binary'].apply(\\\n",
    "                            lambda x: (np.mean(x) - 1.96*np.sqrt(np.mean(x)*(1-np.mean(x))/len(x)),\\\n",
    "                                       np.mean(x) + 1.96*np.sqrt(np.mean(x)*(1-np.mean(x))/len(x))))"
   ]
  },
  {
   "cell_type": "code",
   "execution_count": 216,
   "metadata": {
    "collapsed": false
   },
   "outputs": [
    {
     "data": {
      "text/plain": [
       "Index([u'_projectid', u'_teacher_acctid', u'_schoolid', u'school_ncesid',\n",
       "       u'school_latitude', u'school_longitude', u'school_city',\n",
       "       u'school_state', u'school_zip', u'school_metro', u'school_district',\n",
       "       u'school_county', u'school_charter', u'school_magnet',\n",
       "       u'school_year_round', u'school_nlns', u'school_kipp',\n",
       "       u'school_charter_ready_promise', u'teacher_prefix',\n",
       "       u'teacher_teach_for_america', u'teacher_ny_teaching_fellow',\n",
       "       u'primary_focus_subject', u'primary_focus_area',\n",
       "       u'secondary_focus_subject', u'secondary_focus_area', u'resource_type',\n",
       "       u'poverty_level', u'grade_level', u'vendor_shipping_charges',\n",
       "       u'sales_tax', u'payment_processing_charges',\n",
       "       u'fulfillment_labor_materials',\n",
       "       u'total_price_excluding_optional_support',\n",
       "       u'total_price_including_optional_support', u'students_reached',\n",
       "       u'total_donations', u'num_donors', u'eligible_double_your_impact_match',\n",
       "       u'eligible_almost_home_match', u'funding_status', u'date_posted',\n",
       "       u'date_completed', u'date_thank_you_packet_mailed', u'date_expiration',\n",
       "       u'_donationid', u'_donor_acctid', u'_cartid', u'donor_city',\n",
       "       u'donor_state', u'donor_zip', u'is_teacher_acct', u'donation_timestamp',\n",
       "       u'donation_to_project', u'donation_optional_support', u'donation_total',\n",
       "       u'dollar_amount', u'donation_included_optional_support',\n",
       "       u'payment_method', u'payment_included_acct_credit',\n",
       "       u'payment_included_campaign_gift_card',\n",
       "       u'payment_included_web_purchased_gift_card',\n",
       "       u'payment_was_promo_matched', u'via_giving_page', u'for_honoree',\n",
       "       u'donation_message', u'funding_status_binary'],\n",
       "      dtype='object')"
      ]
     },
     "execution_count": 216,
     "metadata": {},
     "output_type": "execute_result"
    }
   ],
   "source": [
    "projects_donations_la.columns"
   ]
  },
  {
   "cell_type": "code",
   "execution_count": 249,
   "metadata": {
    "collapsed": false
   },
   "outputs": [
    {
     "data": {
      "text/plain": [
       "school_zip\n",
       "9001      458.770000\n",
       "90001     661.894320\n",
       "90002     584.937177\n",
       "90003     680.793888\n",
       "90004     580.458395\n",
       "90005     850.052593\n",
       "90006     576.762166\n",
       "90007     791.229370\n",
       "90008    1161.291051\n",
       "90010     866.726400\n",
       "90011    1133.246199\n",
       "90012     725.466021\n",
       "90015     708.179067\n",
       "90016     802.557543\n",
       "90017    1988.388755\n",
       "90018     624.118355\n",
       "90019     634.930454\n",
       "90021     546.029734\n",
       "90022     602.736738\n",
       "90023     583.806900\n",
       "90024    3290.116037\n",
       "90025     666.896968\n",
       "90026     696.597304\n",
       "90027     534.366420\n",
       "90028     819.729051\n",
       "90029     711.389765\n",
       "90031     549.343615\n",
       "90032     669.409618\n",
       "90033     589.494465\n",
       "90034     585.718115\n",
       "            ...     \n",
       "91750     223.707288\n",
       "91754     728.653564\n",
       "91755       0.000000\n",
       "91765     605.685041\n",
       "91766     444.235455\n",
       "91767     357.299215\n",
       "91768     657.289154\n",
       "91770     593.036584\n",
       "91773     685.500681\n",
       "91775     587.913556\n",
       "91776     791.290973\n",
       "91780    1060.341362\n",
       "91789     849.433333\n",
       "91790    1013.849309\n",
       "91791     440.952174\n",
       "91792     399.966564\n",
       "91801     572.462180\n",
       "91803     279.404615\n",
       "93243       0.000000\n",
       "93510     543.648053\n",
       "93532     244.150000\n",
       "93534     494.197339\n",
       "93535     654.883774\n",
       "93536     960.070438\n",
       "93543     388.892692\n",
       "93550     589.906738\n",
       "93551     855.579512\n",
       "93552     547.628511\n",
       "93553       0.000000\n",
       "93591     606.666731\n",
       "Name: total_donations, dtype: float64"
      ]
     },
     "execution_count": 249,
     "metadata": {},
     "output_type": "execute_result"
    }
   ],
   "source": [
    "projects_donations_la.groupby('school_zip').total_donations.mean()"
   ]
  },
  {
   "cell_type": "code",
   "execution_count": 251,
   "metadata": {
    "collapsed": false
   },
   "outputs": [
    {
     "data": {
      "text/plain": [
       "school_zip\n",
       "9001     12.583333\n",
       "90001    20.281827\n",
       "90002    16.029231\n",
       "90003    19.646871\n",
       "90004    14.978911\n",
       "90005    22.897305\n",
       "90006    21.200358\n",
       "90007    18.908572\n",
       "90008    13.800930\n",
       "90010     8.520000\n",
       "90011    24.956159\n",
       "90012    23.374522\n",
       "90015    19.007131\n",
       "90016    24.831281\n",
       "90017    24.703975\n",
       "90018    16.282940\n",
       "90019    16.970936\n",
       "90021     9.355482\n",
       "90022    17.841793\n",
       "90023    16.375624\n",
       "90024    23.208166\n",
       "90025    14.884425\n",
       "90026    20.172777\n",
       "90027    15.769748\n",
       "90028    19.746237\n",
       "90029    27.048387\n",
       "90031    15.564717\n",
       "90032    19.273789\n",
       "90033    17.131801\n",
       "90034    20.010783\n",
       "           ...    \n",
       "91750     7.118644\n",
       "91754    10.405941\n",
       "91755     1.666667\n",
       "91765     9.867769\n",
       "91766     5.925620\n",
       "91767     6.780105\n",
       "91768    20.146154\n",
       "91770    11.334158\n",
       "91773    66.126783\n",
       "91775    38.111925\n",
       "91776    32.250450\n",
       "91780    16.103286\n",
       "91789     7.928571\n",
       "91790    13.321291\n",
       "91791     6.423913\n",
       "91792    14.405128\n",
       "91801    11.436090\n",
       "91803     7.923077\n",
       "93243     1.000000\n",
       "93510    14.557522\n",
       "93532     7.000000\n",
       "93534     6.678899\n",
       "93535     8.012579\n",
       "93536    10.359447\n",
       "93543     3.884615\n",
       "93550    11.813620\n",
       "93551     7.959350\n",
       "93552     5.397163\n",
       "93553     1.000000\n",
       "93591     5.538462\n",
       "Name: num_donors, dtype: float64"
      ]
     },
     "execution_count": 251,
     "metadata": {},
     "output_type": "execute_result"
    }
   ],
   "source": [
    "projects_donations_la.groupby('school_zip').num_donors.mean()"
   ]
  },
  {
   "cell_type": "code",
   "execution_count": null,
   "metadata": {
    "collapsed": true
   },
   "outputs": [],
   "source": []
  },
  {
   "cell_type": "code",
   "execution_count": null,
   "metadata": {
    "collapsed": true
   },
   "outputs": [],
   "source": []
  },
  {
   "cell_type": "code",
   "execution_count": null,
   "metadata": {
    "collapsed": true
   },
   "outputs": [],
   "source": []
  },
  {
   "cell_type": "code",
   "execution_count": null,
   "metadata": {
    "collapsed": true
   },
   "outputs": [],
   "source": []
  },
  {
   "cell_type": "markdown",
   "metadata": {},
   "source": [
    "1. Does the success rate vary by zipcode?\n",
    "2. how many unique donors at each zipcode\n",
    "3. grouping zipcode --> how?\n",
    "\n",
    "Donations made by the zip, city, state of the project:\n",
    "a. sum and mean amount donated"
   ]
  },
  {
   "cell_type": "code",
   "execution_count": null,
   "metadata": {
    "collapsed": true
   },
   "outputs": [],
   "source": []
  }
 ],
 "metadata": {
  "kernelspec": {
   "display_name": "Python 2",
   "language": "python",
   "name": "python2"
  },
  "language_info": {
   "codemirror_mode": {
    "name": "ipython",
    "version": 2
   },
   "file_extension": ".py",
   "mimetype": "text/x-python",
   "name": "python",
   "nbconvert_exporter": "python",
   "pygments_lexer": "ipython2",
   "version": "2.7.9"
  }
 },
 "nbformat": 4,
 "nbformat_minor": 0
}
