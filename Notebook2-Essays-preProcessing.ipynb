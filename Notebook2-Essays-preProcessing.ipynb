{
 "cells": [
  {
   "cell_type": "code",
   "execution_count": 108,
   "metadata": {
    "collapsed": false
   },
   "outputs": [],
   "source": [
    "%matplotlib inline\n",
    "from __future__ import unicode_literals \n",
    "from spacy.en import English\n",
    "import re\n",
    "import nltk\n",
    "from nltk.corpus import stopwords\n",
    "from nltk.corpus import sentiwordnet as swn\n",
    "\n",
    "import MySQLdb as mdb\n",
    "import pandas as pd\n",
    "import numpy as np\n",
    "\n",
    "import matplotlib.pyplot as plt\n",
    "import matplotlib\n",
    "import matplotlib.patches as mpatches\n",
    "\n",
    "import sys  \n",
    "#reload(sys)  \n",
    "#sys.setdefaultencoding('utf8')"
   ]
  },
  {
   "cell_type": "markdown",
   "metadata": {},
   "source": [
    "# Helper Functions "
   ]
  },
  {
   "cell_type": "markdown",
   "metadata": {},
   "source": [
    "### Fetch Data From MySQL "
   ]
  },
  {
   "cell_type": "code",
   "execution_count": 15,
   "metadata": {
    "collapsed": true
   },
   "outputs": [],
   "source": [
    "def fetch(cols,table,where=None,group_by=None,order_by=None,Desc=False,limit=None):\n",
    "    \"\"\"\n",
    "    Purpose: Makes the MySQL quesries more efficitent and faster.\n",
    "    \n",
    "    Note: All inputs have to be in STRING format except the 'limit' which is an int\n",
    "    \"\"\"\n",
    "    \n",
    "    # Opening a Connection to donorsChoose Database\n",
    "    con = mdb.connect('localhost', 'idx', 'donorsChoose', 'donors');\n",
    "    cur = con.cursor()\n",
    "    \n",
    "    # Creating a query\n",
    "    query = 'SELECT ' + cols + ' FROM ' + table + ' '\n",
    "    if where: query += ' WHERE ' + where + ' '\n",
    "    if group_by: query += 'GROUP BY ' + group_by + ' '\n",
    "    if order_by: query += 'ORDER BY ' + order_by + ' '\n",
    "    if Desc: query += 'DESC '\n",
    "    if limit: query += 'LIMIT ' + str(limit)\n",
    "    \n",
    "    # fetching the data and turn it into a pandas dataframe\n",
    "    cur.execute(query)\n",
    "    output = np.array(cur.fetchall())\n",
    "    colm = [f[0] for f in cur.description]\n",
    "    output = pd.DataFrame(output)\n",
    "    output.columns = colm\n",
    "\n",
    "    # Closing the connection to the database\n",
    "    con.close()\n",
    "    \n",
    "    return output"
   ]
  },
  {
   "cell_type": "markdown",
   "metadata": {},
   "source": [
    "## Finding The Essays for LA Projects "
   ]
  },
  {
   "cell_type": "markdown",
   "metadata": {
    "collapsed": true
   },
   "source": [
    "It turned out that the essay data is super messy and not clean. It's not possible to create a MySQL database from the CSV file as there are commas within an essay and split up a paragraph into several columns. Not fun!\n",
    "\n",
    "So, let's start simple. Let's find all the LA projects essays using the projects_ID. Next, we will delve into cleaning the dataset."
   ]
  },
  {
   "cell_type": "code",
   "execution_count": 45,
   "metadata": {
    "collapsed": false
   },
   "outputs": [],
   "source": [
    "la_projectID = fetch('_projectid','projects',where=\"school_county='Los Angeles'\")"
   ]
  },
  {
   "cell_type": "markdown",
   "metadata": {},
   "source": [
    "Instead of grabbing the LA projects essay from MySQL, I open a connection to the CSV file. The CSV file is several GB so I cannot just read the whole file."
   ]
  },
  {
   "cell_type": "code",
   "execution_count": 63,
   "metadata": {
    "collapsed": false
   },
   "outputs": [],
   "source": [
    "con = open('opendata_essays.csv','r')"
   ]
  },
  {
   "cell_type": "markdown",
   "metadata": {},
   "source": [
    "Need to know how many essays are avaliable. That will be the number of iterations. The number of essays is equal to the number of projects."
   ]
  },
  {
   "cell_type": "code",
   "execution_count": 57,
   "metadata": {
    "collapsed": true
   },
   "outputs": [],
   "source": [
    "numberofEssays = fetch('count(_projectid)','projects')"
   ]
  },
  {
   "cell_type": "markdown",
   "metadata": {},
   "source": [
    "Look up for sets are much faster so let's convert the projects ID list to a set. "
   ]
  },
  {
   "cell_type": "code",
   "execution_count": 58,
   "metadata": {
    "collapsed": false
   },
   "outputs": [],
   "source": [
    "la_projectID = set(la_projectID.iloc[:,0]) ## Look up in set is much faster I believe"
   ]
  },
  {
   "cell_type": "markdown",
   "metadata": {},
   "source": [
    "In the essay table, projects ID are written as \"\"\"porjectID\"\"\". Therefore, I use regular expression for extracting the projectID in each line. "
   ]
  },
  {
   "cell_type": "code",
   "execution_count": 64,
   "metadata": {
    "collapsed": false
   },
   "outputs": [],
   "source": [
    "la_essays = []\n",
    "\n",
    "header = con.readline() # First line is the header\n",
    "\n",
    "for i in xrange(numberofEssays.iloc[0,0]):  # numberofEssays is 1x1 Data Frame!\n",
    "    aLine = con.readline()\n",
    "    try:\n",
    "        # Finding each project done in LA\n",
    "        if re.search('(\"\"\"[^\"]*\"\"\")',aLine).group(1) in la_projectID:\n",
    "            la_essays.append(aLine)\n",
    "    except:\n",
    "        pass\n",
    "con.close()"
   ]
  },
  {
   "cell_type": "code",
   "execution_count": 67,
   "metadata": {
    "collapsed": false
   },
   "outputs": [
    {
     "data": {
      "text/plain": [
       "'\"\"\"13c49e14e9f1fab543d57df3cb462417\"\"\",\"\"\"da5e9d2e9ccb8192a62309841135d10d\"\"\",\"\"\"Kinesthetic Approach To Math Illiteracy\"\"\",\"\"\"Many children are frustrated by mathematics  because they are unable to grasp the connections between various mathematical concepts and the real world.   During the development of 6th grade number sense, students must comprehend the relationship between fractions,...\"\"\",\"\"\"The cost of Fraction, Percent, and Decimal Tower Activity Sets from Delta Education is $576, including shipping and <a target=\"\"\"\"new\"\"\"\" href=\"\"\"\"http://www.donorschoose.org/html/fulfillment.htm\"\"\"\" onclick=\"\"\"\"g_openWindow(\\'http://www.donorschoose.org/html/fulfillment.htm\\', 300, 800, \\'fulfillwindow\\');return false;\"\"\"\">fulfillment</a>.\"\"\",\"\"\"Many children are frustrated by mathematics  because they are unable to grasp the connections between various mathematical concepts and the real world.   During the development of 6th grade number sense, students must comprehend the relationship between fractions, decimals and percents not only to progress to the next math level, but to be math literate in their daily lives. \\r\\\\n\\r\\\\nThe Fraction, Percent and Decimal activity sets that I am requesting provide a kinesthetic solution to this problem.  Setting up partner workstations with these interactive sets will give my students the opportunity to be collaborative learners and problem solvers who make connections between math concepts and the world outside the classroom.  With this exceptional opportunity for engaging, hands on and just plain fun activities, it is guaranteed that no child in my class will leave 6th grade Math Illiterate.\\r\\\\n\\r\\\\nProven research has shown that students learn best from hands on, inquiry based learning that engages their attention and makes real world connections.  The NCTM Standards based fraction manipulatives I request make it easy for students to draw mathematical connections between basic and advanced rational number concepts.  With these resources I plan to create an environment in my classroom that is a catalyst for learning and a safety net for those students who would otherwise fall through the cracks.\\r\\\\n\\r\\\\nSo many of our urban students slip through the educational system and even graduate high school completely math illiterate and unprepared for the working world.  My own students are especially at risk with English as their second language at Hart Prep in Downtown Los Angeles.  They especially need hands on contact with these math concepts, since my English explanations of conceptual mathematics are often only somewhat understood.  So much of their energy goes into understanding my English instruction that they have little time left to process the math concept I am teaching them about.\\r\\\\n\\r\\\\nPlease consider the following:  If a student can not find a percent discount in a store, deal with money values or measure fractions of amounts in a recipe then that student is showing a severe type of illiteracy that so often goes unnoticed in today\\'s school system; that child is math illiterate and will grow up to become an adult who can not function at even the most basic of professions.  Thank you for funding my proposal to ensure that my students will leave 6th grade with a firm grasp of the math facts neccessary to make them employable and productive members of society. \\r\\\\n\"\"\",\"\"\"Many children are frustrated by mathematics  because they are unable to grasp the connections between various mathematical concepts and the real world.   During the development of 6th grade number sense, students must comprehend the relationship between fractions, decimals and percents not only to progress to the next math level, but to be math literate in their daily lives. \\r\\\\n\\r\\\\nThe Fraction, Percent and Decimal activity sets that I am requesting provide a kinesthetic solution to this problem.  Setting up partner workstations with these interactive sets will give my students the opportunity to be collaborative learners and problem solvers who make connections between math concepts and the world outside the classroom.  With this exceptional opportunity for engaging, hands on and just plain fun activities, it is guaranteed that no child in my class will leave 6th grade Math Illiterate.\\r\\\\n\\r\\\\nProven research has shown that students learn best from hands on, inquiry based learning that engages their attention and makes real world connections.  The NCTM Standards based fraction manipulatives I request make it easy for students to draw mathematical connections between basic and advanced rational number concepts.  With these resources I plan to create an environment in my classroom that is a catalyst for learning and a safety net for those students who would otherwise fall through the cracks.\\r\\\\n\\r\\\\nSo many of our urban students slip through the educational system and even graduate high school completely math illiterate and unprepared for the working world.  My own students are especially at risk with English as their second language at Hart Prep in Downtown Los Angeles.  They especially need hands on contact with these math concepts, since my English explanations of conceptual mathematics are often only somewhat understood.  So much of their energy goes into understanding my English instruction that they have little time left to process the math concept I am teaching them about.\\r\\\\n\\r\\\\nPlease consider the following:  If a student can not find a percent discount in a store, deal with money values or measure fractions of amounts in a recipe then that student is showing a severe type of illiteracy that so often goes unnoticed in today\\'s school system; that child is math illiterate and will grow up to become an adult who can not function at even the most basic of professions.  Thank you for funding my proposal to ensure that my students will leave 6th grade with a firm grasp of the math facts neccessary to make them employable and productive members of society. \\r\\\\n\"\"\",,,,,\\n'"
      ]
     },
     "execution_count": 67,
     "metadata": {},
     "output_type": "execute_result"
    }
   ],
   "source": [
    "la_essays[0]"
   ]
  },
  {
   "cell_type": "markdown",
   "metadata": {},
   "source": [
    "Time to cleanup this mess!"
   ]
  },
  {
   "cell_type": "markdown",
   "metadata": {
    "collapsed": false
   },
   "source": [
    "# Cleaning Data "
   ]
  },
  {
   "cell_type": "markdown",
   "metadata": {},
   "source": [
    "Keeping a copy of not cleaned data around just in case."
   ]
  },
  {
   "cell_type": "code",
   "execution_count": 69,
   "metadata": {
    "collapsed": false
   },
   "outputs": [],
   "source": [
    "la_essays_dirty = la_essays[:]"
   ]
  },
  {
   "cell_type": "markdown",
   "metadata": {},
   "source": [
    "Most of the trial and errors for parsing are not included in this notebook to keep it easier to follow the flow. Below are the necessary steps."
   ]
  },
  {
   "cell_type": "markdown",
   "metadata": {},
   "source": [
    "### Removing HTML tags"
   ]
  },
  {
   "cell_type": "code",
   "execution_count": 70,
   "metadata": {
    "collapsed": false
   },
   "outputs": [],
   "source": [
    "for i in xrange(len(la_essays_dirty)):\n",
    "    proposal = la_essays_dirty[i]\n",
    "    try:\n",
    "        la_essays_dirty[i] = re.sub(\"<[^>]*>\", \"\",proposal)\n",
    "    except:\n",
    "        pass"
   ]
  },
  {
   "cell_type": "markdown",
   "metadata": {},
   "source": [
    "### Removing Extra Quotation Marks"
   ]
  },
  {
   "cell_type": "markdown",
   "metadata": {},
   "source": [
    "Removing 3 to 7 quotation marks in the text. Different number of Quotation marks are used for quoting in a proposal. Not consistent!"
   ]
  },
  {
   "cell_type": "code",
   "execution_count": 71,
   "metadata": {
    "collapsed": false
   },
   "outputs": [],
   "source": [
    "for i in xrange(len(la_essays_dirty)):\n",
    "    proposal = la_essays_dirty[i]\n",
    "    try:\n",
    "        la_essays_dirty[i] = re.sub('[^,]\"{3,7}[^,]', \"\",proposal)\n",
    "    except:\n",
    "        pass"
   ]
  },
  {
   "cell_type": "markdown",
   "metadata": {},
   "source": [
    "### Parsing "
   ]
  },
  {
   "cell_type": "markdown",
   "metadata": {
    "collapsed": false
   },
   "source": [
    "The key is undertanding the pattern. It is \"\"\"TEXT\"\"\",\"\"\"TEXT\"\"\" to the end. But the problem is that the TEXT may contain \"\"\", in it. That's why I removed HTML and [^,]\"{3,7}[^,]. "
   ]
  },
  {
   "cell_type": "code",
   "execution_count": 73,
   "metadata": {
    "collapsed": true
   },
   "outputs": [],
   "source": [
    "pattern = re.compile(r'(\"\"\"[^\"]*\"\"\"),(\"\"\"[^\"]*\"\"\"),(\"\"\"[^\"]*\"\"\")?,(\"\"\"[^\"]*\"\"\")?,\\\n",
    "(\"\"\"[^\"]*\"\"\")?,(\"\"\"[^\"]*\"\"\")?,(\"\"\"[^\"]*\"\"\")?,(\"\"\"[^\"]*\"\"\")?,(\"\"\"[^\"]*\"\"\")?,\\\n",
    "(\"\"\"[^\"]*\"\"\")?,(\"\"\"[^\"]*\"\"\")?,(\"\"\"[^\"]*\"\"\")?')"
   ]
  },
  {
   "cell_type": "code",
   "execution_count": 74,
   "metadata": {
    "collapsed": false
   },
   "outputs": [],
   "source": [
    "not_follow_the_pattern = []\n",
    "parsed = []\n",
    "\n",
    "# Let's find all that match the pattern\n",
    "for i in xrange(len(la_essays_dirty)):\n",
    "    proposal = la_essays_dirty[i]\n",
    "    try:\n",
    "        results = pattern.match(proposal)\n",
    "        parsed.append(results.groups())\n",
    "    except:\n",
    "        not_follow_the_pattern.append(i)"
   ]
  },
  {
   "cell_type": "code",
   "execution_count": 78,
   "metadata": {
    "collapsed": false
   },
   "outputs": [
    {
     "data": {
      "text/plain": [
       "0.0872241689553935"
      ]
     },
     "execution_count": 78,
     "metadata": {},
     "output_type": "execute_result"
    }
   ],
   "source": [
    "len(not_follow_the_pattern)/float(len(la_essays))"
   ]
  },
  {
   "cell_type": "markdown",
   "metadata": {},
   "source": [
    "Still there are 10% won't be recovered but that's okay. I will look into one I have more time!"
   ]
  },
  {
   "cell_type": "markdown",
   "metadata": {},
   "source": [
    "### Parsed Data to DataFrame "
   ]
  },
  {
   "cell_type": "code",
   "execution_count": 80,
   "metadata": {
    "collapsed": true
   },
   "outputs": [],
   "source": [
    "essays_la_clean = pd.DataFrame(parsed)\n",
    "\n",
    "# Correcting the Columns Names\n",
    "essays_la_clean.columns =['_projectid','_teacher_acctid','title','short_description','need_statement','essay'\n",
    "                          ,'paragraph1','paragraph2','paragraph3','paragraph4','thankyou_note','impact_letter']"
   ]
  },
  {
   "cell_type": "markdown",
   "metadata": {},
   "source": [
    "Impact letter and essay were used only for few years and are outdates. Also, thank you note will not be part of the analysis."
   ]
  },
  {
   "cell_type": "code",
   "execution_count": 84,
   "metadata": {
    "collapsed": false
   },
   "outputs": [
    {
     "data": {
      "text/html": [
       "<div style=\"max-height:1000px;max-width:1500px;overflow:auto;\">\n",
       "<table border=\"1\" class=\"dataframe\">\n",
       "  <thead>\n",
       "    <tr style=\"text-align: right;\">\n",
       "      <th></th>\n",
       "      <th>_projectid</th>\n",
       "      <th>_teacher_acctid</th>\n",
       "      <th>title</th>\n",
       "      <th>short_description</th>\n",
       "      <th>need_statement</th>\n",
       "      <th>paragraph1</th>\n",
       "      <th>paragraph2</th>\n",
       "      <th>paragraph3</th>\n",
       "      <th>paragraph4</th>\n",
       "    </tr>\n",
       "  </thead>\n",
       "  <tbody>\n",
       "    <tr>\n",
       "      <th>1096</th>\n",
       "      <td>\"\"\"2128b81b571d16dcba07bcd12b84fbe4\"\"\"</td>\n",
       "      <td>\"\"\"a44ab9dfc3abd165344b69d20cfa6fc2\"\"\"</td>\n",
       "      <td>\"\"\"Math Literacy in the Classroom\"\"\"</td>\n",
       "      <td>\"\"\"I have requested two books titledath Doesn'...</td>\n",
       "      <td>\"\"\"My  50 students need opportunities to read ...</td>\n",
       "      <td>\"\"\"Math Literacy Counts.\\r\\nI am a 6th grade t...</td>\n",
       "      <td>\"\"\"Integrating literacy in Math and Science ar...</td>\n",
       "      <td>\"\"\"I have requested two books titledath Doesn'...</td>\n",
       "      <td>\"\"\"Donating to this project will make a big di...</td>\n",
       "    </tr>\n",
       "    <tr>\n",
       "      <th>1307</th>\n",
       "      <td>\"\"\"49757e8d0a75080330f66399d8a7dbad\"\"\"</td>\n",
       "      <td>\"\"\"653b846827143f24d85c5b8411fcb0f4\"\"\"</td>\n",
       "      <td>\"\"\"Loose DVD Round-Up: File Cabinet Needed!\"\"\"</td>\n",
       "      <td>\"\"\"We don't have room to organize and store ou...</td>\n",
       "      <td>\"\"\"My students need a metal file cabinet.\"\"\"</td>\n",
       "      <td>\"\"\"At-risk teens are turning their lives aroun...</td>\n",
       "      <td>\"\"\"The good news? Recently, DonorsChoose made ...</td>\n",
       "      <td>\"\"\"The solution to our problem is easy for a g...</td>\n",
       "      <td>\"\"\"Your donation of a locking file cabinet wil...</td>\n",
       "    </tr>\n",
       "    <tr>\n",
       "      <th>1522</th>\n",
       "      <td>\"\"\"110b2c2e211ed90d0dcf7977a9e8b7b4\"\"\"</td>\n",
       "      <td>\"\"\"0e874ded725f79084fcee5038d08b83c\"\"\"</td>\n",
       "      <td>\"\"\"If You Give A Child A Book...Great Authors ...</td>\n",
       "      <td>\"\"\"If you give a child a book, he or she will ...</td>\n",
       "      <td>\"\"\"My project needs ten books by the author La...</td>\n",
       "      <td>\"\"\"If you give a child a book, he or she will ...</td>\n",
       "      <td>\"\"\"Last year our school purchased the Accelera...</td>\n",
       "      <td>\"\"\"The kinds of books that inspire my students...</td>\n",
       "      <td>\"\"\"Your generous book donation will make it po...</td>\n",
       "    </tr>\n",
       "    <tr>\n",
       "      <th>2085</th>\n",
       "      <td>\"\"\"22a6e1647a14e4ea45aa34d9a762fcb9\"\"\"</td>\n",
       "      <td>\"\"\"2d48efb095521aa0374ee34f680fea70\"\"\"</td>\n",
       "      <td>\"\"\"Racquet Sports for Seventh Graders\"\"\"</td>\n",
       "      <td>\"\"\"We have the racquets and a teacher with the...</td>\n",
       "      <td>\"\"\"My project needs practice tennis balls.\"\"\"</td>\n",
       "      <td>\"\"\"I am a seventh grade Physical Education tea...</td>\n",
       "      <td>\"\"\"In my class students are taught to face the...</td>\n",
       "      <td>\"\"\"My students would like to learn how to play...</td>\n",
       "      <td>\"\"\"Your donation would help introduce this exc...</td>\n",
       "    </tr>\n",
       "    <tr>\n",
       "      <th>2135</th>\n",
       "      <td>\"\"\"5d0b532db5283bb6dffff3d7cfe48dd3\"\"\"</td>\n",
       "      <td>\"\"\"6286d37992e286cabaad02ae33c444ab\"\"\"</td>\n",
       "      <td>\"\"\"Stop Iliteracy \"\"\"</td>\n",
       "      <td>\"\"\"I would like to provide my students with a ...</td>\n",
       "      <td>\"\"\"My students need a classroom library set of...</td>\n",
       "      <td>\"\"\"I am a second grade teacher at an inner cit...</td>\n",
       "      <td>\"\"\"My students face many obstacles in their ho...</td>\n",
       "      <td>\"\"\"I believe these materials will be an excell...</td>\n",
       "      <td>\"\"\"Your help will ensure that my students get ...</td>\n",
       "    </tr>\n",
       "  </tbody>\n",
       "</table>\n",
       "</div>"
      ],
      "text/plain": [
       "                                  _projectid  \\\n",
       "1096  \"\"\"2128b81b571d16dcba07bcd12b84fbe4\"\"\"   \n",
       "1307  \"\"\"49757e8d0a75080330f66399d8a7dbad\"\"\"   \n",
       "1522  \"\"\"110b2c2e211ed90d0dcf7977a9e8b7b4\"\"\"   \n",
       "2085  \"\"\"22a6e1647a14e4ea45aa34d9a762fcb9\"\"\"   \n",
       "2135  \"\"\"5d0b532db5283bb6dffff3d7cfe48dd3\"\"\"   \n",
       "\n",
       "                             _teacher_acctid  \\\n",
       "1096  \"\"\"a44ab9dfc3abd165344b69d20cfa6fc2\"\"\"   \n",
       "1307  \"\"\"653b846827143f24d85c5b8411fcb0f4\"\"\"   \n",
       "1522  \"\"\"0e874ded725f79084fcee5038d08b83c\"\"\"   \n",
       "2085  \"\"\"2d48efb095521aa0374ee34f680fea70\"\"\"   \n",
       "2135  \"\"\"6286d37992e286cabaad02ae33c444ab\"\"\"   \n",
       "\n",
       "                                                  title  \\\n",
       "1096               \"\"\"Math Literacy in the Classroom\"\"\"   \n",
       "1307     \"\"\"Loose DVD Round-Up: File Cabinet Needed!\"\"\"   \n",
       "1522  \"\"\"If You Give A Child A Book...Great Authors ...   \n",
       "2085           \"\"\"Racquet Sports for Seventh Graders\"\"\"   \n",
       "2135                              \"\"\"Stop Iliteracy \"\"\"   \n",
       "\n",
       "                                      short_description  \\\n",
       "1096  \"\"\"I have requested two books titledath Doesn'...   \n",
       "1307  \"\"\"We don't have room to organize and store ou...   \n",
       "1522  \"\"\"If you give a child a book, he or she will ...   \n",
       "2085  \"\"\"We have the racquets and a teacher with the...   \n",
       "2135  \"\"\"I would like to provide my students with a ...   \n",
       "\n",
       "                                         need_statement  \\\n",
       "1096  \"\"\"My  50 students need opportunities to read ...   \n",
       "1307       \"\"\"My students need a metal file cabinet.\"\"\"   \n",
       "1522  \"\"\"My project needs ten books by the author La...   \n",
       "2085      \"\"\"My project needs practice tennis balls.\"\"\"   \n",
       "2135  \"\"\"My students need a classroom library set of...   \n",
       "\n",
       "                                             paragraph1  \\\n",
       "1096  \"\"\"Math Literacy Counts.\\r\\nI am a 6th grade t...   \n",
       "1307  \"\"\"At-risk teens are turning their lives aroun...   \n",
       "1522  \"\"\"If you give a child a book, he or she will ...   \n",
       "2085  \"\"\"I am a seventh grade Physical Education tea...   \n",
       "2135  \"\"\"I am a second grade teacher at an inner cit...   \n",
       "\n",
       "                                             paragraph2  \\\n",
       "1096  \"\"\"Integrating literacy in Math and Science ar...   \n",
       "1307  \"\"\"The good news? Recently, DonorsChoose made ...   \n",
       "1522  \"\"\"Last year our school purchased the Accelera...   \n",
       "2085  \"\"\"In my class students are taught to face the...   \n",
       "2135  \"\"\"My students face many obstacles in their ho...   \n",
       "\n",
       "                                             paragraph3  \\\n",
       "1096  \"\"\"I have requested two books titledath Doesn'...   \n",
       "1307  \"\"\"The solution to our problem is easy for a g...   \n",
       "1522  \"\"\"The kinds of books that inspire my students...   \n",
       "2085  \"\"\"My students would like to learn how to play...   \n",
       "2135  \"\"\"I believe these materials will be an excell...   \n",
       "\n",
       "                                             paragraph4  \n",
       "1096  \"\"\"Donating to this project will make a big di...  \n",
       "1307  \"\"\"Your donation of a locking file cabinet wil...  \n",
       "1522  \"\"\"Your generous book donation will make it po...  \n",
       "2085  \"\"\"Your donation would help introduce this exc...  \n",
       "2135  \"\"\"Your help will ensure that my students get ...  "
      ]
     },
     "execution_count": 84,
     "metadata": {},
     "output_type": "execute_result"
    }
   ],
   "source": [
    "essays_la_clean = essays_la_clean.drop(['thankyou_note','impact_letter','essay'],axis=1)\n",
    "# To make life easier\n",
    "essays_la_clean = essays_la_clean.dropna()\n",
    "essays_la_clean.head()"
   ]
  },
  {
   "cell_type": "code",
   "execution_count": 85,
   "metadata": {
    "collapsed": false
   },
   "outputs": [
    {
     "data": {
      "text/plain": [
       "0.8450989677052752"
      ]
     },
     "execution_count": 85,
     "metadata": {},
     "output_type": "execute_result"
    }
   ],
   "source": [
    "essays_la_clean.shape[0]/float(len(la_essays))"
   ]
  },
  {
   "cell_type": "markdown",
   "metadata": {
    "collapsed": false
   },
   "source": [
    "I have lost 15% of the essays. There are about 45K essays cleaned and ready to be used. If there are some amazing features, I will spend more time on retrieving that 15%."
   ]
  },
  {
   "cell_type": "markdown",
   "metadata": {},
   "source": [
    "# Feature Engineering"
   ]
  },
  {
   "cell_type": "markdown",
   "metadata": {},
   "source": [
    "Need to add the funding status to the essay dataset to examine the predictive value of a feature."
   ]
  },
  {
   "cell_type": "code",
   "execution_count": 86,
   "metadata": {
    "collapsed": true
   },
   "outputs": [],
   "source": [
    "funding_status = fetch('_projectid,funding_status','projects',where=\"school_county='Los Angeles'\")"
   ]
  },
  {
   "cell_type": "code",
   "execution_count": 89,
   "metadata": {
    "collapsed": false
   },
   "outputs": [],
   "source": [
    "essays_la_clean = pd.merge(essays_la_clean, funding_status, how='inner', on='_projectid')"
   ]
  },
  {
   "cell_type": "code",
   "execution_count": 91,
   "metadata": {
    "collapsed": false
   },
   "outputs": [
    {
     "data": {
      "text/html": [
       "<div style=\"max-height:1000px;max-width:1500px;overflow:auto;\">\n",
       "<table border=\"1\" class=\"dataframe\">\n",
       "  <thead>\n",
       "    <tr style=\"text-align: right;\">\n",
       "      <th></th>\n",
       "      <th>_projectid</th>\n",
       "      <th>_teacher_acctid</th>\n",
       "      <th>title</th>\n",
       "      <th>short_description</th>\n",
       "      <th>need_statement</th>\n",
       "      <th>paragraph1</th>\n",
       "      <th>paragraph2</th>\n",
       "      <th>paragraph3</th>\n",
       "      <th>paragraph4</th>\n",
       "      <th>funding_status</th>\n",
       "    </tr>\n",
       "  </thead>\n",
       "  <tbody>\n",
       "    <tr>\n",
       "      <th>0</th>\n",
       "      <td>\"\"\"2128b81b571d16dcba07bcd12b84fbe4\"\"\"</td>\n",
       "      <td>\"\"\"a44ab9dfc3abd165344b69d20cfa6fc2\"\"\"</td>\n",
       "      <td>\"\"\"Math Literacy in the Classroom\"\"\"</td>\n",
       "      <td>\"\"\"I have requested two books titledath Doesn'...</td>\n",
       "      <td>\"\"\"My  50 students need opportunities to read ...</td>\n",
       "      <td>\"\"\"Math Literacy Counts.\\r\\nI am a 6th grade t...</td>\n",
       "      <td>\"\"\"Integrating literacy in Math and Science ar...</td>\n",
       "      <td>\"\"\"I have requested two books titledath Doesn'...</td>\n",
       "      <td>\"\"\"Donating to this project will make a big di...</td>\n",
       "      <td>completed</td>\n",
       "    </tr>\n",
       "    <tr>\n",
       "      <th>1</th>\n",
       "      <td>\"\"\"49757e8d0a75080330f66399d8a7dbad\"\"\"</td>\n",
       "      <td>\"\"\"653b846827143f24d85c5b8411fcb0f4\"\"\"</td>\n",
       "      <td>\"\"\"Loose DVD Round-Up: File Cabinet Needed!\"\"\"</td>\n",
       "      <td>\"\"\"We don't have room to organize and store ou...</td>\n",
       "      <td>\"\"\"My students need a metal file cabinet.\"\"\"</td>\n",
       "      <td>\"\"\"At-risk teens are turning their lives aroun...</td>\n",
       "      <td>\"\"\"The good news? Recently, DonorsChoose made ...</td>\n",
       "      <td>\"\"\"The solution to our problem is easy for a g...</td>\n",
       "      <td>\"\"\"Your donation of a locking file cabinet wil...</td>\n",
       "      <td>completed</td>\n",
       "    </tr>\n",
       "  </tbody>\n",
       "</table>\n",
       "</div>"
      ],
      "text/plain": [
       "                               _projectid  \\\n",
       "0  \"\"\"2128b81b571d16dcba07bcd12b84fbe4\"\"\"   \n",
       "1  \"\"\"49757e8d0a75080330f66399d8a7dbad\"\"\"   \n",
       "\n",
       "                          _teacher_acctid  \\\n",
       "0  \"\"\"a44ab9dfc3abd165344b69d20cfa6fc2\"\"\"   \n",
       "1  \"\"\"653b846827143f24d85c5b8411fcb0f4\"\"\"   \n",
       "\n",
       "                                            title  \\\n",
       "0            \"\"\"Math Literacy in the Classroom\"\"\"   \n",
       "1  \"\"\"Loose DVD Round-Up: File Cabinet Needed!\"\"\"   \n",
       "\n",
       "                                   short_description  \\\n",
       "0  \"\"\"I have requested two books titledath Doesn'...   \n",
       "1  \"\"\"We don't have room to organize and store ou...   \n",
       "\n",
       "                                      need_statement  \\\n",
       "0  \"\"\"My  50 students need opportunities to read ...   \n",
       "1       \"\"\"My students need a metal file cabinet.\"\"\"   \n",
       "\n",
       "                                          paragraph1  \\\n",
       "0  \"\"\"Math Literacy Counts.\\r\\nI am a 6th grade t...   \n",
       "1  \"\"\"At-risk teens are turning their lives aroun...   \n",
       "\n",
       "                                          paragraph2  \\\n",
       "0  \"\"\"Integrating literacy in Math and Science ar...   \n",
       "1  \"\"\"The good news? Recently, DonorsChoose made ...   \n",
       "\n",
       "                                          paragraph3  \\\n",
       "0  \"\"\"I have requested two books titledath Doesn'...   \n",
       "1  \"\"\"The solution to our problem is easy for a g...   \n",
       "\n",
       "                                          paragraph4 funding_status  \n",
       "0  \"\"\"Donating to this project will make a big di...      completed  \n",
       "1  \"\"\"Your donation of a locking file cabinet wil...      completed  "
      ]
     },
     "execution_count": 91,
     "metadata": {},
     "output_type": "execute_result"
    }
   ],
   "source": [
    "essays_la_clean.head(2)"
   ]
  },
  {
   "cell_type": "markdown",
   "metadata": {},
   "source": [
    "All right, it's been added. Good!"
   ]
  },
  {
   "cell_type": "markdown",
   "metadata": {
    "collapsed": true
   },
   "source": [
    "## Comparing the length of different parts of Essays "
   ]
  },
  {
   "cell_type": "code",
   "execution_count": 94,
   "metadata": {
    "collapsed": false
   },
   "outputs": [],
   "source": [
    "nlp = English()\n",
    "def lengthS(aString): \n",
    "    aString = unicode(str(aString), \"utf-8\")  # nlp works only on unicodes\n",
    "    aString = re.sub('[\"]','',aString)          # Removing the \"\n",
    "    aString = re.sub('','',aString)          # Removing the \"\n",
    "    return len(nlp(aString))"
   ]
  },
  {
   "cell_type": "code",
   "execution_count": 95,
   "metadata": {
    "collapsed": false
   },
   "outputs": [],
   "source": [
    "essays_la_clean['lengthTitle'] = map(lengthS,essays_la_clean.title)\n",
    "essays_la_clean['lengthNeed'] = map(lengthS,essays_la_clean.need_statement)\n",
    "essays_la_clean['lengthPar1'] = map(lengthS,essays_la_clean.paragraph1)\n",
    "essays_la_clean['lengthPar2'] = map(lengthS,essays_la_clean.paragraph2)\n",
    "essays_la_clean['lengthPar3'] = map(lengthS,essays_la_clean.paragraph3)\n",
    "essays_la_clean['lengthPar4'] = map(lengthS,essays_la_clean.paragraph4)"
   ]
  },
  {
   "cell_type": "code",
   "execution_count": 111,
   "metadata": {
    "collapsed": false
   },
   "outputs": [],
   "source": [
    "print essays_la_clean.groupby('funding_status').lengthTitle.mean()\n",
    "print essays_la_clean.groupby('funding_status').lengthNeed.mean()\n",
    "print essays_la_clean.groupby('funding_status').lengthPar1.mean()\n",
    "print essays_la_clean.groupby('funding_status').lengthPar2.mean()\n",
    "print essays_la_clean.groupby('funding_status').lengthPar3.mean()\n",
    "print essays_la_clean.groupby('funding_status').lengthPar4.mean()"
   ]
  },
  {
   "cell_type": "markdown",
   "metadata": {},
   "source": [
    "funding_status \n",
    "completed    5.881984 \n",
    "expired      5.793045 \n",
    "Name: lengthTitle, dtype: float64 \n",
    "funding_status\n",
    "completed    21.631494\n",
    "expired      21.483938\n",
    "Name: lengthNeed, dtype: float64\n",
    "funding_status\n",
    "completed    45.319851\n",
    "expired      45.438403\n",
    "Name: lengthPar1, dtype: float64\n",
    "funding_status\n",
    "completed    92.315343\n",
    "expired      91.761163\n",
    "Name: lengthPar2, dtype: float64\n",
    "funding_status\n",
    "completed    111.097808\n",
    "expired      110.138130\n",
    "Name: lengthPar3, dtype: float64\n",
    "funding_status\n",
    "completed    62.027017\n",
    "expired      62.303405\n",
    "Name: lengthPar4, dtype: float64"
   ]
  },
  {
   "cell_type": "markdown",
   "metadata": {
    "collapsed": false
   },
   "source": [
    "basically, noooooo difference!"
   ]
  },
  {
   "cell_type": "markdown",
   "metadata": {
    "collapsed": false
   },
   "source": [
    "## Sentiment Analysis "
   ]
  },
  {
   "cell_type": "code",
   "execution_count": 12,
   "metadata": {
    "collapsed": false
   },
   "outputs": [],
   "source": [
    "def sentiment_scores(text):\n",
    "    \"\"\"\n",
    "    Purpose: estimating how positive an essay is by measureing \n",
    "    the ratio of positive score to the negative score\n",
    "    \"\"\"\n",
    "    \n",
    "    # Spiliting the essay into sentences\n",
    "    sentences = re.findall(r\"[\\w']+|[.,!?;]\", text)\n",
    "    \n",
    "    pos_total, neg_total, obj_total, word_count = 0, 0, 0, 0\n",
    "    for sentence in sentences:\n",
    "        positive_score, negative_score, objective_score = 0, 0, 0 \n",
    "        wordSent = swn.senti_synsets(sentence)\n",
    "        if wordSent:\n",
    "            word_count += 1\n",
    "            for eachVersion in wordSent:\n",
    "                positive_score += eachVersion.pos_score()\n",
    "                negative_score += eachVersion.neg_score()\n",
    "                objective_score += eachVersion.obj_score()\n",
    "            pos_total += positive_score/len(wordSent)\n",
    "            neg_total += negative_score/len(wordSent)\n",
    "            obj_total += objective_score/len(wordSent)\n",
    "\n",
    "    if neg_total:\n",
    "        return pos_total/neg_total\n",
    "    elif pos_total:\n",
    "        return 100\n",
    "    else:\n",
    "        return -1"
   ]
  },
  {
   "cell_type": "code",
   "execution_count": 13,
   "metadata": {
    "collapsed": false
   },
   "outputs": [],
   "source": [
    "essays_la_clean['senti_Title'] = map(sentiment_scores,essays_la_clean.title)\n",
    "essays_la_clean['senti_Need'] = map(sentiment_scores,essays_la_clean.need_statement)\n",
    "essays_la_clean['senti_Par1'] = map(sentiment_scores,essays_la_clean.paragraph1)\n",
    "essays_la_clean['senti_Par2'] = map(sentiment_scores,essays_la_clean.paragraph2)\n",
    "essays_la_clean['senti_Par3'] = map(sentiment_scores,essays_la_clean.paragraph3)\n",
    "essays_la_clean['senti_Par4'] = map(sentiment_scores,essays_la_clean.paragraph4)"
   ]
  },
  {
   "cell_type": "code",
   "execution_count": 19,
   "metadata": {
    "collapsed": false
   },
   "outputs": [
    {
     "name": "stdout",
     "output_type": "stream",
     "text": [
      "CPU times: user 4 µs, sys: 1e+03 ns, total: 5 µs\n",
      "Wall time: 27.2 µs\n",
      "funding_status\n",
      "completed    16.388922\n",
      "expired      18.027007\n",
      "Name: senti_Title, dtype: float64\n",
      "funding_status\n",
      "completed    1.376904\n",
      "expired      1.401063\n",
      "Name: senti_Need, dtype: float64\n",
      "funding_status\n",
      "completed    1.982552\n",
      "expired      1.904928\n",
      "Name: senti_Par1, dtype: float64\n",
      "funding_status\n",
      "completed    1.699763\n",
      "expired      1.661424\n",
      "Name: senti_Par2, dtype: float64\n",
      "funding_status\n",
      "completed    1.984542\n",
      "expired      2.013779\n",
      "Name: senti_Par3, dtype: float64\n",
      "funding_status\n",
      "completed    2.391677\n",
      "expired      2.483846\n",
      "Name: senti_Par4, dtype: float64\n"
     ]
    }
   ],
   "source": [
    "print essays_la_clean.groupby('funding_status').senti_Title.mean()\n",
    "print essays_la_clean.groupby('funding_status').senti_Need.mean()\n",
    "print essays_la_clean.groupby('funding_status').senti_Par1.mean()\n",
    "print essays_la_clean.groupby('funding_status').senti_Par2.mean()\n",
    "print essays_la_clean.groupby('funding_status').senti_Par3.mean()\n",
    "print essays_la_clean.groupby('funding_status').senti_Par4.mean()"
   ]
  },
  {
   "cell_type": "markdown",
   "metadata": {},
   "source": [
    "## Flesch Reading Ease"
   ]
  },
  {
   "cell_type": "code",
   "execution_count": 47,
   "metadata": {
    "collapsed": false
   },
   "outputs": [],
   "source": [
    "from textstat.textstat import textstat"
   ]
  },
  {
   "cell_type": "code",
   "execution_count": 48,
   "metadata": {
    "collapsed": true
   },
   "outputs": [],
   "source": [
    "def Flesch_Reading_Ease(text):\n",
    "    try:\n",
    "        return textstat.flesch_reading_ease(text)\n",
    "    except:\n",
    "        return -1"
   ]
  },
  {
   "cell_type": "code",
   "execution_count": 49,
   "metadata": {
    "collapsed": false
   },
   "outputs": [
    {
     "name": "stdout",
     "output_type": "stream",
     "text": [
      "CPU times: user 3 µs, sys: 1 µs, total: 4 µs\n",
      "Wall time: 7.87 µs\n"
     ]
    }
   ],
   "source": [
    "%%time\n",
    "\n",
    "essays_la_clean['flesch_ease_Title'] = map(Flesch_Reading_Ease,essays_la_clean.title)\n",
    "essays_la_clean['flesch_ease_Need'] = map(Flesch_Reading_Ease,essays_la_clean.need_statement)\n",
    "essays_la_clean['flesch_ease_Par1'] = map(Flesch_Reading_Ease,essays_la_clean.paragraph1)\n",
    "essays_la_clean['flesch_ease_Par2'] = map(Flesch_Reading_Ease,essays_la_clean.paragraph2)\n",
    "essays_la_clean['flesch_ease_Par3'] = map(Flesch_Reading_Ease,essays_la_clean.paragraph3)\n",
    "essays_la_clean['flesch_ease_Par4'] = map(Flesch_Reading_Ease,essays_la_clean.paragraph4)"
   ]
  },
  {
   "cell_type": "code",
   "execution_count": 50,
   "metadata": {
    "collapsed": false
   },
   "outputs": [
    {
     "name": "stdout",
     "output_type": "stream",
     "text": [
      "CPU times: user 3 µs, sys: 0 ns, total: 3 µs\n",
      "Wall time: 8.11 µs\n",
      "funding_status\n",
      "completed    50.605404\n",
      "expired      46.783612\n",
      "Name: flesch_ease_Title, dtype: float64\n",
      "funding_status\n",
      "completed    64.017153\n",
      "expired      63.466531\n",
      "Name: flesch_ease_Need, dtype: float64\n",
      "funding_status\n",
      "completed    65.439093\n",
      "expired      64.972581\n",
      "Name: flesch_ease_Par1, dtype: float64\n",
      "funding_status\n",
      "completed    61.001218\n",
      "expired      61.101375\n",
      "Name: flesch_ease_Par2, dtype: float64\n",
      "funding_status\n",
      "completed    60.260241\n",
      "expired      59.849520\n",
      "Name: flesch_ease_Par3, dtype: float64\n",
      "funding_status\n",
      "completed    61.688667\n",
      "expired      60.782079\n",
      "Name: flesch_ease_Par4, dtype: float64\n"
     ]
    }
   ],
   "source": [
    "print essays_la_clean.groupby('funding_status').flesch_ease_Title.mean()\n",
    "print essays_la_clean.groupby('funding_status').flesch_ease_Need.mean()\n",
    "print essays_la_clean.groupby('funding_status').flesch_ease_Par1.mean()\n",
    "print essays_la_clean.groupby('funding_status').flesch_ease_Par2.mean()\n",
    "print essays_la_clean.groupby('funding_status').flesch_ease_Par3.mean()\n",
    "print essays_la_clean.groupby('funding_status').flesch_ease_Par4.mean()"
   ]
  },
  {
   "cell_type": "markdown",
   "metadata": {},
   "source": [
    "## Flesch-Kincaid Grade Level"
   ]
  },
  {
   "cell_type": "code",
   "execution_count": 52,
   "metadata": {
    "collapsed": true
   },
   "outputs": [],
   "source": [
    "def Flesch_Kincaid_grade(text):\n",
    "    try:\n",
    "        return textstat.flesch_kincaid_grade(text)\n",
    "    except:\n",
    "        return -1"
   ]
  },
  {
   "cell_type": "code",
   "execution_count": 53,
   "metadata": {
    "collapsed": false
   },
   "outputs": [
    {
     "name": "stdout",
     "output_type": "stream",
     "text": [
      "CPU times: user 3 µs, sys: 1e+03 ns, total: 4 µs\n",
      "Wall time: 8.11 µs\n"
     ]
    }
   ],
   "source": [
    "%%time\n",
    "\n",
    "essays_la_clean['flesch_grade_Title'] = map(Flesch_Kincaid_grade,essays_la_clean.title)\n",
    "essays_la_clean['flesch_grade_Need'] = map(Flesch_Kincaid_grade,essays_la_clean.need_statement)\n",
    "essays_la_clean['flesch_grade_Par1'] = map(Flesch_Kincaid_grade,essays_la_clean.paragraph1)\n",
    "essays_la_clean['flesch_grade_Par2'] = map(Flesch_Kincaid_grade,essays_la_clean.paragraph2)\n",
    "essays_la_clean['flesch_grade_Par3'] = map(Flesch_Kincaid_grade,essays_la_clean.paragraph3)\n",
    "essays_la_clean['flesch_grade_Par4'] = map(Flesch_Kincaid_grade,essays_la_clean.paragraph4)"
   ]
  },
  {
   "cell_type": "code",
   "execution_count": 56,
   "metadata": {
    "collapsed": false
   },
   "outputs": [
    {
     "name": "stdout",
     "output_type": "stream",
     "text": [
      "funding_status\n",
      "completed    3.571826\n",
      "expired      3.809441\n",
      "Name: flesch_grade_Title, dtype: float64\n",
      "funding_status\n",
      "completed    8.692135\n",
      "expired      8.779853\n",
      "Name: flesch_grade_Need, dtype: float64\n",
      "funding_status\n",
      "completed    8.161552\n",
      "expired      8.214502\n",
      "Name: flesch_grade_Par1, dtype: float64\n",
      "funding_status\n",
      "completed    8.890653\n",
      "expired      8.797715\n",
      "Name: flesch_grade_Par2, dtype: float64\n",
      "funding_status\n",
      "completed    9.77302\n",
      "expired      9.81520\n",
      "Name: flesch_grade_Par3, dtype: float64\n",
      "funding_status\n",
      "completed    9.273483\n",
      "expired      9.371073\n",
      "Name: flesch_grade_Par4, dtype: float64\n",
      "CPU times: user 19.5 ms, sys: 502 µs, total: 20 ms\n",
      "Wall time: 23.8 ms\n"
     ]
    }
   ],
   "source": [
    "print essays_la_clean.groupby('funding_status').flesch_grade_Title.mean()\n",
    "print essays_la_clean.groupby('funding_status').flesch_grade_Need.mean()\n",
    "print essays_la_clean.groupby('funding_status').flesch_grade_Par1.mean()\n",
    "print essays_la_clean.groupby('funding_status').flesch_grade_Par2.mean()\n",
    "print essays_la_clean.groupby('funding_status').flesch_grade_Par3.mean()\n",
    "print essays_la_clean.groupby('funding_status').flesch_grade_Par4.mean()"
   ]
  },
  {
   "cell_type": "markdown",
   "metadata": {},
   "source": [
    "## FOG index"
   ]
  },
  {
   "cell_type": "code",
   "execution_count": 58,
   "metadata": {
    "collapsed": false
   },
   "outputs": [],
   "source": [
    "def fog_index(text):\n",
    "    try:\n",
    "        return textstat.gunning_fog(text)\n",
    "    except:\n",
    "        return -1"
   ]
  },
  {
   "cell_type": "code",
   "execution_count": 59,
   "metadata": {
    "collapsed": false
   },
   "outputs": [
    {
     "name": "stdout",
     "output_type": "stream",
     "text": [
      "CPU times: user 7min 18s, sys: 3.07 s, total: 7min 21s\n",
      "Wall time: 8min 27s\n"
     ]
    }
   ],
   "source": [
    "%%time\n",
    "\n",
    "essays_la_clean['fog_index_Title'] = map(fog_index,essays_la_clean.title)\n",
    "essays_la_clean['fog_index_Need'] = map(fog_index,essays_la_clean.need_statement)\n",
    "essays_la_clean['fog_index_Par1'] = map(fog_index,essays_la_clean.paragraph1)\n",
    "essays_la_clean['fog_index_Par2'] = map(fog_index,essays_la_clean.paragraph2)\n",
    "essays_la_clean['fog_index_Par3'] = map(fog_index,essays_la_clean.paragraph3)\n",
    "essays_la_clean['fog_index_Par4'] = map(fog_index,essays_la_clean.paragraph4)"
   ]
  },
  {
   "cell_type": "code",
   "execution_count": 60,
   "metadata": {
    "collapsed": false
   },
   "outputs": [
    {
     "name": "stdout",
     "output_type": "stream",
     "text": [
      "funding_status\n",
      "completed    3.435590\n",
      "expired      3.350491\n",
      "Name: fog_index_Title, dtype: float64\n",
      "funding_status\n",
      "completed    9.013146\n",
      "expired      9.034215\n",
      "Name: fog_index_Need, dtype: float64\n",
      "funding_status\n",
      "completed    8.453722\n",
      "expired      8.433761\n",
      "Name: fog_index_Par1, dtype: float64\n",
      "funding_status\n",
      "completed    8.617303\n",
      "expired      8.503852\n",
      "Name: fog_index_Par2, dtype: float64\n",
      "funding_status\n",
      "completed    9.865758\n",
      "expired      9.825000\n",
      "Name: fog_index_Par3, dtype: float64\n",
      "funding_status\n",
      "completed    9.386503\n",
      "expired      9.346261\n",
      "Name: fog_index_Par4, dtype: float64\n"
     ]
    }
   ],
   "source": [
    "print essays_la_clean.groupby('funding_status').fog_index_Title.mean()\n",
    "print essays_la_clean.groupby('funding_status').fog_index_Need.mean()\n",
    "print essays_la_clean.groupby('funding_status').fog_index_Par1.mean()\n",
    "print essays_la_clean.groupby('funding_status').fog_index_Par2.mean()\n",
    "print essays_la_clean.groupby('funding_status').fog_index_Par3.mean()\n",
    "print essays_la_clean.groupby('funding_status').fog_index_Par4.mean()"
   ]
  },
  {
   "cell_type": "markdown",
   "metadata": {},
   "source": [
    "## SMOG Index"
   ]
  },
  {
   "cell_type": "code",
   "execution_count": 69,
   "metadata": {
    "collapsed": true
   },
   "outputs": [],
   "source": [
    "def smog_index(text):\n",
    "    try:\n",
    "        return textstat.smog_index(text)\n",
    "    except:\n",
    "        return -1"
   ]
  },
  {
   "cell_type": "code",
   "execution_count": 70,
   "metadata": {
    "collapsed": false
   },
   "outputs": [
    {
     "name": "stdout",
     "output_type": "stream",
     "text": [
      "CPU times: user 1min 45s, sys: 767 ms, total: 1min 46s\n",
      "Wall time: 2min 5s\n"
     ]
    }
   ],
   "source": [
    "%%time\n",
    "\n",
    "essays_la_clean['smog_index_Title'] = map(smog_index,essays_la_clean.title)\n",
    "essays_la_clean['smog_index_Need'] = map(smog_index,essays_la_clean.need_statement)\n",
    "essays_la_clean['smog_index_Par1'] = map(smog_index,essays_la_clean.paragraph1)\n",
    "essays_la_clean['smog_index_Par2'] = map(smog_index,essays_la_clean.paragraph2)\n",
    "essays_la_clean['smog_index_Par3'] = map(smog_index,essays_la_clean.paragraph3)\n",
    "essays_la_clean['smog_index_Par4'] = map(smog_index,essays_la_clean.paragraph4)"
   ]
  },
  {
   "cell_type": "code",
   "execution_count": 74,
   "metadata": {
    "collapsed": false
   },
   "outputs": [
    {
     "name": "stdout",
     "output_type": "stream",
     "text": [
      "funding_status\n",
      "completed    7.510286\n",
      "expired      7.241304\n",
      "Name: smog_index_Need, dtype: float64\n",
      "funding_status\n",
      "completed    9.272929\n",
      "expired      9.357267\n",
      "Name: smog_index_Par1, dtype: float64\n",
      "funding_status\n",
      "completed    10.683811\n",
      "expired      10.583881\n",
      "Name: smog_index_Par2, dtype: float64\n",
      "funding_status\n",
      "completed    11.297554\n",
      "expired      11.247198\n",
      "Name: smog_index_Par3, dtype: float64\n",
      "funding_status\n",
      "completed    10.412469\n",
      "expired      10.442699\n",
      "Name: smog_index_Par4, dtype: float64\n"
     ]
    }
   ],
   "source": [
    "#print essays_la_clean.groupby('funding_status').smog_index_Title.mean()\n",
    "print essays_la_clean.groupby('funding_status').smog_index_Need.mean()\n",
    "print essays_la_clean.groupby('funding_status').smog_index_Par1.mean()\n",
    "print essays_la_clean.groupby('funding_status').smog_index_Par2.mean()\n",
    "print essays_la_clean.groupby('funding_status').smog_index_Par3.mean()\n",
    "print essays_la_clean.groupby('funding_status').smog_index_Par4.mean()"
   ]
  },
  {
   "cell_type": "markdown",
   "metadata": {},
   "source": [
    "## Difficult Words "
   ]
  },
  {
   "cell_type": "code",
   "execution_count": 75,
   "metadata": {
    "collapsed": true
   },
   "outputs": [],
   "source": [
    "def Difficult_word(text):\n",
    "    try:\n",
    "        return textstat.difficult_words(text)\n",
    "    except:\n",
    "        return -1"
   ]
  },
  {
   "cell_type": "code",
   "execution_count": 76,
   "metadata": {
    "collapsed": false
   },
   "outputs": [
    {
     "name": "stdout",
     "output_type": "stream",
     "text": [
      "CPU times: user 7min 53s, sys: 2.71 s, total: 7min 55s\n",
      "Wall time: 8min 34s\n"
     ]
    }
   ],
   "source": [
    "%%time\n",
    "\n",
    "essays_la_clean['difficult_words_Title'] = map(Difficult_word,essays_la_clean.title)\n",
    "essays_la_clean['difficult_words_Need'] = map(Difficult_word,essays_la_clean.need_statement)\n",
    "essays_la_clean['difficult_words_Par1'] = map(Difficult_word,essays_la_clean.paragraph1)\n",
    "essays_la_clean['difficult_words_Par2'] = map(Difficult_word,essays_la_clean.paragraph2)\n",
    "essays_la_clean['difficult_words_Par3'] = map(Difficult_word,essays_la_clean.paragraph3)\n",
    "essays_la_clean['difficult_words_Par4'] = map(Difficult_word,essays_la_clean.paragraph4)"
   ]
  },
  {
   "cell_type": "code",
   "execution_count": 77,
   "metadata": {
    "collapsed": false
   },
   "outputs": [
    {
     "name": "stdout",
     "output_type": "stream",
     "text": [
      "funding_status\n",
      "completed    2.248104\n",
      "expired      2.305325\n",
      "Name: difficult_words_Title, dtype: float64\n",
      "funding_status\n",
      "completed    6.415801\n",
      "expired      6.506609\n",
      "Name: difficult_words_Need, dtype: float64\n",
      "funding_status\n",
      "completed    9.881601\n",
      "expired      9.928248\n",
      "Name: difficult_words_Par1, dtype: float64\n",
      "funding_status\n",
      "completed    20.929284\n",
      "expired      20.420128\n",
      "Name: difficult_words_Par2, dtype: float64\n",
      "funding_status\n",
      "completed    24.738413\n",
      "expired      24.553814\n",
      "Name: difficult_words_Par3, dtype: float64\n",
      "funding_status\n",
      "completed    13.810744\n",
      "expired      14.018127\n",
      "Name: difficult_words_Par4, dtype: float64\n"
     ]
    }
   ],
   "source": [
    "print essays_la_clean.groupby('funding_status').difficult_words_Title.mean()\n",
    "print essays_la_clean.groupby('funding_status').difficult_words_Need.mean()\n",
    "print essays_la_clean.groupby('funding_status').difficult_words_Par1.mean()\n",
    "print essays_la_clean.groupby('funding_status').difficult_words_Par2.mean()\n",
    "print essays_la_clean.groupby('funding_status').difficult_words_Par3.mean()\n",
    "print essays_la_clean.groupby('funding_status').difficult_words_Par4.mean()"
   ]
  },
  {
   "cell_type": "markdown",
   "metadata": {},
   "source": [
    "## sentence count"
   ]
  },
  {
   "cell_type": "code",
   "execution_count": 79,
   "metadata": {
    "collapsed": true
   },
   "outputs": [],
   "source": [
    "def sent_count(text):\n",
    "    try:\n",
    "        return textstat.sentence_count(text)\n",
    "    except:\n",
    "        return -1"
   ]
  },
  {
   "cell_type": "code",
   "execution_count": 81,
   "metadata": {
    "collapsed": false
   },
   "outputs": [
    {
     "name": "stdout",
     "output_type": "stream",
     "text": [
      "CPU times: user 38.5 s, sys: 157 ms, total: 38.7 s\n",
      "Wall time: 39 s\n"
     ]
    }
   ],
   "source": [
    "%%time\n",
    "\n",
    "#essays_la_clean['sent_count_Title'] = map(sentence_count,essays_la_clean.title)\n",
    "essays_la_clean['sent_count_Need'] = map(sent_count,essays_la_clean.need_statement)\n",
    "essays_la_clean['sent_count_Par1'] = map(sent_count,essays_la_clean.paragraph1)\n",
    "essays_la_clean['sent_count_Par2'] = map(sent_count,essays_la_clean.paragraph2)\n",
    "essays_la_clean['sent_count_Par3'] = map(sent_count,essays_la_clean.paragraph3)\n",
    "essays_la_clean['sent_count_Par4'] = map(sent_count,essays_la_clean.paragraph4)"
   ]
  },
  {
   "cell_type": "code",
   "execution_count": 82,
   "metadata": {
    "collapsed": false
   },
   "outputs": [
    {
     "name": "stdout",
     "output_type": "stream",
     "text": [
      "funding_status\n",
      "completed    1.129073\n",
      "expired      1.120468\n",
      "Name: sent_count_Need, dtype: float64\n",
      "funding_status\n",
      "completed    2.630829\n",
      "expired      2.628776\n",
      "Name: sent_count_Par1, dtype: float64\n",
      "funding_status\n",
      "completed    5.063343\n",
      "expired      5.057024\n",
      "Name: sent_count_Par2, dtype: float64\n",
      "funding_status\n",
      "completed    5.235674\n",
      "expired      5.215634\n",
      "Name: sent_count_Par3, dtype: float64\n",
      "funding_status\n",
      "completed    3.189466\n",
      "expired      3.214879\n",
      "Name: sent_count_Par4, dtype: float64\n"
     ]
    }
   ],
   "source": [
    "#print essays_la_clean.groupby('funding_status').sent_count_Title.mean()\n",
    "print essays_la_clean.groupby('funding_status').sent_count_Need.mean()\n",
    "print essays_la_clean.groupby('funding_status').sent_count_Par1.mean()\n",
    "print essays_la_clean.groupby('funding_status').sent_count_Par2.mean()\n",
    "print essays_la_clean.groupby('funding_status').sent_count_Par3.mean()\n",
    "print essays_la_clean.groupby('funding_status').sent_count_Par4.mean()"
   ]
  },
  {
   "cell_type": "markdown",
   "metadata": {},
   "source": [
    "## Syllable Count"
   ]
  },
  {
   "cell_type": "code",
   "execution_count": 84,
   "metadata": {
    "collapsed": true
   },
   "outputs": [],
   "source": [
    "def syllab_count(text):\n",
    "    try:\n",
    "        return textstat.syllable_count(text)\n",
    "    except:\n",
    "        return -1"
   ]
  },
  {
   "cell_type": "code",
   "execution_count": 85,
   "metadata": {
    "collapsed": false
   },
   "outputs": [
    {
     "name": "stdout",
     "output_type": "stream",
     "text": [
      "CPU times: user 8.65 s, sys: 72.2 ms, total: 8.73 s\n",
      "Wall time: 10.6 s\n"
     ]
    }
   ],
   "source": [
    "%%time\n",
    "\n",
    "essays_la_clean['syllab_count_Title'] = map(syllab_count,essays_la_clean.title)\n",
    "essays_la_clean['syllab_count_Need'] = map(syllab_count,essays_la_clean.need_statement)\n",
    "essays_la_clean['syllab_count_Par1'] = map(syllab_count,essays_la_clean.paragraph1)\n",
    "essays_la_clean['syllab_count_Par2'] = map(syllab_count,essays_la_clean.paragraph2)\n",
    "essays_la_clean['syllab_count_Par3'] = map(syllab_count,essays_la_clean.paragraph3)\n",
    "essays_la_clean['syllab_count_Par4'] = map(syllab_count,essays_la_clean.paragraph4)"
   ]
  },
  {
   "cell_type": "code",
   "execution_count": 86,
   "metadata": {
    "collapsed": false
   },
   "outputs": [
    {
     "name": "stdout",
     "output_type": "stream",
     "text": [
      "funding_status\n",
      "completed    8.175983\n",
      "expired      8.228285\n",
      "Name: syllab_count_Title, dtype: float64\n",
      "funding_status\n",
      "completed    28.469101\n",
      "expired      28.516994\n",
      "Name: syllab_count_Need, dtype: float64\n",
      "funding_status\n",
      "completed    59.489045\n",
      "expired      59.376133\n",
      "Name: syllab_count_Par1, dtype: float64\n",
      "funding_status\n",
      "completed    126.324087\n",
      "expired      123.920506\n",
      "Name: syllab_count_Par2, dtype: float64\n",
      "funding_status\n",
      "completed    149.842837\n",
      "expired      148.443353\n",
      "Name: syllab_count_Par3, dtype: float64\n",
      "funding_status\n",
      "completed    83.407022\n",
      "expired      84.060801\n",
      "Name: syllab_count_Par4, dtype: float64\n"
     ]
    }
   ],
   "source": [
    "print essays_la_clean.groupby('funding_status').syllab_count_Title.mean()\n",
    "print essays_la_clean.groupby('funding_status').syllab_count_Need.mean()\n",
    "print essays_la_clean.groupby('funding_status').syllab_count_Par1.mean()\n",
    "print essays_la_clean.groupby('funding_status').syllab_count_Par2.mean()\n",
    "print essays_la_clean.groupby('funding_status').syllab_count_Par3.mean()\n",
    "print essays_la_clean.groupby('funding_status').syllab_count_Par4.mean()"
   ]
  },
  {
   "cell_type": "markdown",
   "metadata": {},
   "source": [
    "## lexicon count "
   ]
  },
  {
   "cell_type": "code",
   "execution_count": 88,
   "metadata": {
    "collapsed": false
   },
   "outputs": [],
   "source": [
    "def Lexicon_count(text):\n",
    "    try:\n",
    "        return textstat.lexicon_count(text)\n",
    "    except:\n",
    "        return -1"
   ]
  },
  {
   "cell_type": "code",
   "execution_count": 89,
   "metadata": {
    "collapsed": false
   },
   "outputs": [
    {
     "name": "stdout",
     "output_type": "stream",
     "text": [
      "CPU times: user 30 s, sys: 236 ms, total: 30.3 s\n",
      "Wall time: 34.2 s\n"
     ]
    }
   ],
   "source": [
    "%%time\n",
    "\n",
    "essays_la_clean['lexicon_count_Title'] = map(Lexicon_count,essays_la_clean.title)\n",
    "essays_la_clean['lexicon_count_Need'] = map(Lexicon_count,essays_la_clean.need_statement)\n",
    "essays_la_clean['lexicon_count_Par1'] = map(Lexicon_count,essays_la_clean.paragraph1)\n",
    "essays_la_clean['lexicon_count_Par2'] = map(Lexicon_count,essays_la_clean.paragraph2)\n",
    "essays_la_clean['lexicon_count_Par3'] = map(Lexicon_count,essays_la_clean.paragraph3)\n",
    "essays_la_clean['lexicon_count_Par4'] = map(Lexicon_count,essays_la_clean.paragraph4)"
   ]
  },
  {
   "cell_type": "code",
   "execution_count": 90,
   "metadata": {
    "collapsed": false
   },
   "outputs": [
    {
     "name": "stdout",
     "output_type": "stream",
     "text": [
      "funding_status\n",
      "completed    5.205407\n",
      "expired      5.087613\n",
      "Name: lexicon_count_Title, dtype: float64\n",
      "funding_status\n",
      "completed    19.252949\n",
      "expired      19.206571\n",
      "Name: lexicon_count_Need, dtype: float64\n",
      "funding_status\n",
      "completed    40.502107\n",
      "expired      40.234517\n",
      "Name: lexicon_count_Par1, dtype: float64\n",
      "funding_status\n",
      "completed    83.342556\n",
      "expired      81.625378\n",
      "Name: lexicon_count_Par2, dtype: float64\n",
      "funding_status\n",
      "completed    100.456952\n",
      "expired       99.092523\n",
      "Name: lexicon_count_Par3, dtype: float64\n",
      "funding_status\n",
      "completed    56.133146\n",
      "expired      56.143882\n",
      "Name: lexicon_count_Par4, dtype: float64\n"
     ]
    }
   ],
   "source": [
    "print essays_la_clean.groupby('funding_status').lexicon_count_Title.mean()\n",
    "print essays_la_clean.groupby('funding_status').lexicon_count_Need.mean()\n",
    "print essays_la_clean.groupby('funding_status').lexicon_count_Par1.mean()\n",
    "print essays_la_clean.groupby('funding_status').lexicon_count_Par2.mean()\n",
    "print essays_la_clean.groupby('funding_status').lexicon_count_Par3.mean()\n",
    "print essays_la_clean.groupby('funding_status').lexicon_count_Par4.mean()"
   ]
  },
  {
   "cell_type": "markdown",
   "metadata": {},
   "source": [
    "## Automated Readability Index"
   ]
  },
  {
   "cell_type": "code",
   "execution_count": 92,
   "metadata": {
    "collapsed": true
   },
   "outputs": [],
   "source": [
    "def auto_readability_index(text):\n",
    "    try:\n",
    "        return textstat.automated_readability_index(text)\n",
    "    except:\n",
    "        return -1    "
   ]
  },
  {
   "cell_type": "code",
   "execution_count": 93,
   "metadata": {
    "collapsed": false
   },
   "outputs": [
    {
     "name": "stdout",
     "output_type": "stream",
     "text": [
      "CPU times: user 1min 15s, sys: 554 ms, total: 1min 15s\n",
      "Wall time: 1min 21s\n"
     ]
    }
   ],
   "source": [
    "%%time\n",
    "\n",
    "essays_la_clean['auto_readability_Title'] = map(auto_readability_index,essays_la_clean.title)\n",
    "essays_la_clean['auto_readability_Need'] = map(auto_readability_index,essays_la_clean.need_statement)\n",
    "essays_la_clean['auto_readability_Par1'] = map(auto_readability_index,essays_la_clean.paragraph1)\n",
    "essays_la_clean['auto_readability_Par2'] = map(auto_readability_index,essays_la_clean.paragraph2)\n",
    "essays_la_clean['auto_readability_Par3'] = map(auto_readability_index,essays_la_clean.paragraph3)\n",
    "essays_la_clean['auto_readability_Par4'] = map(auto_readability_index,essays_la_clean.paragraph4)"
   ]
  },
  {
   "cell_type": "code",
   "execution_count": 94,
   "metadata": {
    "collapsed": false
   },
   "outputs": [
    {
     "name": "stdout",
     "output_type": "stream",
     "text": [
      "funding_status\n",
      "completed    8.494319\n",
      "expired      8.569316\n",
      "Name: auto_readability_Title, dtype: float64\n",
      "funding_status\n",
      "completed    13.179178\n",
      "expired      13.095582\n",
      "Name: auto_readability_Need, dtype: float64\n",
      "funding_status\n",
      "completed    10.492065\n",
      "expired      10.486027\n",
      "Name: auto_readability_Par1, dtype: float64\n",
      "funding_status\n",
      "completed    10.894986\n",
      "expired      10.700869\n",
      "Name: auto_readability_Par2, dtype: float64\n",
      "funding_status\n",
      "completed    12.303069\n",
      "expired      12.297338\n",
      "Name: auto_readability_Par3, dtype: float64\n",
      "funding_status\n",
      "completed    11.708736\n",
      "expired      11.746847\n",
      "Name: auto_readability_Par4, dtype: float64\n"
     ]
    }
   ],
   "source": [
    "print essays_la_clean.groupby('funding_status').auto_readability_Title.mean()\n",
    "print essays_la_clean.groupby('funding_status').auto_readability_Need.mean()\n",
    "print essays_la_clean.groupby('funding_status').auto_readability_Par1.mean()\n",
    "print essays_la_clean.groupby('funding_status').auto_readability_Par2.mean()\n",
    "print essays_la_clean.groupby('funding_status').auto_readability_Par3.mean()\n",
    "print essays_la_clean.groupby('funding_status').auto_readability_Par4.mean()"
   ]
  },
  {
   "cell_type": "markdown",
   "metadata": {},
   "source": [
    "## The Coleman-Liau Index"
   ]
  },
  {
   "cell_type": "code",
   "execution_count": 96,
   "metadata": {
    "collapsed": true
   },
   "outputs": [],
   "source": [
    "def coleman_index(text):\n",
    "    try:\n",
    "        return textstat.coleman_liau_index(text)\n",
    "    except:\n",
    "        return -1    "
   ]
  },
  {
   "cell_type": "code",
   "execution_count": 97,
   "metadata": {
    "collapsed": false
   },
   "outputs": [
    {
     "name": "stdout",
     "output_type": "stream",
     "text": [
      "CPU times: user 1min 49s, sys: 1.03 s, total: 1min 50s\n",
      "Wall time: 2min 11s\n"
     ]
    }
   ],
   "source": [
    "%%time\n",
    "\n",
    "essays_la_clean['coleman_index_Title'] = map(coleman_index,essays_la_clean.title)\n",
    "essays_la_clean['coleman_index_Need'] = map(coleman_index,essays_la_clean.need_statement)\n",
    "essays_la_clean['coleman_index_Par1'] = map(coleman_index,essays_la_clean.paragraph1)\n",
    "essays_la_clean['coleman_index_Par2'] = map(coleman_index,essays_la_clean.paragraph2)\n",
    "essays_la_clean['coleman_index_Par3'] = map(coleman_index,essays_la_clean.paragraph3)\n",
    "essays_la_clean['coleman_index_Par4'] = map(coleman_index,essays_la_clean.paragraph4)"
   ]
  },
  {
   "cell_type": "code",
   "execution_count": 98,
   "metadata": {
    "collapsed": false
   },
   "outputs": [
    {
     "name": "stdout",
     "output_type": "stream",
     "text": [
      "funding_status\n",
      "completed    21.139509\n",
      "expired      22.031798\n",
      "Name: coleman_index_Title, dtype: float64\n",
      "funding_status\n",
      "completed    14.011942\n",
      "expired      13.883053\n",
      "Name: coleman_index_Need, dtype: float64\n",
      "funding_status\n",
      "completed    11.373425\n",
      "expired      11.384670\n",
      "Name: coleman_index_Par1, dtype: float64\n",
      "funding_status\n",
      "completed    11.663623\n",
      "expired      11.577883\n",
      "Name: coleman_index_Par2, dtype: float64\n",
      "funding_status\n",
      "completed    11.753972\n",
      "expired      11.765655\n",
      "Name: coleman_index_Par3, dtype: float64\n",
      "funding_status\n",
      "completed    11.661158\n",
      "expired      11.767491\n",
      "Name: coleman_index_Par4, dtype: float64\n"
     ]
    }
   ],
   "source": [
    "print essays_la_clean.groupby('funding_status').coleman_index_Title.mean()\n",
    "print essays_la_clean.groupby('funding_status').coleman_index_Need.mean()\n",
    "print essays_la_clean.groupby('funding_status').coleman_index_Par1.mean()\n",
    "print essays_la_clean.groupby('funding_status').coleman_index_Par2.mean()\n",
    "print essays_la_clean.groupby('funding_status').coleman_index_Par3.mean()\n",
    "print essays_la_clean.groupby('funding_status').coleman_index_Par4.mean()"
   ]
  },
  {
   "cell_type": "markdown",
   "metadata": {},
   "source": [
    "## Linsear Write Formula"
   ]
  },
  {
   "cell_type": "code",
   "execution_count": 100,
   "metadata": {
    "collapsed": true
   },
   "outputs": [],
   "source": [
    "def linsear_formula(text):\n",
    "    try:\n",
    "        return textstat.linsear_write_formula(text)\n",
    "    except:\n",
    "        return -1    "
   ]
  },
  {
   "cell_type": "code",
   "execution_count": 101,
   "metadata": {
    "collapsed": false
   },
   "outputs": [
    {
     "name": "stdout",
     "output_type": "stream",
     "text": [
      "CPU times: user 45min 42s, sys: 18.4 s, total: 46min 1s\n",
      "Wall time: 1h 43s\n"
     ]
    }
   ],
   "source": [
    "%%time\n",
    "\n",
    "essays_la_clean['linsear_formula_Title'] = map(linsear_formula,essays_la_clean.title)\n",
    "essays_la_clean['linsear_formula_Need'] = map(linsear_formula,essays_la_clean.need_statement)\n",
    "essays_la_clean['linsear_formula_Par1'] = map(linsear_formula,essays_la_clean.paragraph1)\n",
    "essays_la_clean['linsear_formula_Par2'] = map(linsear_formula,essays_la_clean.paragraph2)\n",
    "essays_la_clean['linsear_formula_Par3'] = map(linsear_formula,essays_la_clean.paragraph3)\n",
    "essays_la_clean['linsear_formula_Par4'] = map(linsear_formula,essays_la_clean.paragraph4)"
   ]
  },
  {
   "cell_type": "code",
   "execution_count": 102,
   "metadata": {
    "collapsed": false
   },
   "outputs": [
    {
     "name": "stdout",
     "output_type": "stream",
     "text": [
      "funding_status\n",
      "completed    1.331110\n",
      "expired      1.308252\n",
      "Name: linsear_formula_Title, dtype: float64\n",
      "funding_status\n",
      "completed    8.233673\n",
      "expired      8.263973\n",
      "Name: linsear_formula_Need, dtype: float64\n",
      "funding_status\n",
      "completed    7.638308\n",
      "expired      7.612255\n",
      "Name: linsear_formula_Par1, dtype: float64\n",
      "funding_status\n",
      "completed    7.808111\n",
      "expired      7.636046\n",
      "Name: linsear_formula_Par2, dtype: float64\n",
      "funding_status\n",
      "completed    9.182900\n",
      "expired      9.191937\n",
      "Name: linsear_formula_Par3, dtype: float64\n",
      "funding_status\n",
      "completed    8.862956\n",
      "expired      8.878493\n",
      "Name: linsear_formula_Par4, dtype: float64\n"
     ]
    }
   ],
   "source": [
    "print essays_la_clean.groupby('funding_status').linsear_formula_Title.mean()\n",
    "print essays_la_clean.groupby('funding_status').linsear_formula_Need.mean()\n",
    "print essays_la_clean.groupby('funding_status').linsear_formula_Par1.mean()\n",
    "print essays_la_clean.groupby('funding_status').linsear_formula_Par2.mean()\n",
    "print essays_la_clean.groupby('funding_status').linsear_formula_Par3.mean()\n",
    "print essays_la_clean.groupby('funding_status').linsear_formula_Par4.mean()"
   ]
  },
  {
   "cell_type": "markdown",
   "metadata": {},
   "source": [
    "## Dale-Chall Readability Score"
   ]
  },
  {
   "cell_type": "code",
   "execution_count": 104,
   "metadata": {
    "collapsed": true
   },
   "outputs": [],
   "source": [
    "def DCH_readability(text):\n",
    "    try:\n",
    "        return textstat.dale_chall_readability_score(text)\n",
    "    except:\n",
    "        return -1    "
   ]
  },
  {
   "cell_type": "code",
   "execution_count": 105,
   "metadata": {
    "collapsed": false
   },
   "outputs": [
    {
     "name": "stdout",
     "output_type": "stream",
     "text": [
      "CPU times: user 7min 19s, sys: 2.91 s, total: 7min 22s\n",
      "Wall time: 8min 22s\n"
     ]
    }
   ],
   "source": [
    "%%time\n",
    "\n",
    "essays_la_clean['DCH_readability_Title'] = map(DCH_readability,essays_la_clean.title)\n",
    "essays_la_clean['DCH_readability_Need'] = map(DCH_readability,essays_la_clean.need_statement)\n",
    "essays_la_clean['DCH_readability_Par1'] = map(DCH_readability,essays_la_clean.paragraph1)\n",
    "essays_la_clean['DCH_readability_Par2'] = map(DCH_readability,essays_la_clean.paragraph2)\n",
    "essays_la_clean['DCH_readability_Par3'] = map(DCH_readability,essays_la_clean.paragraph3)\n",
    "essays_la_clean['DCH_readability_Par4'] = map(DCH_readability,essays_la_clean.paragraph4)"
   ]
  },
  {
   "cell_type": "code",
   "execution_count": 106,
   "metadata": {
    "collapsed": false
   },
   "outputs": [
    {
     "name": "stdout",
     "output_type": "stream",
     "text": [
      "funding_status\n",
      "completed    7.439379\n",
      "expired      7.458289\n",
      "Name: DCH_readability_Title, dtype: float64\n",
      "funding_status\n",
      "completed     9.921313\n",
      "expired      10.029196\n",
      "Name: DCH_readability_Need, dtype: float64\n",
      "funding_status\n",
      "completed    8.346935\n",
      "expired      8.391208\n",
      "Name: DCH_readability_Par1, dtype: float64\n",
      "funding_status\n",
      "completed    8.487501\n",
      "expired      8.451828\n",
      "Name: DCH_readability_Par2, dtype: float64\n",
      "funding_status\n",
      "completed    8.550086\n",
      "expired      8.565842\n",
      "Name: DCH_readability_Par3, dtype: float64\n",
      "funding_status\n",
      "completed    8.495435\n",
      "expired      8.551924\n",
      "Name: DCH_readability_Par4, dtype: float64\n"
     ]
    }
   ],
   "source": [
    "print essays_la_clean.groupby('funding_status').DCH_readability_Title.mean()\n",
    "print essays_la_clean.groupby('funding_status').DCH_readability_Need.mean()\n",
    "print essays_la_clean.groupby('funding_status').DCH_readability_Par1.mean()\n",
    "print essays_la_clean.groupby('funding_status').DCH_readability_Par2.mean()\n",
    "print essays_la_clean.groupby('funding_status').DCH_readability_Par3.mean()\n",
    "print essays_la_clean.groupby('funding_status').DCH_readability_Par4.mean()"
   ]
  },
  {
   "cell_type": "markdown",
   "metadata": {
    "collapsed": false
   },
   "source": [
    "# Writing To CSV"
   ]
  },
  {
   "cell_type": "markdown",
   "metadata": {
    "collapsed": true
   },
   "source": [
    "It seems that none of the created features have any predictive power. Too bad!"
   ]
  },
  {
   "cell_type": "code",
   "execution_count": 112,
   "metadata": {
    "collapsed": true
   },
   "outputs": [],
   "source": [
    "essays_la_clean.to_csv('essay_preProcessed.csv',index=False)"
   ]
  }
 ],
 "metadata": {
  "kernelspec": {
   "display_name": "Python 2",
   "language": "python",
   "name": "python2"
  },
  "language_info": {
   "codemirror_mode": {
    "name": "ipython",
    "version": 2
   },
   "file_extension": ".py",
   "mimetype": "text/x-python",
   "name": "python",
   "nbconvert_exporter": "python",
   "pygments_lexer": "ipython2",
   "version": "2.7.9"
  }
 },
 "nbformat": 4,
 "nbformat_minor": 0
}
