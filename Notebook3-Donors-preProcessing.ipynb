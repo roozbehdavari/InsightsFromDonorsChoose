{
 "cells": [
  {
   "cell_type": "code",
   "execution_count": 1,
   "metadata": {
    "collapsed": true
   },
   "outputs": [],
   "source": [
    "%matplotlib inline\n",
    "import MySQLdb as mdb\n",
    "import pandas as pd\n",
    "import numpy as np\n",
    "import matplotlib.pyplot as plt\n",
    "import matplotlib"
   ]
  },
  {
   "cell_type": "markdown",
   "metadata": {},
   "source": [
    "# Helper Function "
   ]
  },
  {
   "cell_type": "code",
   "execution_count": 25,
   "metadata": {
    "collapsed": false
   },
   "outputs": [],
   "source": [
    "def fetch(cols,table,where=None,group_by=None,order_by=None,Desc=False,limit=None):\n",
    "    \"\"\"\n",
    "    Purpose: Makes the MySQL quesries more efficitent and faster.\n",
    "    \n",
    "    Note: All inputs have to be in STRING format except the 'limit' which is an int\n",
    "    \"\"\"\n",
    "    \n",
    "    # Opening a Connection to donorsChoose Database\n",
    "    con = mdb.connect('localhost', 'idx', 'donorsChoose', 'donors');\n",
    "    cur = con.cursor()\n",
    "    \n",
    "    # Creating a query\n",
    "    query = 'SELECT ' + cols + ' FROM ' + table + ' '\n",
    "    if where: query += ' WHERE ' + where + ' '\n",
    "    if group_by: query += 'GROUP BY ' + group_by + ' '\n",
    "    if order_by: query += 'ORDER BY ' + order_by + ' '\n",
    "    if Desc: query += 'DESC '\n",
    "    if limit: query += 'LIMIT ' + str(limit)\n",
    "    \n",
    "    # fetching the data and turn it into a pandas dataframe\n",
    "    cur.execute(query)\n",
    "    output = np.array(cur.fetchall())\n",
    "    colm = [f[0] for f in cur.description]\n",
    "    output = pd.DataFrame(output)\n",
    "    output.columns = colm\n",
    "\n",
    "    # Closing the connection to the database\n",
    "    con.close()\n",
    "    \n",
    "    return output"
   ]
  },
  {
   "cell_type": "code",
   "execution_count": 32,
   "metadata": {
    "collapsed": true
   },
   "outputs": [],
   "source": [
    "def sampleProportions_chanceOF_success(colName):\n",
    "    \"\"\"\n",
    "    Purpose: Determine wether or not a binary variable contributes to the success probability\n",
    "    \n",
    "    Example: Is being a charter school on not correlated to the chance of getting funded.\n",
    "    \n",
    "    Note: This function is specifically designed for LA projects and the \n",
    "    independent test perfomed based on the funding status (funded or not)\n",
    "    \"\"\"\n",
    "    \n",
    "    # prevalence of the binary varible: what is the prevalence of the charter school?\n",
    "    prevalence = float(sum(la_donations[colName] == '1'))\n",
    "\n",
    "    # Conditional Probability: If it's a charter school, what is the chance of getting funded?\n",
    "    success = sum(la_donations[la_donations[colName] == '1']['funding_status'] == 'completed')\n",
    "    \n",
    "    # Overal success rate: independent of wether or not it's a charter school\n",
    "    overal_success = sum(la_donations.funding_status == 'completed')/float(la_donations.shape[0])\n",
    "    \n",
    "    # funded given it's a charter school\n",
    "    p = success/prevalence\n",
    "    sigma = np.sqrt(p*(1-p)/prevalence)\n",
    "    percLow = p - 1.96*sigma\n",
    "    percHigh = p + 1.96*sigma\n",
    "    \n",
    "    # Confident interval of success rate compare to the overal success\n",
    "    return (percLow - overal_success, percHigh - overal_success)"
   ]
  },
  {
   "cell_type": "markdown",
   "metadata": {
    "collapsed": true
   },
   "source": [
    "# Finding The Donation Made to LA Projects "
   ]
  },
  {
   "cell_type": "markdown",
   "metadata": {},
   "source": [
    "Project ID is a common key between donation and project tables. So, let's find the projects in LA. Then, we can find all the donations made to the LA projects.\n",
    "\n",
    "This can be accomplished with a simple inner join between funding status and la_donation.\n",
    "\n",
    "This part is done in MySQL. Here is the code:"
   ]
  },
  {
   "cell_type": "raw",
   "metadata": {},
   "source": [
    "First find all LA projects:\n",
    "\n",
    "CREATE TABLE projects_LA AS SELECT * FROM projects WHERE school_county =‘Los Angeles’;\n",
    "\n",
    "\n",
    "\n",
    "I don't know why yet but it was faster doing it this way (spelling out everything):\n",
    "\n",
    "CREATE TABLE donation_LA AS\n",
    "SELECT donations._projectid, \n",
    "donations._donationid, \n",
    "donations.is_teacher_acct, \n",
    "donations.payment_method, \n",
    "donations.payment_included_acct_credit,\n",
    "donations.payment_included_campaign_gift_card, \n",
    "donations.payment_included_web_purchased_gift_card, \n",
    "donations.donation_total, \n",
    "donations.dollar_amount,\n",
    "donations.donation_timestamp,\n",
    "donations.payment_was_promo_matched, \n",
    "donations.via_giving_page, \n",
    "donations.for_honoree, \n",
    "donations.donor_city, \n",
    "donations.donation_message, \n",
    "projects_LA.funding_status\n",
    "FROM projects_LA JOIN donations ON projects_LA._projectid= donations._projectid;"
   ]
  },
  {
   "cell_type": "code",
   "execution_count": 16,
   "metadata": {
    "collapsed": false
   },
   "outputs": [],
   "source": [
    "la_donations = fetch('*','donation_LA')"
   ]
  },
  {
   "cell_type": "code",
   "execution_count": 60,
   "metadata": {
    "collapsed": false
   },
   "outputs": [
    {
     "data": {
      "text/html": [
       "<div style=\"max-height:1000px;max-width:1500px;overflow:auto;\">\n",
       "<table border=\"1\" class=\"dataframe\">\n",
       "  <thead>\n",
       "    <tr style=\"text-align: right;\">\n",
       "      <th></th>\n",
       "      <th>_projectid</th>\n",
       "      <th>_donationid</th>\n",
       "      <th>is_teacher_acct</th>\n",
       "      <th>payment_method</th>\n",
       "      <th>payment_included_acct_credit</th>\n",
       "      <th>payment_included_campaign_gift_card</th>\n",
       "      <th>payment_included_web_purchased_gift_card</th>\n",
       "      <th>donation_total</th>\n",
       "      <th>dollar_amount</th>\n",
       "      <th>payment_was_promo_matched</th>\n",
       "      <th>via_giving_page</th>\n",
       "      <th>for_honoree</th>\n",
       "      <th>donor_city</th>\n",
       "      <th>donation_message</th>\n",
       "      <th>funding_status</th>\n",
       "      <th>funding_status_binary</th>\n",
       "    </tr>\n",
       "  </thead>\n",
       "  <tbody>\n",
       "    <tr>\n",
       "      <th>0</th>\n",
       "      <td>\"\"\"0434af307dc45294c2eb748ffd935767\"\"\"</td>\n",
       "      <td>\"\"\"83f29a83b88d0c7a1c96cf9bd9f3b2ab\"\"\"</td>\n",
       "      <td>0</td>\n",
       "      <td>no_cash_received</td>\n",
       "      <td>1</td>\n",
       "      <td>0</td>\n",
       "      <td>0</td>\n",
       "      <td>75.00</td>\n",
       "      <td>10_to_100</td>\n",
       "      <td>0</td>\n",
       "      <td>0</td>\n",
       "      <td>0</td>\n",
       "      <td></td>\n",
       "      <td></td>\n",
       "      <td>completed</td>\n",
       "      <td>1</td>\n",
       "    </tr>\n",
       "    <tr>\n",
       "      <th>1</th>\n",
       "      <td>\"\"\"59f17c3f118cef16b2fee23ed74753fe\"\"\"</td>\n",
       "      <td>\"\"\"db4df4b7ed7f3e2145fc4550243304d9\"\"\"</td>\n",
       "      <td>0</td>\n",
       "      <td>creditcard</td>\n",
       "      <td>0</td>\n",
       "      <td>0</td>\n",
       "      <td>0</td>\n",
       "      <td>100.00</td>\n",
       "      <td>100_and_up</td>\n",
       "      <td>0</td>\n",
       "      <td>0</td>\n",
       "      <td>0</td>\n",
       "      <td>LOS ANGELES</td>\n",
       "      <td>\"\"\"I gave to this project because I studied ab...</td>\n",
       "      <td>completed</td>\n",
       "      <td>1</td>\n",
       "    </tr>\n",
       "    <tr>\n",
       "      <th>2</th>\n",
       "      <td>\"\"\"464e9eb3a3918a2d3f2006513bd42949\"\"\"</td>\n",
       "      <td>\"\"\"36a2ca9827e7d6ea6eb6235205b55309\"\"\"</td>\n",
       "      <td>0</td>\n",
       "      <td>creditcard</td>\n",
       "      <td>0</td>\n",
       "      <td>0</td>\n",
       "      <td>0</td>\n",
       "      <td>40.00</td>\n",
       "      <td>10_to_100</td>\n",
       "      <td>0</td>\n",
       "      <td>0</td>\n",
       "      <td>0</td>\n",
       "      <td>\"\"</td>\n",
       "      <td>\"\"\"readers are like super heroes</td>\n",
       "      <td>completed</td>\n",
       "      <td>1</td>\n",
       "    </tr>\n",
       "    <tr>\n",
       "      <th>3</th>\n",
       "      <td>\"\"\"183af384da17ccbdd72140d8daabeb8a\"\"\"</td>\n",
       "      <td>\"\"\"c71d10db81e2c2e455d5a62dcf87550b\"\"\"</td>\n",
       "      <td>0</td>\n",
       "      <td>no_cash_received</td>\n",
       "      <td>0</td>\n",
       "      <td>1</td>\n",
       "      <td>0</td>\n",
       "      <td>10.00</td>\n",
       "      <td>10_to_100</td>\n",
       "      <td>0</td>\n",
       "      <td>0</td>\n",
       "      <td>0</td>\n",
       "      <td>\"\"</td>\n",
       "      <td>\"\"\"GOD BLESS YOU! KEEP UP THE GOOD WORK!\"\"\"</td>\n",
       "      <td>completed</td>\n",
       "      <td>1</td>\n",
       "    </tr>\n",
       "    <tr>\n",
       "      <th>4</th>\n",
       "      <td>\"\"\"350299a9765c77228f2bcb2c450a095d\"\"\"</td>\n",
       "      <td>\"\"\"8a8b40c32e06554570241cec6295e80c\"\"\"</td>\n",
       "      <td>0</td>\n",
       "      <td>no_cash_received</td>\n",
       "      <td>0</td>\n",
       "      <td>1</td>\n",
       "      <td>0</td>\n",
       "      <td>25.00</td>\n",
       "      <td>10_to_100</td>\n",
       "      <td>0</td>\n",
       "      <td>0</td>\n",
       "      <td>0</td>\n",
       "      <td></td>\n",
       "      <td></td>\n",
       "      <td>completed</td>\n",
       "      <td>1</td>\n",
       "    </tr>\n",
       "  </tbody>\n",
       "</table>\n",
       "</div>"
      ],
      "text/plain": [
       "                               _projectid  \\\n",
       "0  \"\"\"0434af307dc45294c2eb748ffd935767\"\"\"   \n",
       "1  \"\"\"59f17c3f118cef16b2fee23ed74753fe\"\"\"   \n",
       "2  \"\"\"464e9eb3a3918a2d3f2006513bd42949\"\"\"   \n",
       "3  \"\"\"183af384da17ccbdd72140d8daabeb8a\"\"\"   \n",
       "4  \"\"\"350299a9765c77228f2bcb2c450a095d\"\"\"   \n",
       "\n",
       "                              _donationid is_teacher_acct    payment_method  \\\n",
       "0  \"\"\"83f29a83b88d0c7a1c96cf9bd9f3b2ab\"\"\"               0  no_cash_received   \n",
       "1  \"\"\"db4df4b7ed7f3e2145fc4550243304d9\"\"\"               0        creditcard   \n",
       "2  \"\"\"36a2ca9827e7d6ea6eb6235205b55309\"\"\"               0        creditcard   \n",
       "3  \"\"\"c71d10db81e2c2e455d5a62dcf87550b\"\"\"               0  no_cash_received   \n",
       "4  \"\"\"8a8b40c32e06554570241cec6295e80c\"\"\"               0  no_cash_received   \n",
       "\n",
       "  payment_included_acct_credit payment_included_campaign_gift_card  \\\n",
       "0                            1                                   0   \n",
       "1                            0                                   0   \n",
       "2                            0                                   0   \n",
       "3                            0                                   1   \n",
       "4                            0                                   1   \n",
       "\n",
       "  payment_included_web_purchased_gift_card donation_total dollar_amount  \\\n",
       "0                                        0          75.00     10_to_100   \n",
       "1                                        0         100.00    100_and_up   \n",
       "2                                        0          40.00     10_to_100   \n",
       "3                                        0          10.00     10_to_100   \n",
       "4                                        0          25.00     10_to_100   \n",
       "\n",
       "  payment_was_promo_matched via_giving_page for_honoree   donor_city  \\\n",
       "0                         0               0           0                \n",
       "1                         0               0           0  LOS ANGELES   \n",
       "2                         0               0           0           \"\"   \n",
       "3                         0               0           0           \"\"   \n",
       "4                         0               0           0                \n",
       "\n",
       "                                    donation_message funding_status  \\\n",
       "0                                                         completed   \n",
       "1  \"\"\"I gave to this project because I studied ab...      completed   \n",
       "2                   \"\"\"readers are like super heroes      completed   \n",
       "3        \"\"\"GOD BLESS YOU! KEEP UP THE GOOD WORK!\"\"\"      completed   \n",
       "4                                                         completed   \n",
       "\n",
       "   funding_status_binary  \n",
       "0                      1  \n",
       "1                      1  \n",
       "2                      1  \n",
       "3                      1  \n",
       "4                      1  "
      ]
     },
     "execution_count": 60,
     "metadata": {},
     "output_type": "execute_result"
    }
   ],
   "source": [
    "la_donations.head()"
   ]
  },
  {
   "cell_type": "markdown",
   "metadata": {},
   "source": [
    "Need to convert payment_was_promo_matched into '1' and '0' so my sample proportions independent test can work."
   ]
  },
  {
   "cell_type": "code",
   "execution_count": 61,
   "metadata": {
    "collapsed": true
   },
   "outputs": [],
   "source": [
    "la_donations.payment_was_promo_matched = la_donations.payment_was_promo_matched.map({'t':'1','f':'0'}).astype(int)"
   ]
  },
  {
   "cell_type": "markdown",
   "metadata": {},
   "source": [
    "# Exploratory Analysis"
   ]
  },
  {
   "cell_type": "markdown",
   "metadata": {},
   "source": [
    "Most of the variables are leaky variables because they are related to payment and some are already included in the projects table; \n",
    "\n",
    "For_honoree (donation included an honoree) is not an option for payment anymore; will drop it.\n",
    "\n",
    "The only variables that are potentially informative, or at least interesting, are \n",
    "\n",
    "- is_teacher_acct: donation was made by a teacher\n",
    "- via_giving_page: true if the donation was made through a Giving Page\n",
    "- payment_was_promo_matched: a phrase that anyone can enter to activate a match (like Disney)"
   ]
  },
  {
   "cell_type": "markdown",
   "metadata": {},
   "source": [
    "##  When Teachers Have Donated"
   ]
  },
  {
   "cell_type": "code",
   "execution_count": 47,
   "metadata": {
    "collapsed": false
   },
   "outputs": [
    {
     "name": "stdout",
     "output_type": "stream",
     "text": [
      "confidence interval of enchanced success chance:  (-0.031795211794963363, -0.023391887943065681)\n"
     ]
    }
   ],
   "source": [
    "print 'confidence interval of enchanced success chance: ', sampleProportions_chanceOF_success('is_teacher_acct')"
   ]
  },
  {
   "cell_type": "markdown",
   "metadata": {},
   "source": [
    "Interesting! If a teacher has donated to a projects, that project is a little less likely to get funded. Maybe because the teacher him/herself tried to fund the projects? Anyway, it is not going to be part of the predictive model."
   ]
  },
  {
   "cell_type": "markdown",
   "metadata": {},
   "source": [
    "## Posting on a Giving Page"
   ]
  },
  {
   "cell_type": "code",
   "execution_count": 48,
   "metadata": {
    "collapsed": false
   },
   "outputs": [
    {
     "name": "stdout",
     "output_type": "stream",
     "text": [
      "confidence interval of enchanced success chance:  (0.013100546642633937, 0.01663640537536204)\n"
     ]
    }
   ],
   "source": [
    "print 'confidence interval of enchanced success chance: ', sampleProportions_chanceOF_success('via_giving_page')"
   ]
  },
  {
   "cell_type": "markdown",
   "metadata": {},
   "source": [
    "This is potentially an important feature. Projects which are posted on a giving page and therefore have more exposure, have a higher of success. That will be included in my model. "
   ]
  },
  {
   "cell_type": "markdown",
   "metadata": {},
   "source": [
    "## Donations Included a Promo Code Partnership"
   ]
  },
  {
   "cell_type": "code",
   "execution_count": 63,
   "metadata": {
    "collapsed": false
   },
   "outputs": [
    {
     "name": "stdout",
     "output_type": "stream",
     "text": [
      "confidence interval of enchanced success chance:  (0.0041577225661824091, 0.011119772379366566)\n"
     ]
    }
   ],
   "source": [
    "print 'confidence interval of enchanced success chance: ', sampleProportions_chanceOF_success('payment_was_promo_matched')"
   ]
  },
  {
   "cell_type": "markdown",
   "metadata": {},
   "source": [
    "Ok, similar to giving page, it potentially have predictive values."
   ]
  },
  {
   "cell_type": "markdown",
   "metadata": {},
   "source": [
    "# Writing The Potentially Important Variable"
   ]
  },
  {
   "cell_type": "code",
   "execution_count": 64,
   "metadata": {
    "collapsed": false
   },
   "outputs": [
    {
     "data": {
      "text/plain": [
       "Index([u'_projectid', u'_donationid', u'is_teacher_acct', u'payment_method',\n",
       "       u'payment_included_acct_credit', u'payment_included_campaign_gift_card',\n",
       "       u'payment_included_web_purchased_gift_card', u'donation_total',\n",
       "       u'dollar_amount', u'payment_was_promo_matched', u'via_giving_page',\n",
       "       u'for_honoree', u'donor_city', u'donation_message', u'funding_status',\n",
       "       u'funding_status_binary'],\n",
       "      dtype='object')"
      ]
     },
     "execution_count": 64,
     "metadata": {},
     "output_type": "execute_result"
    }
   ],
   "source": [
    "la_donations.columns"
   ]
  },
  {
   "cell_type": "code",
   "execution_count": 68,
   "metadata": {
    "collapsed": true
   },
   "outputs": [],
   "source": [
    "donations_impt_features = la_donations[['_projectid','payment_was_promo_matched','via_giving_page']]"
   ]
  },
  {
   "cell_type": "code",
   "execution_count": 71,
   "metadata": {
    "collapsed": false
   },
   "outputs": [],
   "source": [
    "donations_impt_features.to_csv('donations_preProcessed.csv',index=False)"
   ]
  }
 ],
 "metadata": {
  "kernelspec": {
   "display_name": "Python 2",
   "language": "python",
   "name": "python2"
  },
  "language_info": {
   "codemirror_mode": {
    "name": "ipython",
    "version": 2
   },
   "file_extension": ".py",
   "mimetype": "text/x-python",
   "name": "python",
   "nbconvert_exporter": "python",
   "pygments_lexer": "ipython2",
   "version": "2.7.9"
  }
 },
 "nbformat": 4,
 "nbformat_minor": 0
}
