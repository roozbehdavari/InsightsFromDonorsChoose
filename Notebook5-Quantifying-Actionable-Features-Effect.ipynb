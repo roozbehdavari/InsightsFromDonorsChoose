{
 "cells": [
  {
   "cell_type": "code",
   "execution_count": 1,
   "metadata": {
    "collapsed": false
   },
   "outputs": [
    {
     "name": "stderr",
     "output_type": "stream",
     "text": [
      "Loading required package: lattice\n"
     ]
    }
   ],
   "source": [
    "library('aod')\n",
    "library(ggplot2)\n",
    "library(caret)"
   ]
  },
  {
   "cell_type": "markdown",
   "metadata": {},
   "source": [
    "# Preprocessing"
   ]
  },
  {
   "cell_type": "markdown",
   "metadata": {},
   "source": [
    "The features are already selected. For mode details, see the preProcessing notebooks. \n",
    "\n",
    "Let's open the file:"
   ]
  },
  {
   "cell_type": "code",
   "execution_count": 102,
   "metadata": {
    "collapsed": false
   },
   "outputs": [],
   "source": [
    "features <- read.csv('features.csv')"
   ]
  },
  {
   "cell_type": "code",
   "execution_count": 104,
   "metadata": {
    "collapsed": false
   },
   "outputs": [
    {
     "data": {
      "text/html": [
       "<ol class=list-inline>\n",
       "\t<li>'X_projectid'</li>\n",
       "\t<li>'school_zip'</li>\n",
       "\t<li>'school_metro'</li>\n",
       "\t<li>'school_charter'</li>\n",
       "\t<li>'school_magnet'</li>\n",
       "\t<li>'school_year_round'</li>\n",
       "\t<li>'school_kipp'</li>\n",
       "\t<li>'school_charter_ready_promise'</li>\n",
       "\t<li>'teacher_teach_for_america'</li>\n",
       "\t<li>'grade_level'</li>\n",
       "\t<li>'total_price_excluding_optional_support'</li>\n",
       "\t<li>'total_price_including_optional_support'</li>\n",
       "\t<li>'students_reached'</li>\n",
       "\t<li>'eligible_double_your_impact_match'</li>\n",
       "\t<li>'eligible_almost_home_match'</li>\n",
       "\t<li>'funding_status'</li>\n",
       "\t<li>'funding_status_binary'</li>\n",
       "\t<li>'resource_type_grouped'</li>\n",
       "\t<li>'primary_focus_subject_grouped'</li>\n",
       "\t<li>'secondary_focus_subject_grouped'</li>\n",
       "\t<li>'poverty_level_grouped'</li>\n",
       "\t<li>'teacher_gender'</li>\n",
       "\t<li>'month_posted'</li>\n",
       "\t<li>'semester_posted'</li>\n",
       "\t<li>'previousProposal_Teacher'</li>\n",
       "\t<li>'previousProposal_School'</li>\n",
       "\t<li>'donor_per_zip'</li>\n",
       "\t<li>'donation_per_zip'</li>\n",
       "\t<li>'via_giving_page'</li>\n",
       "</ol>\n"
      ],
      "text/latex": [
       "\\begin{enumerate*}\n",
       "\\item 'X_projectid'\n",
       "\\item 'school_zip'\n",
       "\\item 'school_metro'\n",
       "\\item 'school_charter'\n",
       "\\item 'school_magnet'\n",
       "\\item 'school_year_round'\n",
       "\\item 'school_kipp'\n",
       "\\item 'school_charter_ready_promise'\n",
       "\\item 'teacher_teach_for_america'\n",
       "\\item 'grade_level'\n",
       "\\item 'total_price_excluding_optional_support'\n",
       "\\item 'total_price_including_optional_support'\n",
       "\\item 'students_reached'\n",
       "\\item 'eligible_double_your_impact_match'\n",
       "\\item 'eligible_almost_home_match'\n",
       "\\item 'funding_status'\n",
       "\\item 'funding_status_binary'\n",
       "\\item 'resource_type_grouped'\n",
       "\\item 'primary_focus_subject_grouped'\n",
       "\\item 'secondary_focus_subject_grouped'\n",
       "\\item 'poverty_level_grouped'\n",
       "\\item 'teacher_gender'\n",
       "\\item 'month_posted'\n",
       "\\item 'semester_posted'\n",
       "\\item 'previousProposal_Teacher'\n",
       "\\item 'previousProposal_School'\n",
       "\\item 'donor_per_zip'\n",
       "\\item 'donation_per_zip'\n",
       "\\item 'via_giving_page'\n",
       "\\end{enumerate*}\n"
      ],
      "text/markdown": [
       "1. 'X_projectid'\n",
       "2. 'school_zip'\n",
       "3. 'school_metro'\n",
       "4. 'school_charter'\n",
       "5. 'school_magnet'\n",
       "6. 'school_year_round'\n",
       "7. 'school_kipp'\n",
       "8. 'school_charter_ready_promise'\n",
       "9. 'teacher_teach_for_america'\n",
       "10. 'grade_level'\n",
       "11. 'total_price_excluding_optional_support'\n",
       "12. 'total_price_including_optional_support'\n",
       "13. 'students_reached'\n",
       "14. 'eligible_double_your_impact_match'\n",
       "15. 'eligible_almost_home_match'\n",
       "16. 'funding_status'\n",
       "17. 'funding_status_binary'\n",
       "18. 'resource_type_grouped'\n",
       "19. 'primary_focus_subject_grouped'\n",
       "20. 'secondary_focus_subject_grouped'\n",
       "21. 'poverty_level_grouped'\n",
       "22. 'teacher_gender'\n",
       "23. 'month_posted'\n",
       "24. 'semester_posted'\n",
       "25. 'previousProposal_Teacher'\n",
       "26. 'previousProposal_School'\n",
       "27. 'donor_per_zip'\n",
       "28. 'donation_per_zip'\n",
       "29. 'via_giving_page'\n",
       "\n",
       "\n"
      ],
      "text/plain": [
       " [1] \"X_projectid\"                           \n",
       " [2] \"school_zip\"                            \n",
       " [3] \"school_metro\"                          \n",
       " [4] \"school_charter\"                        \n",
       " [5] \"school_magnet\"                         \n",
       " [6] \"school_year_round\"                     \n",
       " [7] \"school_kipp\"                           \n",
       " [8] \"school_charter_ready_promise\"          \n",
       " [9] \"teacher_teach_for_america\"             \n",
       "[10] \"grade_level\"                           \n",
       "[11] \"total_price_excluding_optional_support\"\n",
       "[12] \"total_price_including_optional_support\"\n",
       "[13] \"students_reached\"                      \n",
       "[14] \"eligible_double_your_impact_match\"     \n",
       "[15] \"eligible_almost_home_match\"            \n",
       "[16] \"funding_status\"                        \n",
       "[17] \"funding_status_binary\"                 \n",
       "[18] \"resource_type_grouped\"                 \n",
       "[19] \"primary_focus_subject_grouped\"         \n",
       "[20] \"secondary_focus_subject_grouped\"       \n",
       "[21] \"poverty_level_grouped\"                 \n",
       "[22] \"teacher_gender\"                        \n",
       "[23] \"month_posted\"                          \n",
       "[24] \"semester_posted\"                       \n",
       "[25] \"previousProposal_Teacher\"              \n",
       "[26] \"previousProposal_School\"               \n",
       "[27] \"donor_per_zip\"                         \n",
       "[28] \"donation_per_zip\"                      \n",
       "[29] \"via_giving_page\"                       "
      ]
     },
     "execution_count": 104,
     "metadata": {},
     "output_type": "execute_result"
    }
   ],
   "source": [
    "names(features)"
   ]
  },
  {
   "cell_type": "markdown",
   "metadata": {},
   "source": [
    "## Actionable Important Features "
   ]
  },
  {
   "cell_type": "markdown",
   "metadata": {},
   "source": [
    "Only important actionable variables will go into logistic regression model. For more details, see Finding-Importanct-Variables notebook."
   ]
  },
  {
   "cell_type": "code",
   "execution_count": 105,
   "metadata": {
    "collapsed": false
   },
   "outputs": [],
   "source": [
    "categorical_col_names <- c('primary_focus_subject_grouped', 'resource_type_grouped'\n",
    "                           ,'eligible_double_your_impact_match', 'funding_status',\n",
    "                           'eligible_almost_home_match', 'semester_posted','via_giving_page')\n",
    "numerical_col_names <- c('total_price_including_optional_support', 'students_reached',\n",
    "                          'previousProposal_Teacher','previousProposal_School')\n",
    "\n",
    "categorical_features <- features[,categorical_col_names]\n",
    "numerical_features <- features[,numerical_col_names]"
   ]
  },
  {
   "cell_type": "markdown",
   "metadata": {},
   "source": [
    "## Scaling  "
   ]
  },
  {
   "cell_type": "markdown",
   "metadata": {},
   "source": [
    "It doesn't hurt to make sure the categorical variables are seen as factors:"
   ]
  },
  {
   "cell_type": "code",
   "execution_count": 106,
   "metadata": {
    "collapsed": true
   },
   "outputs": [],
   "source": [
    "categorical_features <- sapply(categorical_features,function(col) as.factor(col))"
   ]
  },
  {
   "cell_type": "markdown",
   "metadata": {},
   "source": [
    "The make the coefficients more related:\n",
    "\n",
    "1. Divide the total price by 100 \n",
    "2. Divide the number of students reached by 10\n",
    "3. Divide the number or teacher's and school's previouse proposals by 5"
   ]
  },
  {
   "cell_type": "code",
   "execution_count": 107,
   "metadata": {
    "collapsed": true
   },
   "outputs": [],
   "source": [
    "numerical_features$total_price_including_optional_support <- numerical_features$total_price_including_optional_support/100\n",
    "numerical_features$students_reached <- numerical_features$students_reached/10\n",
    "numerical_features$previousProposal_Teacher <- numerical_features$previousProposal_Teacher / 5\n",
    "numerical_features$previousProposal_School <- numerical_features$previousProposal_School / 5"
   ]
  },
  {
   "cell_type": "markdown",
   "metadata": {},
   "source": [
    "Time to combine the numerical and categorical features:"
   ]
  },
  {
   "cell_type": "code",
   "execution_count": 108,
   "metadata": {
    "collapsed": true
   },
   "outputs": [],
   "source": [
    "features <- cbind.data.frame(categorical_features,numerical_features)"
   ]
  },
  {
   "cell_type": "code",
   "execution_count": 109,
   "metadata": {
    "collapsed": false
   },
   "outputs": [
    {
     "data": {
      "text/html": [
       "<table>\n",
       "<thead><tr><th></th><th scope=col>primary_focus_subject_grouped</th><th scope=col>resource_type_grouped</th><th scope=col>eligible_double_your_impact_match</th><th scope=col>funding_status</th><th scope=col>eligible_almost_home_match</th><th scope=col>semester_posted</th><th scope=col>via_giving_page</th><th scope=col>total_price_including_optional_support</th><th scope=col>students_reached</th><th scope=col>previousProposal_Teacher</th><th scope=col>previousProposal_School</th></tr></thead>\n",
       "<tbody>\n",
       "\t<tr><th scope=row>1</th><td>other</td><td>Books_Supplies</td><td>0</td><td>completed</td><td>0</td><td>1st</td><td>False</td><td>14.375</td><td>8</td><td>5</td><td>62.4</td></tr>\n",
       "\t<tr><th scope=row>2</th><td>health</td><td>Technology_other</td><td>0</td><td>completed</td><td>0</td><td>1st</td><td>False</td><td>11.2126</td><td>9</td><td>11.4</td><td>62.4</td></tr>\n",
       "\t<tr><th scope=row>3</th><td>literacy_math</td><td>Books_Supplies</td><td>0</td><td>completed</td><td>0</td><td>1st</td><td>False</td><td>6.5126</td><td>9</td><td>0.8</td><td>6.6</td></tr>\n",
       "\t<tr><th scope=row>4</th><td>health</td><td>Technology_other</td><td>0</td><td>completed</td><td>0</td><td>1st</td><td>False</td><td>34.0876</td><td>9</td><td>11.4</td><td>62.4</td></tr>\n",
       "\t<tr><th scope=row>5</th><td>literacy_math</td><td>Books_Supplies</td><td>0</td><td>completed</td><td>0</td><td>1st</td><td>False</td><td>5.1126</td><td>2</td><td>0.4</td><td>14</td></tr>\n",
       "\t<tr><th scope=row>6</th><td>literacy_math</td><td>Books_Supplies</td><td>0</td><td>completed</td><td>0</td><td>1st</td><td>False</td><td>3.775</td><td>6</td><td>0.8</td><td>6.6</td></tr>\n",
       "</tbody>\n",
       "</table>\n"
      ],
      "text/latex": [
       "\\begin{tabular}{r|lllllllllll}\n",
       "  & primary_focus_subject_grouped & resource_type_grouped & eligible_double_your_impact_match & funding_status & eligible_almost_home_match & semester_posted & via_giving_page & total_price_including_optional_support & students_reached & previousProposal_Teacher & previousProposal_School\\\\\n",
       "\\hline\n",
       "\t1 & other & Books_Supplies & 0 & completed & 0 & 1st & False & 14.375 & 8 & 5 & 62.4\\\\\n",
       "\t2 & health & Technology_other & 0 & completed & 0 & 1st & False & 11.2126 & 9 & 11.4 & 62.4\\\\\n",
       "\t3 & literacy_math & Books_Supplies & 0 & completed & 0 & 1st & False & 6.5126 & 9 & 0.8 & 6.6\\\\\n",
       "\t4 & health & Technology_other & 0 & completed & 0 & 1st & False & 34.0876 & 9 & 11.4 & 62.4\\\\\n",
       "\t5 & literacy_math & Books_Supplies & 0 & completed & 0 & 1st & False & 5.1126 & 2 & 0.4 & 14\\\\\n",
       "\t6 & literacy_math & Books_Supplies & 0 & completed & 0 & 1st & False & 3.775 & 6 & 0.8 & 6.6\\\\\n",
       "\\end{tabular}\n"
      ],
      "text/plain": [
       "  primary_focus_subject_grouped resource_type_grouped\n",
       "1                         other        Books_Supplies\n",
       "2                        health      Technology_other\n",
       "3                 literacy_math        Books_Supplies\n",
       "4                        health      Technology_other\n",
       "5                 literacy_math        Books_Supplies\n",
       "6                 literacy_math        Books_Supplies\n",
       "  eligible_double_your_impact_match funding_status eligible_almost_home_match\n",
       "1                                 0      completed                          0\n",
       "2                                 0      completed                          0\n",
       "3                                 0      completed                          0\n",
       "4                                 0      completed                          0\n",
       "5                                 0      completed                          0\n",
       "6                                 0      completed                          0\n",
       "  semester_posted via_giving_page total_price_including_optional_support\n",
       "1             1st           False                                14.3750\n",
       "2             1st           False                                11.2126\n",
       "3             1st           False                                 6.5126\n",
       "4             1st           False                                34.0876\n",
       "5             1st           False                                 5.1126\n",
       "6             1st           False                                 3.7750\n",
       "  students_reached previousProposal_Teacher previousProposal_School\n",
       "1                8                      5.0                    62.4\n",
       "2                9                     11.4                    62.4\n",
       "3                9                      0.8                     6.6\n",
       "4                9                     11.4                    62.4\n",
       "5                2                      0.4                    14.0\n",
       "6                6                      0.8                     6.6"
      ]
     },
     "execution_count": 109,
     "metadata": {},
     "output_type": "execute_result"
    }
   ],
   "source": [
    "head(features)"
   ]
  },
  {
   "cell_type": "markdown",
   "metadata": {},
   "source": [
    "## Setting The Reference Level "
   ]
  },
  {
   "cell_type": "markdown",
   "metadata": {},
   "source": [
    "Something that will my life easier is to set the reference level of categorical variables. The levels of a factor are re-ordered so that the level specified by ref is first and the others are moved down.\n",
    "\n",
    "The reference level is choosen base on the explanatory analysis. For more details see preprocessing notebooks."
   ]
  },
  {
   "cell_type": "code",
   "execution_count": 110,
   "metadata": {
    "collapsed": true
   },
   "outputs": [],
   "source": [
    "# Music & Art are the most funded subjects\n",
    "features$primary_focus_subject_grouped <- relevel(features$primary_focus_subject_grouped, ref='music_art')\n",
    "\n",
    "# Trips & Visitors are the most funded requested resources\n",
    "features$resource_type_grouped <- relevel(features$resource_type_grouped, ref='Trips_Visitor')\n",
    "\n",
    "# Interested in the increase chance of success and not the other way\n",
    "features$funding_status <- relevel(features$funding_status, ref='expired')"
   ]
  },
  {
   "cell_type": "markdown",
   "metadata": {},
   "source": [
    "## Renaming Columns "
   ]
  },
  {
   "cell_type": "markdown",
   "metadata": {},
   "source": [
    "Some column names are funky. Need to make them more readable."
   ]
  },
  {
   "cell_type": "code",
   "execution_count": 111,
   "metadata": {
    "collapsed": false
   },
   "outputs": [
    {
     "data": {
      "text/html": [
       "<ol class=list-inline>\n",
       "\t<li>'primary_focus_subject_grouped'</li>\n",
       "\t<li>'resource_type_grouped'</li>\n",
       "\t<li>'eligible_double_your_impact_match'</li>\n",
       "\t<li>'funding_status'</li>\n",
       "\t<li>'eligible_almost_home_match'</li>\n",
       "\t<li>'semester_posted'</li>\n",
       "\t<li>'via_giving_page'</li>\n",
       "\t<li>'total_price_including_optional_support'</li>\n",
       "\t<li>'students_reached'</li>\n",
       "\t<li>'previousProposal_Teacher'</li>\n",
       "\t<li>'previousProposal_School'</li>\n",
       "</ol>\n"
      ],
      "text/latex": [
       "\\begin{enumerate*}\n",
       "\\item 'primary_focus_subject_grouped'\n",
       "\\item 'resource_type_grouped'\n",
       "\\item 'eligible_double_your_impact_match'\n",
       "\\item 'funding_status'\n",
       "\\item 'eligible_almost_home_match'\n",
       "\\item 'semester_posted'\n",
       "\\item 'via_giving_page'\n",
       "\\item 'total_price_including_optional_support'\n",
       "\\item 'students_reached'\n",
       "\\item 'previousProposal_Teacher'\n",
       "\\item 'previousProposal_School'\n",
       "\\end{enumerate*}\n"
      ],
      "text/markdown": [
       "1. 'primary_focus_subject_grouped'\n",
       "2. 'resource_type_grouped'\n",
       "3. 'eligible_double_your_impact_match'\n",
       "4. 'funding_status'\n",
       "5. 'eligible_almost_home_match'\n",
       "6. 'semester_posted'\n",
       "7. 'via_giving_page'\n",
       "8. 'total_price_including_optional_support'\n",
       "9. 'students_reached'\n",
       "10. 'previousProposal_Teacher'\n",
       "11. 'previousProposal_School'\n",
       "\n",
       "\n"
      ],
      "text/plain": [
       " [1] \"primary_focus_subject_grouped\"         \n",
       " [2] \"resource_type_grouped\"                 \n",
       " [3] \"eligible_double_your_impact_match\"     \n",
       " [4] \"funding_status\"                        \n",
       " [5] \"eligible_almost_home_match\"            \n",
       " [6] \"semester_posted\"                       \n",
       " [7] \"via_giving_page\"                       \n",
       " [8] \"total_price_including_optional_support\"\n",
       " [9] \"students_reached\"                      \n",
       "[10] \"previousProposal_Teacher\"              \n",
       "[11] \"previousProposal_School\"               "
      ]
     },
     "execution_count": 111,
     "metadata": {},
     "output_type": "execute_result"
    }
   ],
   "source": [
    "names(features)"
   ]
  },
  {
   "cell_type": "code",
   "execution_count": 113,
   "metadata": {
    "collapsed": false
   },
   "outputs": [],
   "source": [
    "colnames(features) <- c('Subject_', 'Resource_', 'Double_Match_', 'funding_status',\n",
    "                        'Almost_Home_Match_', 'Semester_Posted_', 'Giving_Page_', 'Total_Price', 'Students_Reached',\n",
    "                        'PreviousProposal_Teacher', 'PreviousProposal_School')"
   ]
  },
  {
   "cell_type": "markdown",
   "metadata": {},
   "source": [
    "## Train/Test "
   ]
  },
  {
   "cell_type": "markdown",
   "metadata": {},
   "source": [
    "\n",
    "\n",
    "\n",
    "\n",
    "\n",
    "\n",
    "\n"
   ]
  },
  {
   "cell_type": "markdown",
   "metadata": {},
   "source": [
    "75% goes to the training dataset and the rest to the test dataset."
   ]
  },
  {
   "cell_type": "code",
   "execution_count": 120,
   "metadata": {
    "collapsed": false
   },
   "outputs": [
    {
     "data": {
      "text/html": [
       "<ol class=list-inline>\n",
       "\t<li>34774</li>\n",
       "\t<li>11</li>\n",
       "</ol>\n"
      ],
      "text/latex": [
       "\\begin{enumerate*}\n",
       "\\item 34774\n",
       "\\item 11\n",
       "\\end{enumerate*}\n"
      ],
      "text/markdown": [
       "1. 34774\n",
       "2. 11\n",
       "\n",
       "\n"
      ],
      "text/plain": [
       "[1] 34774    11"
      ]
     },
     "execution_count": 120,
     "metadata": {},
     "output_type": "execute_result"
    },
    {
     "data": {
      "text/html": [
       "<ol class=list-inline>\n",
       "\t<li>11590</li>\n",
       "\t<li>11</li>\n",
       "</ol>\n"
      ],
      "text/latex": [
       "\\begin{enumerate*}\n",
       "\\item 11590\n",
       "\\item 11\n",
       "\\end{enumerate*}\n"
      ],
      "text/markdown": [
       "1. 11590\n",
       "2. 11\n",
       "\n",
       "\n"
      ],
      "text/plain": [
       "[1] 11590    11"
      ]
     },
     "execution_count": 120,
     "metadata": {},
     "output_type": "execute_result"
    }
   ],
   "source": [
    "set.seed(34)\n",
    "trainIndex <- createDataPartition(features$funding_status, p = .75, list = FALSE)\n",
    "\n",
    "train <- features[ trainIndex,]\n",
    "test  <- features[-trainIndex,]\n",
    "\n",
    "dim(train)\n",
    "dim(test)"
   ]
  },
  {
   "cell_type": "markdown",
   "metadata": {},
   "source": [
    "Good! Ready for feeding it into the dear GLM!"
   ]
  },
  {
   "cell_type": "markdown",
   "metadata": {},
   "source": [
    "# Building Model"
   ]
  },
  {
   "cell_type": "markdown",
   "metadata": {},
   "source": [
    "Logit provides the insight we are looking for."
   ]
  },
  {
   "cell_type": "code",
   "execution_count": 121,
   "metadata": {
    "collapsed": false
   },
   "outputs": [],
   "source": [
    "mylogit <- glm(funding_status ~ Total_Price + Giving_Page_ + Semester_Posted_ + PreviousProposal_Teacher +\n",
    "               PreviousProposal_School + Students_Reached + Double_Match_ + Almost_Home_Match_ + \n",
    "               Subject_ + Resource_ , data=train,family=binomial(logit))"
   ]
  },
  {
   "cell_type": "code",
   "execution_count": 122,
   "metadata": {
    "collapsed": false
   },
   "outputs": [
    {
     "data": {
      "text/plain": [
       "\n",
       "Call:\n",
       "glm(formula = funding_status ~ Total_Price + Giving_Page_ + Semester_Posted_ + \n",
       "    PreviousProposal_Teacher + PreviousProposal_School + Students_Reached + \n",
       "    Double_Match_ + Almost_Home_Match_ + Subject_ + Resource_, \n",
       "    family = binomial(logit), data = train)\n",
       "\n",
       "Deviance Residuals: \n",
       "    Min       1Q   Median       3Q      Max  \n",
       "-3.0254   0.2754   0.3698   0.5142   6.1822  \n",
       "\n",
       "Coefficients:\n",
       "                           Estimate Std. Error z value Pr(>|z|)    \n",
       "(Intercept)                2.800641   0.213623  13.110  < 2e-16 ***\n",
       "Total_Price               -0.041666   0.002442 -17.065  < 2e-16 ***\n",
       "Giving_Page_True           1.943373   0.035437  54.840  < 2e-16 ***\n",
       "Semester_Posted_2nd       -0.508396   0.032909 -15.449  < 2e-16 ***\n",
       "PreviousProposal_Teacher   0.016323   0.003880   4.207 2.59e-05 ***\n",
       "PreviousProposal_School    0.007484   0.001066   7.020 2.21e-12 ***\n",
       "Students_Reached          -0.002340   0.001050  -2.227 0.025920 *  \n",
       "Double_Match_1            -0.001256   0.035291  -0.036 0.971613    \n",
       "Almost_Home_Match_1       -0.093993   0.065030  -1.445 0.148354    \n",
       "Subject_community_related -0.050528   0.074161  -0.681 0.495663    \n",
       "Subject_health            -0.325014   0.070048  -4.640 3.49e-06 ***\n",
       "Subject_history_civics    -0.292064   0.087597  -3.334 0.000856 ***\n",
       "Subject_literacy_math     -0.357688   0.058805  -6.083 1.18e-09 ***\n",
       "Subject_other             -0.296772   0.101271  -2.930 0.003385 ** \n",
       "Resource_Books_Supplies   -1.202724   0.202995  -5.925 3.13e-09 ***\n",
       "Resource_Technology_other -1.653648   0.201209  -8.219  < 2e-16 ***\n",
       "---\n",
       "Signif. codes:  0 ‘***’ 0.001 ‘**’ 0.01 ‘*’ 0.05 ‘.’ 0.1 ‘ ’ 1\n",
       "\n",
       "(Dispersion parameter for binomial family taken to be 1)\n",
       "\n",
       "    Null deviance: 29671  on 34773  degrees of freedom\n",
       "Residual deviance: 24900  on 34758  degrees of freedom\n",
       "AIC: 24932\n",
       "\n",
       "Number of Fisher Scoring iterations: 5\n"
      ]
     },
     "execution_count": 122,
     "metadata": {},
     "output_type": "execute_result"
    }
   ],
   "source": [
    "summary(mylogit)"
   ]
  },
  {
   "cell_type": "markdown",
   "metadata": {},
   "source": [
    "Ha! The promotions are not that effective. Interesting. I am not surprised that the community related subjects have a similar success probability as music and art. That came out of the exploratory analysis, as well.\n",
    "\n",
    "Let's look at ANOVA $\\chi^2$ results:"
   ]
  },
  {
   "cell_type": "code",
   "execution_count": 136,
   "metadata": {
    "collapsed": false
   },
   "outputs": [
    {
     "data": {
      "text/html": [
       "<table>\n",
       "<thead><tr><th></th><th scope=col>Df</th><th scope=col>Deviance</th><th scope=col>Resid. Df</th><th scope=col>Resid. Dev</th><th scope=col>Pr(>Chi)</th></tr></thead>\n",
       "<tbody>\n",
       "\t<tr><th scope=row>NULL</th><td>NA</td><td>NA</td><td>34773</td><td>29670.89</td><td>NA</td></tr>\n",
       "\t<tr><th scope=row>Total_Price</th><td>1</td><td>358.8876</td><td>34772</td><td>29312.01</td><td>4.918122e-80</td></tr>\n",
       "\t<tr><th scope=row>Giving_Page_</th><td>1</td><td>3629.054</td><td>34771</td><td>25682.95</td><td>0</td></tr>\n",
       "\t<tr><th scope=row>Semester_Posted_</th><td>1</td><td>271.6844</td><td>34770</td><td>25411.27</td><td>4.873094e-61</td></tr>\n",
       "\t<tr><th scope=row>PreviousProposal_Teacher</th><td>1</td><td>126.8332</td><td>34769</td><td>25284.43</td><td>2.020633e-29</td></tr>\n",
       "\t<tr><th scope=row>PreviousProposal_School</th><td>1</td><td>43.50509</td><td>34768</td><td>25240.93</td><td>4.228576e-11</td></tr>\n",
       "\t<tr><th scope=row>Students_Reached</th><td>1</td><td>2.223169</td><td>34767</td><td>25238.71</td><td>0.1359537</td></tr>\n",
       "\t<tr><th scope=row>Double_Match_</th><td>1</td><td>0.1044614</td><td>34766</td><td>25238.6</td><td>0.7465401</td></tr>\n",
       "\t<tr><th scope=row>Almost_Home_Match_</th><td>1</td><td>0.8800693</td><td>34765</td><td>25237.72</td><td>0.3481827</td></tr>\n",
       "\t<tr><th scope=row>Subject_</th><td>5</td><td>78.29696</td><td>34760</td><td>25159.42</td><td>1.905456e-15</td></tr>\n",
       "\t<tr><th scope=row>Resource_</th><td>2</td><td>259.1977</td><td>34758</td><td>24900.23</td><td>5.199147e-57</td></tr>\n",
       "</tbody>\n",
       "</table>\n"
      ],
      "text/latex": [
       "\\begin{tabular}{r|lllll}\n",
       "  & Df & Deviance & Resid. Df & Resid. Dev & Pr(>Chi)\\\\\n",
       "\\hline\n",
       "\tNULL & NA & NA & 34773 & 29670.89 & NA\\\\\n",
       "\tTotal_Price & 1 & 358.8876 & 34772 & 29312.01 & 4.918122e-80\\\\\n",
       "\tGiving_Page_ & 1 & 3629.054 & 34771 & 25682.95 & 0\\\\\n",
       "\tSemester_Posted_ & 1 & 271.6844 & 34770 & 25411.27 & 4.873094e-61\\\\\n",
       "\tPreviousProposal_Teacher & 1 & 126.8332 & 34769 & 25284.43 & 2.020633e-29\\\\\n",
       "\tPreviousProposal_School & 1 & 43.50509 & 34768 & 25240.93 & 4.228576e-11\\\\\n",
       "\tStudents_Reached & 1 & 2.223169 & 34767 & 25238.71 & 0.1359537\\\\\n",
       "\tDouble_Match_ & 1 & 0.1044614 & 34766 & 25238.6 & 0.7465401\\\\\n",
       "\tAlmost_Home_Match_ & 1 & 0.8800693 & 34765 & 25237.72 & 0.3481827\\\\\n",
       "\tSubject_ & 5 & 78.29696 & 34760 & 25159.42 & 1.905456e-15\\\\\n",
       "\tResource_ & 2 & 259.1977 & 34758 & 24900.23 & 5.199147e-57\\\\\n",
       "\\end{tabular}\n"
      ],
      "text/plain": [
       "Analysis of Deviance Table\n",
       "\n",
       "Model: binomial, link: logit\n",
       "\n",
       "Response: funding_status\n",
       "\n",
       "Terms added sequentially (first to last)\n",
       "\n",
       "\n",
       "                         Df Deviance Resid. Df Resid. Dev  Pr(>Chi)    \n",
       "NULL                                     34773      29671              \n",
       "Total_Price               1    358.9     34772      29312 < 2.2e-16 ***\n",
       "Giving_Page_              1   3629.1     34771      25683 < 2.2e-16 ***\n",
       "Semester_Posted_          1    271.7     34770      25411 < 2.2e-16 ***\n",
       "PreviousProposal_Teacher  1    126.8     34769      25284 < 2.2e-16 ***\n",
       "PreviousProposal_School   1     43.5     34768      25241 4.229e-11 ***\n",
       "Students_Reached          1      2.2     34767      25239    0.1360    \n",
       "Double_Match_             1      0.1     34766      25239    0.7465    \n",
       "Almost_Home_Match_        1      0.9     34765      25238    0.3482    \n",
       "Subject_                  5     78.3     34760      25159 1.905e-15 ***\n",
       "Resource_                 2    259.2     34758      24900 < 2.2e-16 ***\n",
       "---\n",
       "Signif. codes:  0 ‘***’ 0.001 ‘**’ 0.01 ‘*’ 0.05 ‘.’ 0.1 ‘ ’ 1"
      ]
     },
     "execution_count": 136,
     "metadata": {},
     "output_type": "execute_result"
    }
   ],
   "source": [
    "anova(mylogit, test='Chisq')"
   ]
  },
  {
   "cell_type": "markdown",
   "metadata": {},
   "source": [
    "Wow, giving page is pretty important. I am surprised that the promotions are not that effective. Maybe because their prevalence is pretty low.\n",
    "\n",
    "Confidence intervals for odds ratios should tell us more."
   ]
  },
  {
   "cell_type": "code",
   "execution_count": 123,
   "metadata": {
    "collapsed": false
   },
   "outputs": [
    {
     "name": "stderr",
     "output_type": "stream",
     "text": [
      "Waiting for profiling to be done...\n"
     ]
    },
    {
     "data": {
      "text/html": [
       "<table>\n",
       "<thead><tr><th></th><th scope=col>OR</th><th scope=col>2.5 %</th><th scope=col>97.5 %</th></tr></thead>\n",
       "<tbody>\n",
       "\t<tr><th scope=row>(Intercept)</th><td>16.45519</td><td>10.98892</td><td>25.43683</td></tr>\n",
       "\t<tr><th scope=row>Total_Price</th><td>0.9591905</td><td>0.9545584</td><td>0.9637369</td></tr>\n",
       "\t<tr><th scope=row>Giving_Page_True</th><td>6.98226</td><td>6.515191</td><td>7.486154</td></tr>\n",
       "\t<tr><th scope=row>Semester_Posted_2nd</th><td>0.6014598</td><td>0.5638432</td><td>0.6414833</td></tr>\n",
       "\t<tr><th scope=row>PreviousProposal_Teacher</th><td>1.016457</td><td>1.008812</td><td>1.024276</td></tr>\n",
       "\t<tr><th scope=row>PreviousProposal_School</th><td>1.007512</td><td>1.005422</td><td>1.009633</td></tr>\n",
       "\t<tr><th scope=row>Students_Reached</th><td>0.9976631</td><td>0.9955312</td><td>0.9995501</td></tr>\n",
       "\t<tr><th scope=row>Double_Match_1</th><td>0.9987449</td><td>0.9320276</td><td>1.070315</td></tr>\n",
       "\t<tr><th scope=row>Almost_Home_Match_1</th><td>0.9102895</td><td>0.8023245</td><td>1.035354</td></tr>\n",
       "\t<tr><th scope=row>Subject_community_related</th><td>0.9507275</td><td>0.8219447</td><td>1.099313</td></tr>\n",
       "\t<tr><th scope=row>Subject_health</th><td>0.7225169</td><td>0.6295333</td><td>0.8284983</td></tr>\n",
       "\t<tr><th scope=row>Subject_history_civics</th><td>0.7467204</td><td>0.6292062</td><td>0.8870751</td></tr>\n",
       "\t<tr><th scope=row>Subject_literacy_math</th><td>0.6992915</td><td>0.6225512</td><td>0.7839803</td></tr>\n",
       "\t<tr><th scope=row>Subject_other</th><td>0.7432132</td><td>0.6101099</td><td>0.9075648</td></tr>\n",
       "\t<tr><th scope=row>Resource_Books_Supplies</th><td>0.3003748</td><td>0.1982646</td><td>0.440236</td></tr>\n",
       "\t<tr><th scope=row>Resource_Technology_other</th><td>0.1913506</td><td>0.1267456</td><td>0.2794676</td></tr>\n",
       "</tbody>\n",
       "</table>\n"
      ],
      "text/latex": [
       "\\begin{tabular}{r|lll}\n",
       "  & OR & 2.5 % & 97.5 %\\\\\n",
       "\\hline\n",
       "\t(Intercept) & 16.45519 & 10.98892 & 25.43683\\\\\n",
       "\tTotal_Price & 0.9591905 & 0.9545584 & 0.9637369\\\\\n",
       "\tGiving_Page_True & 6.98226 & 6.515191 & 7.486154\\\\\n",
       "\tSemester_Posted_2nd & 0.6014598 & 0.5638432 & 0.6414833\\\\\n",
       "\tPreviousProposal_Teacher & 1.016457 & 1.008812 & 1.024276\\\\\n",
       "\tPreviousProposal_School & 1.007512 & 1.005422 & 1.009633\\\\\n",
       "\tStudents_Reached & 0.9976631 & 0.9955312 & 0.9995501\\\\\n",
       "\tDouble_Match_1 & 0.9987449 & 0.9320276 & 1.070315\\\\\n",
       "\tAlmost_Home_Match_1 & 0.9102895 & 0.8023245 & 1.035354\\\\\n",
       "\tSubject_community_related & 0.9507275 & 0.8219447 & 1.099313\\\\\n",
       "\tSubject_health & 0.7225169 & 0.6295333 & 0.8284983\\\\\n",
       "\tSubject_history_civics & 0.7467204 & 0.6292062 & 0.8870751\\\\\n",
       "\tSubject_literacy_math & 0.6992915 & 0.6225512 & 0.7839803\\\\\n",
       "\tSubject_other & 0.7432132 & 0.6101099 & 0.9075648\\\\\n",
       "\tResource_Books_Supplies & 0.3003748 & 0.1982646 & 0.440236\\\\\n",
       "\tResource_Technology_other & 0.1913506 & 0.1267456 & 0.2794676\\\\\n",
       "\\end{tabular}\n"
      ],
      "text/markdown": [
       "1. 16.4551949086839\n",
       "2. 0.959190508557522\n",
       "3. 6.98225986840741\n",
       "4. 0.601459780123911\n",
       "5. 1.01645678120171\n",
       "6. 1.00751247248503\n",
       "7. 0.997663051638705\n",
       "8. 0.998744936289883\n",
       "9. 0.910289498394869\n",
       "10. 0.950727516023857\n",
       "11. 0.722516908900471\n",
       "12. 0.746720383403903\n",
       "13. 0.699291495875534\n",
       "14. 0.743213178838291\n",
       "15. 0.300374758696632\n",
       "16. 0.191350623406552\n",
       "17. 10.988915714864\n",
       "18. 0.954558389128105\n",
       "19. 6.51519053622564\n",
       "20. 0.563843214395214\n",
       "21. 1.00881220896303\n",
       "22. 1.00542181043391\n",
       "23. 0.995531201903863\n",
       "24. 0.932027576659106\n",
       "25. 0.802324530424443\n",
       "26. 0.821944703934594\n",
       "27. 0.629533338266854\n",
       "28. 0.629206194715427\n",
       "29. 0.622551180686586\n",
       "30. 0.610109870448242\n",
       "31. 0.198264597105935\n",
       "32. 0.12674555308391\n",
       "33. 25.4368262566158\n",
       "34. 0.963736904013927\n",
       "35. 7.48615390133916\n",
       "36. 0.641483267072335\n",
       "37. 1.02427626346724\n",
       "38. 1.00963274981753\n",
       "39. 0.99955008865999\n",
       "40. 1.07031486255975\n",
       "41. 1.03535369043205\n",
       "42. 1.09931307102721\n",
       "43. 0.828498340959576\n",
       "44. 0.88707513838\n",
       "45. 0.783980311024446\n",
       "46. 0.907564770861482\n",
       "47. 0.440236044103962\n",
       "48. 0.279467642450548\n",
       "\n",
       "\n"
      ],
      "text/plain": [
       "                                  OR      2.5 %     97.5 %\n",
       "(Intercept)               16.4551949 10.9889157 25.4368263\n",
       "Total_Price                0.9591905  0.9545584  0.9637369\n",
       "Giving_Page_True           6.9822599  6.5151905  7.4861539\n",
       "Semester_Posted_2nd        0.6014598  0.5638432  0.6414833\n",
       "PreviousProposal_Teacher   1.0164568  1.0088122  1.0242763\n",
       "PreviousProposal_School    1.0075125  1.0054218  1.0096327\n",
       "Students_Reached           0.9976631  0.9955312  0.9995501\n",
       "Double_Match_1             0.9987449  0.9320276  1.0703149\n",
       "Almost_Home_Match_1        0.9102895  0.8023245  1.0353537\n",
       "Subject_community_related  0.9507275  0.8219447  1.0993131\n",
       "Subject_health             0.7225169  0.6295333  0.8284983\n",
       "Subject_history_civics     0.7467204  0.6292062  0.8870751\n",
       "Subject_literacy_math      0.6992915  0.6225512  0.7839803\n",
       "Subject_other              0.7432132  0.6101099  0.9075648\n",
       "Resource_Books_Supplies    0.3003748  0.1982646  0.4402360\n",
       "Resource_Technology_other  0.1913506  0.1267456  0.2794676"
      ]
     },
     "execution_count": 123,
     "metadata": {},
     "output_type": "execute_result"
    }
   ],
   "source": [
    "## odds ratios and 95% CI\n",
    "exp(cbind(OR = coef(mylogit), confint(mylogit)))"
   ]
  },
  {
   "cell_type": "code",
   "execution_count": 133,
   "metadata": {
    "collapsed": false
   },
   "outputs": [
    {
     "data": {
      "text/html": [
       "<table>\n",
       "<thead><tr><th></th><th scope=col>success probability</th></tr></thead>\n",
       "<tbody>\n",
       "\t<tr><th scope=row>(Intercept)</th><td>0.9427105</td></tr>\n",
       "\t<tr><th scope=row>Total_Price</th><td>0.4895851</td></tr>\n",
       "\t<tr><th scope=row>Giving_Page_True</th><td>0.8747222</td></tr>\n",
       "\t<tr><th scope=row>Semester_Posted_2nd</th><td>0.3755697</td></tr>\n",
       "\t<tr><th scope=row>PreviousProposal_Teacher</th><td>0.5040806</td></tr>\n",
       "\t<tr><th scope=row>PreviousProposal_School</th><td>0.5018711</td></tr>\n",
       "\t<tr><th scope=row>Students_Reached</th><td>0.4994151</td></tr>\n",
       "\t<tr><th scope=row>Double_Match_1</th><td>0.499686</td></tr>\n",
       "\t<tr><th scope=row>Almost_Home_Match_1</th><td>0.4765191</td></tr>\n",
       "\t<tr><th scope=row>Subject_community_related</th><td>0.4873707</td></tr>\n",
       "\t<tr><th scope=row>Subject_health</th><td>0.4194542</td></tr>\n",
       "\t<tr><th scope=row>Subject_history_civics</th><td>0.4274985</td></tr>\n",
       "\t<tr><th scope=row>Subject_literacy_math</th><td>0.4115194</td></tr>\n",
       "\t<tr><th scope=row>Subject_other</th><td>0.4263467</td></tr>\n",
       "\t<tr><th scope=row>Resource_Books_Supplies</th><td>0.2309909</td></tr>\n",
       "\t<tr><th scope=row>Resource_Technology_other</th><td>0.1606165</td></tr>\n",
       "</tbody>\n",
       "</table>\n"
      ],
      "text/latex": [
       "\\begin{tabular}{r|l}\n",
       "  & success probability\\\\\n",
       "\\hline\n",
       "\t(Intercept) & 0.9427105\\\\\n",
       "\tTotal_Price & 0.4895851\\\\\n",
       "\tGiving_Page_True & 0.8747222\\\\\n",
       "\tSemester_Posted_2nd & 0.3755697\\\\\n",
       "\tPreviousProposal_Teacher & 0.5040806\\\\\n",
       "\tPreviousProposal_School & 0.5018711\\\\\n",
       "\tStudents_Reached & 0.4994151\\\\\n",
       "\tDouble_Match_1 & 0.499686\\\\\n",
       "\tAlmost_Home_Match_1 & 0.4765191\\\\\n",
       "\tSubject_community_related & 0.4873707\\\\\n",
       "\tSubject_health & 0.4194542\\\\\n",
       "\tSubject_history_civics & 0.4274985\\\\\n",
       "\tSubject_literacy_math & 0.4115194\\\\\n",
       "\tSubject_other & 0.4263467\\\\\n",
       "\tResource_Books_Supplies & 0.2309909\\\\\n",
       "\tResource_Technology_other & 0.1606165\\\\\n",
       "\\end{tabular}\n"
      ],
      "text/plain": [
       "                          success probability\n",
       "(Intercept)                         0.9427105\n",
       "Total_Price                         0.4895851\n",
       "Giving_Page_True                    0.8747222\n",
       "Semester_Posted_2nd                 0.3755697\n",
       "PreviousProposal_Teacher            0.5040806\n",
       "PreviousProposal_School             0.5018711\n",
       "Students_Reached                    0.4994151\n",
       "Double_Match_1                      0.4996860\n",
       "Almost_Home_Match_1                 0.4765191\n",
       "Subject_community_related           0.4873707\n",
       "Subject_health                      0.4194542\n",
       "Subject_history_civics              0.4274985\n",
       "Subject_literacy_math               0.4115194\n",
       "Subject_other                       0.4263467\n",
       "Resource_Books_Supplies             0.2309909\n",
       "Resource_Technology_other           0.1606165"
      ]
     },
     "execution_count": 133,
     "metadata": {},
     "output_type": "execute_result"
    }
   ],
   "source": [
    "prob <- as.data.frame(exp(coef(mylogit))/(exp(coef(mylogit)) + 1))\n",
    "colnames(prob) <- c('success probability')\n",
    "prob"
   ]
  },
  {
   "cell_type": "markdown",
   "metadata": {},
   "source": [
    "Very cool! See if teachers followed all the advies, the success probability will be pretty high as the intercept is %94. "
   ]
  },
  {
   "cell_type": "code",
   "execution_count": 227,
   "metadata": {
    "collapsed": false
   },
   "outputs": [
    {
     "data": {
      "text/html": [
       "<strong>1:</strong> 0.990087177058579"
      ],
      "text/latex": [
       "\\textbf{1:} 0.990087177058579"
      ],
      "text/markdown": [
       "**1:** 0.990087177058579"
      ],
      "text/plain": [
       "        1 \n",
       "0.9900872 "
      ]
     },
     "execution_count": 227,
     "metadata": {},
     "output_type": "execute_result"
    }
   ],
   "source": [
    "ideal.Case <- data.frame('music_art','Trips_Visitor','0','0','1st','True',4,1,1,2)\n",
    "colnames(ideal.Case) <- c('Subject_', 'Resource_', 'Double_Match_', 'Almost_Home_Match_', \n",
    "                       'Semester_Posted_', 'Giving_Page_', 'Total_Price', 'Students_Reached',\n",
    "                        'PreviousProposal_Teacher', 'PreviousProposal_School')\n",
    "predict(mylogit,newdata,type='response')"
   ]
  },
  {
   "cell_type": "markdown",
   "metadata": {},
   "source": [
    "Cool! For the ideal case, the success is almost gauranteed! Ideal case:\n",
    "\n",
    "1. Post your project on a Giving Page\n",
    "2. Post in the first quarter\n",
    "3. Keep the project cost aroun $400-600 (including all the fees)\n",
    "4. Relate your project to art or music\n",
    "5. Include a trip or a visitor "
   ]
  },
  {
   "cell_type": "markdown",
   "metadata": {},
   "source": [
    "# Model Accuracy "
   ]
  },
  {
   "cell_type": "markdown",
   "metadata": {},
   "source": [
    "Confusion Matrix in Caret is amazing and provides all sort of goodness of the model metrics."
   ]
  },
  {
   "cell_type": "code",
   "execution_count": 124,
   "metadata": {
    "collapsed": true
   },
   "outputs": [],
   "source": [
    "Y_test <- test$funding_status\n",
    "test$funding_status <- NULL"
   ]
  },
  {
   "cell_type": "markdown",
   "metadata": {},
   "source": [
    "Logit gives a probability for each level. I will use the 0.7 as a conservative model for completed. I picked this number as about 70% of the projects in LA are funded."
   ]
  },
  {
   "cell_type": "code",
   "execution_count": 130,
   "metadata": {
    "collapsed": false
   },
   "outputs": [],
   "source": [
    "prediction <- rep('completed',length(Y_test))\n",
    "\n",
    "prediction_prob <- predict(mylogit,test,type='response')\n",
    "prediction[prediction_prob < 0.7] <- 'expired'"
   ]
  },
  {
   "cell_type": "markdown",
   "metadata": {},
   "source": [
    "### Confusion Matirx "
   ]
  },
  {
   "cell_type": "code",
   "execution_count": 129,
   "metadata": {
    "collapsed": false
   },
   "outputs": [
    {
     "name": "stderr",
     "output_type": "stream",
     "text": [
      "Warning message:\n",
      "In confusionMatrix.default(Y_test, prediction): Levels are not in the same order for reference and data. Refactoring data to match."
     ]
    },
    {
     "data": {
      "text/plain": [
       "Confusion Matrix and Statistics\n",
       "\n",
       "           Reference\n",
       "Prediction  completed expired\n",
       "  completed      8634    1192\n",
       "  expired         838     926\n",
       "                                          \n",
       "               Accuracy : 0.8248          \n",
       "                 95% CI : (0.8178, 0.8317)\n",
       "    No Information Rate : 0.8173          \n",
       "    P-Value [Acc > NIR] : 0.01734         \n",
       "                                          \n",
       "                  Kappa : 0.3729          \n",
       " Mcnemar's Test P-Value : 4.697e-15       \n",
       "                                          \n",
       "            Sensitivity : 0.9115          \n",
       "            Specificity : 0.4372          \n",
       "         Pos Pred Value : 0.8787          \n",
       "         Neg Pred Value : 0.5249          \n",
       "             Prevalence : 0.8173          \n",
       "         Detection Rate : 0.7450          \n",
       "   Detection Prevalence : 0.8478          \n",
       "      Balanced Accuracy : 0.6744          \n",
       "                                          \n",
       "       'Positive' Class : completed       \n",
       "                                          "
      ]
     },
     "execution_count": 129,
     "metadata": {},
     "output_type": "execute_result"
    }
   ],
   "source": [
    "confusionMatrix(Y_test,prediction)"
   ]
  },
  {
   "cell_type": "markdown",
   "metadata": {},
   "source": [
    "The p-values looks good! It's measured for a one-sided test to see if the accuracy is better than the \"no information rate,\" which is taken to be the largest class percentage in the data.\n",
    "\n",
    "It's interesting that sensitivity and specificity are very much comparable to what random forest and gradient boosting provided. Although, the accuracy is a little lower. But logit is doing a descent job."
   ]
  }
 ],
 "metadata": {
  "kernelspec": {
   "display_name": "R",
   "language": "",
   "name": "ir"
  },
  "language_info": {
   "codemirror_mode": "r",
   "file_extension": ".r",
   "mimetype": "text/x-r-source",
   "name": "R",
   "pygments_lexer": "r",
   "version": "3.2.0"
  }
 },
 "nbformat": 4,
 "nbformat_minor": 0
}
